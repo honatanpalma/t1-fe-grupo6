{
  "cells": [
    {
      "cell_type": "markdown",
      "metadata": {
        "id": "view-in-github",
        "colab_type": "text"
      },
      "source": [
        "<a href=\"https://colab.research.google.com/github/honatanpalma/t1-fe-grupo6/blob/main/Tarea_Proyecto.ipynb\" target=\"_parent\"><img src=\"https://colab.research.google.com/assets/colab-badge.svg\" alt=\"Open In Colab\"/></a>"
      ]
    },
    {
      "cell_type": "markdown",
      "metadata": {
        "id": "Y9FCLIzbM9fn"
      },
      "source": [
        "# Hoja de Trabajo \\# 1 \n",
        "\n",
        "\n",
        "---\n",
        "\n",
        "\n",
        "por Josué Obregón <br>\n",
        "DS6011 - Feature Engineering <br>\n",
        "UVG Masters - Escuela de Negocios<br>\n"
      ]
    },
    {
      "cell_type": "markdown",
      "metadata": {
        "id": "w0-nImUHNxOv"
      },
      "source": [
        "## Objetivos\n",
        "\n",
        "El objetivo principal de esta hoja de trabajo  es familiarizar al estudiante en dos aspectos importantes para el desarrollo de la clase en general.\n",
        "\n",
        "El primer aspecto es el concepto básico de lo que es **Feature Engineering**. Esto lo lograremos con un ejemplo sencillo de aplicación de la transformación de las variables predictoras para obtener mejores resultados en un modelo predictivo.\n",
        "\n",
        "El segundo aspecto es el uso de las diferentes herramientas de tecnología que utilizaremos a lo largo del curso: GitHub, Google colab y la librería scikit-learn."
      ]
    },
    {
      "cell_type": "markdown",
      "metadata": {
        "id": "RYjZ_KEuTCTe"
      },
      "source": [
        "## Importación de librerías y carga de los datos a un pandas [DataFrame](https://pandas.pydata.org/pandas-docs/version/1.1.5/reference/frame.html)\n",
        "\n",
        "\n",
        "Las librerías que importaremos para empezar son pandas para el manejo de los datos y matplotlib para realizar algunas gráficas. \n",
        "\n",
        "Los datos fueron obtenidos de un estudio de la calidad de la segmentación de imagenes para células SK-BR-3. [Link al artículo con detalles de los datos](https://bmcbioinformatics.biomedcentral.com/articles/10.1186/1471-2105-8-340#Sec22) -- [Link a los datos](https://static-content.springer.com/esm/art%3A10.1186%2F1471-2105-8-340/MediaObjects/12859_2006_1712_MOESM1_ESM.csv)\n"
      ]
    },
    {
      "cell_type": "code",
      "execution_count": null,
      "metadata": {
        "id": "0q6Lu5uKPRoa"
      },
      "outputs": [],
      "source": [
        "import pandas as pd\n",
        "import matplotlib.pyplot as plt"
      ]
    },
    {
      "cell_type": "code",
      "execution_count": null,
      "metadata": {
        "id": "tbt7GzUNOT3O"
      },
      "outputs": [],
      "source": [
        "df = pd.read_csv('sample_data/INC06.csv', low_memory=False)"
      ]
    },
    {
      "cell_type": "code",
      "execution_count": null,
      "metadata": {
        "id": "0kgUhaQkOdwx"
      },
      "outputs": [],
      "source": [
        "dfo = pd.read_csv('sample_data/INC06.csv', low_memory=False)"
      ]
    },
    {
      "cell_type": "code",
      "source": [
        "dfs = dfo"
      ],
      "metadata": {
        "id": "cAzb-Ao1JN58"
      },
      "execution_count": null,
      "outputs": []
    },
    {
      "cell_type": "code",
      "execution_count": null,
      "metadata": {
        "colab": {
          "base_uri": "https://localhost:8080/",
          "height": 386
        },
        "id": "0MCGdyjEP-wp",
        "outputId": "e42e7b99-c100-4af8-ed09-62b0dc15d58a"
      },
      "outputs": [
        {
          "output_type": "execute_result",
          "data": {
            "text/plain": [
              "   ACCUMULATEDHOLDTIME     ACTUALFINISH      ACTUALSTART  \\\n",
              "0                  0.0  1/01/2023 08:31  1/01/2023 00:22   \n",
              "1                  0.0  1/01/2023 09:22  1/01/2023 00:32   \n",
              "2                  0.0  1/01/2023 08:07  1/01/2023 04:43   \n",
              "3                  0.0  1/01/2023 13:46  1/01/2023 04:54   \n",
              "4                  0.0  1/01/2023 13:46  1/01/2023 04:54   \n",
              "\n",
              "  MINUTOS_DURACION_AFECTACION HORAS_DURACION_AFECTACION  \\\n",
              "0                         489                      8.00   \n",
              "1                         529                      9.00   \n",
              "2                         204                      3.00   \n",
              "3                         532                      9.00   \n",
              "4                         532                      9.00   \n",
              "\n",
              "   DURACION_TIEMPO_ATENCION ADJUSTEDTARGETRESOLUTIONTIME      AFFECTEDDATE  \\\n",
              "0                         3                          NaN   1/01/2023 00:19   \n",
              "1                        48                          NaN  31/12/2022 23:44   \n",
              "2                       304                          NaN  31/12/2022 23:36   \n",
              "3                       208                          NaN   1/01/2023 01:25   \n",
              "4                       208                          NaN   1/01/2023 01:24   \n",
              "\n",
              "   HORA_AFECTACION     TURNO  ... GLOBALTICKETID PMCCIIMPACT SOURCESYSID  \\\n",
              "0                0  Nocturno  ...            NaN         NaN    14.30111   \n",
              "1               23  Nocturno  ...            NaN         1.0    14.37881   \n",
              "2               23  Nocturno  ...     31489538.0         3.0    15.83373   \n",
              "3                1  Nocturno  ...     31489549.0         3.0    16.05865   \n",
              "4                1  Nocturno  ...     31489549.0         2.0    16.06111   \n",
              "\n",
              "  OWNERSYSID LOCATION LOCATION_DESCRIPTION     LOCATION_CITY LOCATION_DEPTO  \\\n",
              "0  -90.35708   SRS681            BARBERENA         BARBERENA     SANTA ROSA   \n",
              "1  -90.28575   SRS688     NUEVA SANTA ROSA  NUEVA SANTA ROSA     SANTA ROSA   \n",
              "2  -89.42787   AVP789   RANCHO JOSE Y JOSE            CHAHAL   ALTA VERAPAZ   \n",
              "3  -89.77817   PTN521         ROSA ATITLAN          SAN LUIS          PETEN   \n",
              "4  -89.69531   PTN393        MACHAQUILAITO          SAN LUIS          PETEN   \n",
              "\n",
              "   CRITICO   CASE  \n",
              "0      NaN  train  \n",
              "1      NaN  train  \n",
              "2      NaN  train  \n",
              "3      NaN  train  \n",
              "4      NaN  train  \n",
              "\n",
              "[5 rows x 68 columns]"
            ],
            "text/html": [
              "\n",
              "  <div id=\"df-b3ae0a0d-05a8-4e81-93de-5a43d7f0c3be\">\n",
              "    <div class=\"colab-df-container\">\n",
              "      <div>\n",
              "<style scoped>\n",
              "    .dataframe tbody tr th:only-of-type {\n",
              "        vertical-align: middle;\n",
              "    }\n",
              "\n",
              "    .dataframe tbody tr th {\n",
              "        vertical-align: top;\n",
              "    }\n",
              "\n",
              "    .dataframe thead th {\n",
              "        text-align: right;\n",
              "    }\n",
              "</style>\n",
              "<table border=\"1\" class=\"dataframe\">\n",
              "  <thead>\n",
              "    <tr style=\"text-align: right;\">\n",
              "      <th></th>\n",
              "      <th>ACCUMULATEDHOLDTIME</th>\n",
              "      <th>ACTUALFINISH</th>\n",
              "      <th>ACTUALSTART</th>\n",
              "      <th>MINUTOS_DURACION_AFECTACION</th>\n",
              "      <th>HORAS_DURACION_AFECTACION</th>\n",
              "      <th>DURACION_TIEMPO_ATENCION</th>\n",
              "      <th>ADJUSTEDTARGETRESOLUTIONTIME</th>\n",
              "      <th>AFFECTEDDATE</th>\n",
              "      <th>HORA_AFECTACION</th>\n",
              "      <th>TURNO</th>\n",
              "      <th>...</th>\n",
              "      <th>GLOBALTICKETID</th>\n",
              "      <th>PMCCIIMPACT</th>\n",
              "      <th>SOURCESYSID</th>\n",
              "      <th>OWNERSYSID</th>\n",
              "      <th>LOCATION</th>\n",
              "      <th>LOCATION_DESCRIPTION</th>\n",
              "      <th>LOCATION_CITY</th>\n",
              "      <th>LOCATION_DEPTO</th>\n",
              "      <th>CRITICO</th>\n",
              "      <th>CASE</th>\n",
              "    </tr>\n",
              "  </thead>\n",
              "  <tbody>\n",
              "    <tr>\n",
              "      <th>0</th>\n",
              "      <td>0.0</td>\n",
              "      <td>1/01/2023 08:31</td>\n",
              "      <td>1/01/2023 00:22</td>\n",
              "      <td>489</td>\n",
              "      <td>8.00</td>\n",
              "      <td>3</td>\n",
              "      <td>NaN</td>\n",
              "      <td>1/01/2023 00:19</td>\n",
              "      <td>0</td>\n",
              "      <td>Nocturno</td>\n",
              "      <td>...</td>\n",
              "      <td>NaN</td>\n",
              "      <td>NaN</td>\n",
              "      <td>14.30111</td>\n",
              "      <td>-90.35708</td>\n",
              "      <td>SRS681</td>\n",
              "      <td>BARBERENA</td>\n",
              "      <td>BARBERENA</td>\n",
              "      <td>SANTA ROSA</td>\n",
              "      <td>NaN</td>\n",
              "      <td>train</td>\n",
              "    </tr>\n",
              "    <tr>\n",
              "      <th>1</th>\n",
              "      <td>0.0</td>\n",
              "      <td>1/01/2023 09:22</td>\n",
              "      <td>1/01/2023 00:32</td>\n",
              "      <td>529</td>\n",
              "      <td>9.00</td>\n",
              "      <td>48</td>\n",
              "      <td>NaN</td>\n",
              "      <td>31/12/2022 23:44</td>\n",
              "      <td>23</td>\n",
              "      <td>Nocturno</td>\n",
              "      <td>...</td>\n",
              "      <td>NaN</td>\n",
              "      <td>1.0</td>\n",
              "      <td>14.37881</td>\n",
              "      <td>-90.28575</td>\n",
              "      <td>SRS688</td>\n",
              "      <td>NUEVA SANTA ROSA</td>\n",
              "      <td>NUEVA SANTA ROSA</td>\n",
              "      <td>SANTA ROSA</td>\n",
              "      <td>NaN</td>\n",
              "      <td>train</td>\n",
              "    </tr>\n",
              "    <tr>\n",
              "      <th>2</th>\n",
              "      <td>0.0</td>\n",
              "      <td>1/01/2023 08:07</td>\n",
              "      <td>1/01/2023 04:43</td>\n",
              "      <td>204</td>\n",
              "      <td>3.00</td>\n",
              "      <td>304</td>\n",
              "      <td>NaN</td>\n",
              "      <td>31/12/2022 23:36</td>\n",
              "      <td>23</td>\n",
              "      <td>Nocturno</td>\n",
              "      <td>...</td>\n",
              "      <td>31489538.0</td>\n",
              "      <td>3.0</td>\n",
              "      <td>15.83373</td>\n",
              "      <td>-89.42787</td>\n",
              "      <td>AVP789</td>\n",
              "      <td>RANCHO JOSE Y JOSE</td>\n",
              "      <td>CHAHAL</td>\n",
              "      <td>ALTA VERAPAZ</td>\n",
              "      <td>NaN</td>\n",
              "      <td>train</td>\n",
              "    </tr>\n",
              "    <tr>\n",
              "      <th>3</th>\n",
              "      <td>0.0</td>\n",
              "      <td>1/01/2023 13:46</td>\n",
              "      <td>1/01/2023 04:54</td>\n",
              "      <td>532</td>\n",
              "      <td>9.00</td>\n",
              "      <td>208</td>\n",
              "      <td>NaN</td>\n",
              "      <td>1/01/2023 01:25</td>\n",
              "      <td>1</td>\n",
              "      <td>Nocturno</td>\n",
              "      <td>...</td>\n",
              "      <td>31489549.0</td>\n",
              "      <td>3.0</td>\n",
              "      <td>16.05865</td>\n",
              "      <td>-89.77817</td>\n",
              "      <td>PTN521</td>\n",
              "      <td>ROSA ATITLAN</td>\n",
              "      <td>SAN LUIS</td>\n",
              "      <td>PETEN</td>\n",
              "      <td>NaN</td>\n",
              "      <td>train</td>\n",
              "    </tr>\n",
              "    <tr>\n",
              "      <th>4</th>\n",
              "      <td>0.0</td>\n",
              "      <td>1/01/2023 13:46</td>\n",
              "      <td>1/01/2023 04:54</td>\n",
              "      <td>532</td>\n",
              "      <td>9.00</td>\n",
              "      <td>208</td>\n",
              "      <td>NaN</td>\n",
              "      <td>1/01/2023 01:24</td>\n",
              "      <td>1</td>\n",
              "      <td>Nocturno</td>\n",
              "      <td>...</td>\n",
              "      <td>31489549.0</td>\n",
              "      <td>2.0</td>\n",
              "      <td>16.06111</td>\n",
              "      <td>-89.69531</td>\n",
              "      <td>PTN393</td>\n",
              "      <td>MACHAQUILAITO</td>\n",
              "      <td>SAN LUIS</td>\n",
              "      <td>PETEN</td>\n",
              "      <td>NaN</td>\n",
              "      <td>train</td>\n",
              "    </tr>\n",
              "  </tbody>\n",
              "</table>\n",
              "<p>5 rows × 68 columns</p>\n",
              "</div>\n",
              "      <button class=\"colab-df-convert\" onclick=\"convertToInteractive('df-b3ae0a0d-05a8-4e81-93de-5a43d7f0c3be')\"\n",
              "              title=\"Convert this dataframe to an interactive table.\"\n",
              "              style=\"display:none;\">\n",
              "        \n",
              "  <svg xmlns=\"http://www.w3.org/2000/svg\" height=\"24px\"viewBox=\"0 0 24 24\"\n",
              "       width=\"24px\">\n",
              "    <path d=\"M0 0h24v24H0V0z\" fill=\"none\"/>\n",
              "    <path d=\"M18.56 5.44l.94 2.06.94-2.06 2.06-.94-2.06-.94-.94-2.06-.94 2.06-2.06.94zm-11 1L8.5 8.5l.94-2.06 2.06-.94-2.06-.94L8.5 2.5l-.94 2.06-2.06.94zm10 10l.94 2.06.94-2.06 2.06-.94-2.06-.94-.94-2.06-.94 2.06-2.06.94z\"/><path d=\"M17.41 7.96l-1.37-1.37c-.4-.4-.92-.59-1.43-.59-.52 0-1.04.2-1.43.59L10.3 9.45l-7.72 7.72c-.78.78-.78 2.05 0 2.83L4 21.41c.39.39.9.59 1.41.59.51 0 1.02-.2 1.41-.59l7.78-7.78 2.81-2.81c.8-.78.8-2.07 0-2.86zM5.41 20L4 18.59l7.72-7.72 1.47 1.35L5.41 20z\"/>\n",
              "  </svg>\n",
              "      </button>\n",
              "      \n",
              "  <style>\n",
              "    .colab-df-container {\n",
              "      display:flex;\n",
              "      flex-wrap:wrap;\n",
              "      gap: 12px;\n",
              "    }\n",
              "\n",
              "    .colab-df-convert {\n",
              "      background-color: #E8F0FE;\n",
              "      border: none;\n",
              "      border-radius: 50%;\n",
              "      cursor: pointer;\n",
              "      display: none;\n",
              "      fill: #1967D2;\n",
              "      height: 32px;\n",
              "      padding: 0 0 0 0;\n",
              "      width: 32px;\n",
              "    }\n",
              "\n",
              "    .colab-df-convert:hover {\n",
              "      background-color: #E2EBFA;\n",
              "      box-shadow: 0px 1px 2px rgba(60, 64, 67, 0.3), 0px 1px 3px 1px rgba(60, 64, 67, 0.15);\n",
              "      fill: #174EA6;\n",
              "    }\n",
              "\n",
              "    [theme=dark] .colab-df-convert {\n",
              "      background-color: #3B4455;\n",
              "      fill: #D2E3FC;\n",
              "    }\n",
              "\n",
              "    [theme=dark] .colab-df-convert:hover {\n",
              "      background-color: #434B5C;\n",
              "      box-shadow: 0px 1px 3px 1px rgba(0, 0, 0, 0.15);\n",
              "      filter: drop-shadow(0px 1px 2px rgba(0, 0, 0, 0.3));\n",
              "      fill: #FFFFFF;\n",
              "    }\n",
              "  </style>\n",
              "\n",
              "      <script>\n",
              "        const buttonEl =\n",
              "          document.querySelector('#df-b3ae0a0d-05a8-4e81-93de-5a43d7f0c3be button.colab-df-convert');\n",
              "        buttonEl.style.display =\n",
              "          google.colab.kernel.accessAllowed ? 'block' : 'none';\n",
              "\n",
              "        async function convertToInteractive(key) {\n",
              "          const element = document.querySelector('#df-b3ae0a0d-05a8-4e81-93de-5a43d7f0c3be');\n",
              "          const dataTable =\n",
              "            await google.colab.kernel.invokeFunction('convertToInteractive',\n",
              "                                                     [key], {});\n",
              "          if (!dataTable) return;\n",
              "\n",
              "          const docLinkHtml = 'Like what you see? Visit the ' +\n",
              "            '<a target=\"_blank\" href=https://colab.research.google.com/notebooks/data_table.ipynb>data table notebook</a>'\n",
              "            + ' to learn more about interactive tables.';\n",
              "          element.innerHTML = '';\n",
              "          dataTable['output_type'] = 'display_data';\n",
              "          await google.colab.output.renderOutput(dataTable, element);\n",
              "          const docLink = document.createElement('div');\n",
              "          docLink.innerHTML = docLinkHtml;\n",
              "          element.appendChild(docLink);\n",
              "        }\n",
              "      </script>\n",
              "    </div>\n",
              "  </div>\n",
              "  "
            ]
          },
          "metadata": {},
          "execution_count": 106
        }
      ],
      "source": [
        "df.head()"
      ]
    },
    {
      "cell_type": "code",
      "execution_count": null,
      "metadata": {
        "colab": {
          "base_uri": "https://localhost:8080/",
          "height": 393
        },
        "id": "LaPgg-g4OgxB",
        "outputId": "a1490b61-78c3-49d6-d79a-742548a91234"
      },
      "outputs": [
        {
          "output_type": "execute_result",
          "data": {
            "text/plain": [
              "       ACCUMULATEDHOLDTIME  DURACION_TIEMPO_ATENCION  HORA_AFECTACION  \\\n",
              "count          6626.000000               6626.000000      6626.000000   \n",
              "mean              7.238777                172.117718        14.072140   \n",
              "std              51.584251                258.855833         6.149969   \n",
              "min               0.000000                  0.000000         0.000000   \n",
              "25%               0.000000                 15.000000         9.000000   \n",
              "50%               0.000000                 53.000000        18.000000   \n",
              "75%               0.000000                210.750000        18.000000   \n",
              "max             978.700000               1428.000000        23.000000   \n",
              "\n",
              "       CLASSIFICATIONID     ISGLOBAL  RELATEDTOGLOBAL  ISMAINTENANCE  \\\n",
              "count      6.626000e+03  6626.000000      6626.000000    6626.000000   \n",
              "mean       9.627144e+11     0.120133         0.450951       0.121340   \n",
              "std        4.299000e+12     0.325141         0.497626       0.326547   \n",
              "min        2.025000e+03     0.000000         0.000000       0.000000   \n",
              "25%        2.025010e+07     0.000000         0.000000       0.000000   \n",
              "50%        2.025011e+07     0.000000         0.000000       0.000000   \n",
              "75%        2.025020e+09     0.000000         1.000000       0.000000   \n",
              "max        2.030000e+13     1.000000         1.000000       1.000000   \n",
              "\n",
              "       HASACTIVITY   HASLD  HASSOLUTION  ...  REPORTECARTOGRAFICO  \\\n",
              "count  6626.000000  6626.0  6626.000000  ...          6626.000000   \n",
              "mean      0.086176     1.0     0.738756  ...             0.000604   \n",
              "std       0.280644     0.0     0.439346  ...             0.024564   \n",
              "min       0.000000     1.0     0.000000  ...             0.000000   \n",
              "25%       0.000000     1.0     0.000000  ...             0.000000   \n",
              "50%       0.000000     1.0     1.000000  ...             0.000000   \n",
              "75%       0.000000     1.0     1.000000  ...             0.000000   \n",
              "max       1.000000     1.0     1.000000  ...             1.000000   \n",
              "\n",
              "       REPORTEDPRIORITY  SELFSERVSOLACCESS    SITEVISIT      SOLUTION  \\\n",
              "count       1006.000000             6626.0  6626.000000  2.744000e+03   \n",
              "mean           3.257455                0.0     0.078328  1.558362e+06   \n",
              "std            0.646705                0.0     0.268707  6.272905e+05   \n",
              "min            3.000000                0.0     0.000000  1.014000e+03   \n",
              "25%            3.000000                0.0     0.000000  1.811010e+06   \n",
              "50%            3.000000                0.0     0.000000  1.811048e+06   \n",
              "75%            3.000000                0.0     0.000000  1.811048e+06   \n",
              "max            5.000000                0.0     1.000000  1.813932e+06   \n",
              "\n",
              "           TICKETID     TK_HIJOS  GLOBALTICKETID  PMCCIIMPACT  CRITICO  \n",
              "count  6.626000e+03  6626.000000    2.988000e+03  2465.000000      6.0  \n",
              "mean   3.183443e+07     0.731210    3.181126e+07     2.701014      1.0  \n",
              "std    2.020125e+05     4.573035    2.051003e+05     0.679789      0.0  \n",
              "min    3.148600e+07     0.000000    3.035199e+07     1.000000      1.0  \n",
              "25%    3.167283e+07     0.000000    3.164995e+07     3.000000      1.0  \n",
              "50%    3.181744e+07     0.000000    3.178262e+07     3.000000      1.0  \n",
              "75%    3.201991e+07     0.000000    3.197764e+07     3.000000      1.0  \n",
              "max    3.218829e+07   115.000000    3.218583e+07     3.000000      1.0  \n",
              "\n",
              "[8 rows x 24 columns]"
            ],
            "text/html": [
              "\n",
              "  <div id=\"df-c8fad208-ca23-42de-8a8a-d51b6c2908e7\">\n",
              "    <div class=\"colab-df-container\">\n",
              "      <div>\n",
              "<style scoped>\n",
              "    .dataframe tbody tr th:only-of-type {\n",
              "        vertical-align: middle;\n",
              "    }\n",
              "\n",
              "    .dataframe tbody tr th {\n",
              "        vertical-align: top;\n",
              "    }\n",
              "\n",
              "    .dataframe thead th {\n",
              "        text-align: right;\n",
              "    }\n",
              "</style>\n",
              "<table border=\"1\" class=\"dataframe\">\n",
              "  <thead>\n",
              "    <tr style=\"text-align: right;\">\n",
              "      <th></th>\n",
              "      <th>ACCUMULATEDHOLDTIME</th>\n",
              "      <th>DURACION_TIEMPO_ATENCION</th>\n",
              "      <th>HORA_AFECTACION</th>\n",
              "      <th>CLASSIFICATIONID</th>\n",
              "      <th>ISGLOBAL</th>\n",
              "      <th>RELATEDTOGLOBAL</th>\n",
              "      <th>ISMAINTENANCE</th>\n",
              "      <th>HASACTIVITY</th>\n",
              "      <th>HASLD</th>\n",
              "      <th>HASSOLUTION</th>\n",
              "      <th>...</th>\n",
              "      <th>REPORTECARTOGRAFICO</th>\n",
              "      <th>REPORTEDPRIORITY</th>\n",
              "      <th>SELFSERVSOLACCESS</th>\n",
              "      <th>SITEVISIT</th>\n",
              "      <th>SOLUTION</th>\n",
              "      <th>TICKETID</th>\n",
              "      <th>TK_HIJOS</th>\n",
              "      <th>GLOBALTICKETID</th>\n",
              "      <th>PMCCIIMPACT</th>\n",
              "      <th>CRITICO</th>\n",
              "    </tr>\n",
              "  </thead>\n",
              "  <tbody>\n",
              "    <tr>\n",
              "      <th>count</th>\n",
              "      <td>6626.000000</td>\n",
              "      <td>6626.000000</td>\n",
              "      <td>6626.000000</td>\n",
              "      <td>6.626000e+03</td>\n",
              "      <td>6626.000000</td>\n",
              "      <td>6626.000000</td>\n",
              "      <td>6626.000000</td>\n",
              "      <td>6626.000000</td>\n",
              "      <td>6626.0</td>\n",
              "      <td>6626.000000</td>\n",
              "      <td>...</td>\n",
              "      <td>6626.000000</td>\n",
              "      <td>1006.000000</td>\n",
              "      <td>6626.0</td>\n",
              "      <td>6626.000000</td>\n",
              "      <td>2.744000e+03</td>\n",
              "      <td>6.626000e+03</td>\n",
              "      <td>6626.000000</td>\n",
              "      <td>2.988000e+03</td>\n",
              "      <td>2465.000000</td>\n",
              "      <td>6.0</td>\n",
              "    </tr>\n",
              "    <tr>\n",
              "      <th>mean</th>\n",
              "      <td>7.238777</td>\n",
              "      <td>172.117718</td>\n",
              "      <td>14.072140</td>\n",
              "      <td>9.627144e+11</td>\n",
              "      <td>0.120133</td>\n",
              "      <td>0.450951</td>\n",
              "      <td>0.121340</td>\n",
              "      <td>0.086176</td>\n",
              "      <td>1.0</td>\n",
              "      <td>0.738756</td>\n",
              "      <td>...</td>\n",
              "      <td>0.000604</td>\n",
              "      <td>3.257455</td>\n",
              "      <td>0.0</td>\n",
              "      <td>0.078328</td>\n",
              "      <td>1.558362e+06</td>\n",
              "      <td>3.183443e+07</td>\n",
              "      <td>0.731210</td>\n",
              "      <td>3.181126e+07</td>\n",
              "      <td>2.701014</td>\n",
              "      <td>1.0</td>\n",
              "    </tr>\n",
              "    <tr>\n",
              "      <th>std</th>\n",
              "      <td>51.584251</td>\n",
              "      <td>258.855833</td>\n",
              "      <td>6.149969</td>\n",
              "      <td>4.299000e+12</td>\n",
              "      <td>0.325141</td>\n",
              "      <td>0.497626</td>\n",
              "      <td>0.326547</td>\n",
              "      <td>0.280644</td>\n",
              "      <td>0.0</td>\n",
              "      <td>0.439346</td>\n",
              "      <td>...</td>\n",
              "      <td>0.024564</td>\n",
              "      <td>0.646705</td>\n",
              "      <td>0.0</td>\n",
              "      <td>0.268707</td>\n",
              "      <td>6.272905e+05</td>\n",
              "      <td>2.020125e+05</td>\n",
              "      <td>4.573035</td>\n",
              "      <td>2.051003e+05</td>\n",
              "      <td>0.679789</td>\n",
              "      <td>0.0</td>\n",
              "    </tr>\n",
              "    <tr>\n",
              "      <th>min</th>\n",
              "      <td>0.000000</td>\n",
              "      <td>0.000000</td>\n",
              "      <td>0.000000</td>\n",
              "      <td>2.025000e+03</td>\n",
              "      <td>0.000000</td>\n",
              "      <td>0.000000</td>\n",
              "      <td>0.000000</td>\n",
              "      <td>0.000000</td>\n",
              "      <td>1.0</td>\n",
              "      <td>0.000000</td>\n",
              "      <td>...</td>\n",
              "      <td>0.000000</td>\n",
              "      <td>3.000000</td>\n",
              "      <td>0.0</td>\n",
              "      <td>0.000000</td>\n",
              "      <td>1.014000e+03</td>\n",
              "      <td>3.148600e+07</td>\n",
              "      <td>0.000000</td>\n",
              "      <td>3.035199e+07</td>\n",
              "      <td>1.000000</td>\n",
              "      <td>1.0</td>\n",
              "    </tr>\n",
              "    <tr>\n",
              "      <th>25%</th>\n",
              "      <td>0.000000</td>\n",
              "      <td>15.000000</td>\n",
              "      <td>9.000000</td>\n",
              "      <td>2.025010e+07</td>\n",
              "      <td>0.000000</td>\n",
              "      <td>0.000000</td>\n",
              "      <td>0.000000</td>\n",
              "      <td>0.000000</td>\n",
              "      <td>1.0</td>\n",
              "      <td>0.000000</td>\n",
              "      <td>...</td>\n",
              "      <td>0.000000</td>\n",
              "      <td>3.000000</td>\n",
              "      <td>0.0</td>\n",
              "      <td>0.000000</td>\n",
              "      <td>1.811010e+06</td>\n",
              "      <td>3.167283e+07</td>\n",
              "      <td>0.000000</td>\n",
              "      <td>3.164995e+07</td>\n",
              "      <td>3.000000</td>\n",
              "      <td>1.0</td>\n",
              "    </tr>\n",
              "    <tr>\n",
              "      <th>50%</th>\n",
              "      <td>0.000000</td>\n",
              "      <td>53.000000</td>\n",
              "      <td>18.000000</td>\n",
              "      <td>2.025011e+07</td>\n",
              "      <td>0.000000</td>\n",
              "      <td>0.000000</td>\n",
              "      <td>0.000000</td>\n",
              "      <td>0.000000</td>\n",
              "      <td>1.0</td>\n",
              "      <td>1.000000</td>\n",
              "      <td>...</td>\n",
              "      <td>0.000000</td>\n",
              "      <td>3.000000</td>\n",
              "      <td>0.0</td>\n",
              "      <td>0.000000</td>\n",
              "      <td>1.811048e+06</td>\n",
              "      <td>3.181744e+07</td>\n",
              "      <td>0.000000</td>\n",
              "      <td>3.178262e+07</td>\n",
              "      <td>3.000000</td>\n",
              "      <td>1.0</td>\n",
              "    </tr>\n",
              "    <tr>\n",
              "      <th>75%</th>\n",
              "      <td>0.000000</td>\n",
              "      <td>210.750000</td>\n",
              "      <td>18.000000</td>\n",
              "      <td>2.025020e+09</td>\n",
              "      <td>0.000000</td>\n",
              "      <td>1.000000</td>\n",
              "      <td>0.000000</td>\n",
              "      <td>0.000000</td>\n",
              "      <td>1.0</td>\n",
              "      <td>1.000000</td>\n",
              "      <td>...</td>\n",
              "      <td>0.000000</td>\n",
              "      <td>3.000000</td>\n",
              "      <td>0.0</td>\n",
              "      <td>0.000000</td>\n",
              "      <td>1.811048e+06</td>\n",
              "      <td>3.201991e+07</td>\n",
              "      <td>0.000000</td>\n",
              "      <td>3.197764e+07</td>\n",
              "      <td>3.000000</td>\n",
              "      <td>1.0</td>\n",
              "    </tr>\n",
              "    <tr>\n",
              "      <th>max</th>\n",
              "      <td>978.700000</td>\n",
              "      <td>1428.000000</td>\n",
              "      <td>23.000000</td>\n",
              "      <td>2.030000e+13</td>\n",
              "      <td>1.000000</td>\n",
              "      <td>1.000000</td>\n",
              "      <td>1.000000</td>\n",
              "      <td>1.000000</td>\n",
              "      <td>1.0</td>\n",
              "      <td>1.000000</td>\n",
              "      <td>...</td>\n",
              "      <td>1.000000</td>\n",
              "      <td>5.000000</td>\n",
              "      <td>0.0</td>\n",
              "      <td>1.000000</td>\n",
              "      <td>1.813932e+06</td>\n",
              "      <td>3.218829e+07</td>\n",
              "      <td>115.000000</td>\n",
              "      <td>3.218583e+07</td>\n",
              "      <td>3.000000</td>\n",
              "      <td>1.0</td>\n",
              "    </tr>\n",
              "  </tbody>\n",
              "</table>\n",
              "<p>8 rows × 24 columns</p>\n",
              "</div>\n",
              "      <button class=\"colab-df-convert\" onclick=\"convertToInteractive('df-c8fad208-ca23-42de-8a8a-d51b6c2908e7')\"\n",
              "              title=\"Convert this dataframe to an interactive table.\"\n",
              "              style=\"display:none;\">\n",
              "        \n",
              "  <svg xmlns=\"http://www.w3.org/2000/svg\" height=\"24px\"viewBox=\"0 0 24 24\"\n",
              "       width=\"24px\">\n",
              "    <path d=\"M0 0h24v24H0V0z\" fill=\"none\"/>\n",
              "    <path d=\"M18.56 5.44l.94 2.06.94-2.06 2.06-.94-2.06-.94-.94-2.06-.94 2.06-2.06.94zm-11 1L8.5 8.5l.94-2.06 2.06-.94-2.06-.94L8.5 2.5l-.94 2.06-2.06.94zm10 10l.94 2.06.94-2.06 2.06-.94-2.06-.94-.94-2.06-.94 2.06-2.06.94z\"/><path d=\"M17.41 7.96l-1.37-1.37c-.4-.4-.92-.59-1.43-.59-.52 0-1.04.2-1.43.59L10.3 9.45l-7.72 7.72c-.78.78-.78 2.05 0 2.83L4 21.41c.39.39.9.59 1.41.59.51 0 1.02-.2 1.41-.59l7.78-7.78 2.81-2.81c.8-.78.8-2.07 0-2.86zM5.41 20L4 18.59l7.72-7.72 1.47 1.35L5.41 20z\"/>\n",
              "  </svg>\n",
              "      </button>\n",
              "      \n",
              "  <style>\n",
              "    .colab-df-container {\n",
              "      display:flex;\n",
              "      flex-wrap:wrap;\n",
              "      gap: 12px;\n",
              "    }\n",
              "\n",
              "    .colab-df-convert {\n",
              "      background-color: #E8F0FE;\n",
              "      border: none;\n",
              "      border-radius: 50%;\n",
              "      cursor: pointer;\n",
              "      display: none;\n",
              "      fill: #1967D2;\n",
              "      height: 32px;\n",
              "      padding: 0 0 0 0;\n",
              "      width: 32px;\n",
              "    }\n",
              "\n",
              "    .colab-df-convert:hover {\n",
              "      background-color: #E2EBFA;\n",
              "      box-shadow: 0px 1px 2px rgba(60, 64, 67, 0.3), 0px 1px 3px 1px rgba(60, 64, 67, 0.15);\n",
              "      fill: #174EA6;\n",
              "    }\n",
              "\n",
              "    [theme=dark] .colab-df-convert {\n",
              "      background-color: #3B4455;\n",
              "      fill: #D2E3FC;\n",
              "    }\n",
              "\n",
              "    [theme=dark] .colab-df-convert:hover {\n",
              "      background-color: #434B5C;\n",
              "      box-shadow: 0px 1px 3px 1px rgba(0, 0, 0, 0.15);\n",
              "      filter: drop-shadow(0px 1px 2px rgba(0, 0, 0, 0.3));\n",
              "      fill: #FFFFFF;\n",
              "    }\n",
              "  </style>\n",
              "\n",
              "      <script>\n",
              "        const buttonEl =\n",
              "          document.querySelector('#df-c8fad208-ca23-42de-8a8a-d51b6c2908e7 button.colab-df-convert');\n",
              "        buttonEl.style.display =\n",
              "          google.colab.kernel.accessAllowed ? 'block' : 'none';\n",
              "\n",
              "        async function convertToInteractive(key) {\n",
              "          const element = document.querySelector('#df-c8fad208-ca23-42de-8a8a-d51b6c2908e7');\n",
              "          const dataTable =\n",
              "            await google.colab.kernel.invokeFunction('convertToInteractive',\n",
              "                                                     [key], {});\n",
              "          if (!dataTable) return;\n",
              "\n",
              "          const docLinkHtml = 'Like what you see? Visit the ' +\n",
              "            '<a target=\"_blank\" href=https://colab.research.google.com/notebooks/data_table.ipynb>data table notebook</a>'\n",
              "            + ' to learn more about interactive tables.';\n",
              "          element.innerHTML = '';\n",
              "          dataTable['output_type'] = 'display_data';\n",
              "          await google.colab.output.renderOutput(dataTable, element);\n",
              "          const docLink = document.createElement('div');\n",
              "          docLink.innerHTML = docLinkHtml;\n",
              "          element.appendChild(docLink);\n",
              "        }\n",
              "      </script>\n",
              "    </div>\n",
              "  </div>\n",
              "  "
            ]
          },
          "metadata": {},
          "execution_count": 107
        }
      ],
      "source": [
        "df.describe()"
      ]
    },
    {
      "cell_type": "code",
      "execution_count": null,
      "metadata": {
        "colab": {
          "base_uri": "https://localhost:8080/"
        },
        "id": "lrmT-22kPLXz",
        "outputId": "003beb90-fdad-4b03-c9fc-4ee6356e3c37"
      },
      "outputs": [
        {
          "output_type": "stream",
          "name": "stdout",
          "text": [
            "<class 'pandas.core.frame.DataFrame'>\n",
            "RangeIndex: 6626 entries, 0 to 6625\n",
            "Data columns (total 68 columns):\n",
            " #   Column                        Non-Null Count  Dtype  \n",
            "---  ------                        --------------  -----  \n",
            " 0   ACCUMULATEDHOLDTIME           6626 non-null   float64\n",
            " 1   ACTUALFINISH                  6626 non-null   object \n",
            " 2   ACTUALSTART                   6626 non-null   object \n",
            " 3   MINUTOS_DURACION_AFECTACION   6626 non-null   object \n",
            " 4   HORAS_DURACION_AFECTACION     6626 non-null   object \n",
            " 5   DURACION_TIEMPO_ATENCION      6626 non-null   int64  \n",
            " 6   ADJUSTEDTARGETRESOLUTIONTIME  1671 non-null   object \n",
            " 7   AFFECTEDDATE                  6626 non-null   object \n",
            " 8   HORA_AFECTACION               6626 non-null   int64  \n",
            " 9   TURNO                         6626 non-null   object \n",
            " 10  AFFECTEDEMAIL                 1325 non-null   object \n",
            " 11  AFFECTEDPERSON                6385 non-null   object \n",
            " 12  AFFECTEDPHONE                 537 non-null    object \n",
            " 13  ASSETSITEID                   1 non-null      object \n",
            " 14  ASSIGNEDOWNERGROUP            6626 non-null   object \n",
            " 15  CHANGEBY                      6626 non-null   object \n",
            " 16  CHANGEDATE                    6626 non-null   object \n",
            " 17  CINUM                         6626 non-null   object \n",
            " 18  CLASSIFICATIONID              6626 non-null   float64\n",
            " 19  COMMODITYGROUP                862 non-null    object \n",
            " 20  CREATEDBY                     6626 non-null   object \n",
            " 21  ENDSLAHOLD                    136 non-null    object \n",
            " 22  EXTERNALSYSTEM                6404 non-null   object \n",
            " 23  EXTERNALSYSTEM_TICKETID       5039 non-null   object \n",
            " 24  FAILURECODE                   2369 non-null   object \n",
            " 25  FOLLOWUPDATE                  512 non-null    object \n",
            " 26  GLOBALTICKETCLASS             2988 non-null   object \n",
            " 27  ISGLOBAL                      6626 non-null   int64  \n",
            " 28  RELATEDTOGLOBAL               6626 non-null   int64  \n",
            " 29  ISMAINTENANCE                 6626 non-null   int64  \n",
            " 30  HASACTIVITY                   6626 non-null   int64  \n",
            " 31  HASLD                         6626 non-null   int64  \n",
            " 32  HASSOLUTION                   6626 non-null   int64  \n",
            " 33  HISTORYFLAG                   6626 non-null   int64  \n",
            " 34  INTERNALPRIORITY              6626 non-null   int64  \n",
            " 35  ORIGRECORDCLASS               0 non-null      float64\n",
            " 36  OUTAGEDURATION                6626 non-null   float64\n",
            " 37  OWNER                         1041 non-null   object \n",
            " 38  OWNERGROUP                    5587 non-null   object \n",
            " 39  PMCOSOLAPPLIEDBY              2747 non-null   object \n",
            " 40  PMCOSOLAPPLIEDDATE            2747 non-null   object \n",
            " 41  PMCOSOLSTATUS                 2744 non-null   object \n",
            " 42  PROVIDER                      5041 non-null   object \n",
            " 43  REPORTDATE                    6626 non-null   object \n",
            " 44  REPORTECARTOGRAFICO           6626 non-null   int64  \n",
            " 45  REPORTEDBY                    6473 non-null   object \n",
            " 46  REPORTEDPRIORITY              1006 non-null   float64\n",
            " 47  SELFSERVSOLACCESS             6626 non-null   int64  \n",
            " 48  SITEID                        6626 non-null   object \n",
            " 49  SITEVISIT                     6626 non-null   int64  \n",
            " 50  SOLUTION                      2744 non-null   float64\n",
            " 51  STATUS                        6626 non-null   object \n",
            " 52  STATUSDATE                    6626 non-null   object \n",
            " 53  SUPERVISOR                    144 non-null    object \n",
            " 54  TEMPLATEID                    1198 non-null   object \n",
            " 55  TICKETID                      6626 non-null   int64  \n",
            " 56  TK_HIJOS                      6626 non-null   int64  \n",
            " 57  VENDOR                        580 non-null    object \n",
            " 58  GLOBALTICKETID                2988 non-null   float64\n",
            " 59  PMCCIIMPACT                   2465 non-null   float64\n",
            " 60  SOURCESYSID                   5324 non-null   object \n",
            " 61  OWNERSYSID                    5324 non-null   object \n",
            " 62  LOCATION                      6626 non-null   object \n",
            " 63  LOCATION_DESCRIPTION          4754 non-null   object \n",
            " 64  LOCATION_CITY                 4790 non-null   object \n",
            " 65  LOCATION_DEPTO                4783 non-null   object \n",
            " 66  CRITICO                       6 non-null      float64\n",
            " 67  CASE                          6626 non-null   object \n",
            "dtypes: float64(9), int64(15), object(44)\n",
            "memory usage: 3.4+ MB\n"
          ]
        }
      ],
      "source": [
        "df.info()"
      ]
    },
    {
      "cell_type": "code",
      "execution_count": null,
      "metadata": {
        "id": "GGx7J8OyP1XU"
      },
      "outputs": [],
      "source": [
        "import pandas as pd\n",
        "import numpy as np\n",
        "import matplotlib.pyplot as plt\n",
        "import statsmodels.api as sm"
      ]
    },
    {
      "cell_type": "code",
      "execution_count": null,
      "metadata": {
        "colab": {
          "base_uri": "https://localhost:8080/",
          "height": 542
        },
        "id": "QkWsyhsCPVck",
        "outputId": "1d7cbb46-6aa0-45f0-e484-d0978fadd581"
      },
      "outputs": [
        {
          "output_type": "stream",
          "name": "stderr",
          "text": [
            "<ipython-input-110-8ea533fc6edd>:1: FutureWarning: The default value of numeric_only in DataFrame.corr is deprecated. In a future version, it will default to False. Select only valid columns or specify the value of numeric_only to silence this warning.\n",
            "  corr = df.set_index('AFFECTEDDATE').corr()\n"
          ]
        },
        {
          "output_type": "display_data",
          "data": {
            "text/plain": [
              "<Figure size 640x480 with 2 Axes>"
            ],
            "image/png": "[encoded data removed]"
          },
          "metadata": {}
        }
      ],
      "source": [
        "corr = df.set_index('AFFECTEDDATE').corr()\n",
        "sm.graphics.plot_corr(corr, xnames=list(corr.columns))\n",
        "plt.show()\n"
      ]
    },
    {
      "cell_type": "code",
      "execution_count": null,
      "metadata": {
        "id": "wJ26mXffRhMv"
      },
      "outputs": [],
      "source": [
        "columns = ['HORA_AFECTACION', 'MINUTOS_DURACION_AFECTACION', 'TURNO', 'CASE']\n",
        "new_names = ['PredictorA','PredictorB', 'Class', 'Case']"
      ]
    },
    {
      "cell_type": "code",
      "execution_count": null,
      "metadata": {
        "id": "oXOTh-amU8Yh"
      },
      "outputs": [],
      "source": [
        "df = df[columns]\n",
        "df.columns = new_names"
      ]
    },
    {
      "cell_type": "code",
      "execution_count": null,
      "metadata": {
        "id": "1d6yMspsYB0M"
      },
      "outputs": [],
      "source": []
    },
    {
      "cell_type": "code",
      "execution_count": null,
      "metadata": {
        "colab": {
          "base_uri": "https://localhost:8080/",
          "height": 206
        },
        "id": "ovgi_zhpVIXH",
        "outputId": "fe7467c4-334c-4fe8-d6b1-41397f160205"
      },
      "outputs": [
        {
          "output_type": "execute_result",
          "data": {
            "text/plain": [
              "   PredictorA PredictorB     Class   Case\n",
              "0           0        489  Nocturno  train\n",
              "1          23        529  Nocturno  train\n",
              "2          23        204  Nocturno  train\n",
              "3           1        532  Nocturno  train\n",
              "4           1        532  Nocturno  train"
            ],
            "text/html": [
              "\n",
              "  <div id=\"df-ba83269c-b3df-4a2b-ba57-61b9d7e8fcaf\">\n",
              "    <div class=\"colab-df-container\">\n",
              "      <div>\n",
              "<style scoped>\n",
              "    .dataframe tbody tr th:only-of-type {\n",
              "        vertical-align: middle;\n",
              "    }\n",
              "\n",
              "    .dataframe tbody tr th {\n",
              "        vertical-align: top;\n",
              "    }\n",
              "\n",
              "    .dataframe thead th {\n",
              "        text-align: right;\n",
              "    }\n",
              "</style>\n",
              "<table border=\"1\" class=\"dataframe\">\n",
              "  <thead>\n",
              "    <tr style=\"text-align: right;\">\n",
              "      <th></th>\n",
              "      <th>PredictorA</th>\n",
              "      <th>PredictorB</th>\n",
              "      <th>Class</th>\n",
              "      <th>Case</th>\n",
              "    </tr>\n",
              "  </thead>\n",
              "  <tbody>\n",
              "    <tr>\n",
              "      <th>0</th>\n",
              "      <td>0</td>\n",
              "      <td>489</td>\n",
              "      <td>Nocturno</td>\n",
              "      <td>train</td>\n",
              "    </tr>\n",
              "    <tr>\n",
              "      <th>1</th>\n",
              "      <td>23</td>\n",
              "      <td>529</td>\n",
              "      <td>Nocturno</td>\n",
              "      <td>train</td>\n",
              "    </tr>\n",
              "    <tr>\n",
              "      <th>2</th>\n",
              "      <td>23</td>\n",
              "      <td>204</td>\n",
              "      <td>Nocturno</td>\n",
              "      <td>train</td>\n",
              "    </tr>\n",
              "    <tr>\n",
              "      <th>3</th>\n",
              "      <td>1</td>\n",
              "      <td>532</td>\n",
              "      <td>Nocturno</td>\n",
              "      <td>train</td>\n",
              "    </tr>\n",
              "    <tr>\n",
              "      <th>4</th>\n",
              "      <td>1</td>\n",
              "      <td>532</td>\n",
              "      <td>Nocturno</td>\n",
              "      <td>train</td>\n",
              "    </tr>\n",
              "  </tbody>\n",
              "</table>\n",
              "</div>\n",
              "      <button class=\"colab-df-convert\" onclick=\"convertToInteractive('df-ba83269c-b3df-4a2b-ba57-61b9d7e8fcaf')\"\n",
              "              title=\"Convert this dataframe to an interactive table.\"\n",
              "              style=\"display:none;\">\n",
              "        \n",
              "  <svg xmlns=\"http://www.w3.org/2000/svg\" height=\"24px\"viewBox=\"0 0 24 24\"\n",
              "       width=\"24px\">\n",
              "    <path d=\"M0 0h24v24H0V0z\" fill=\"none\"/>\n",
              "    <path d=\"M18.56 5.44l.94 2.06.94-2.06 2.06-.94-2.06-.94-.94-2.06-.94 2.06-2.06.94zm-11 1L8.5 8.5l.94-2.06 2.06-.94-2.06-.94L8.5 2.5l-.94 2.06-2.06.94zm10 10l.94 2.06.94-2.06 2.06-.94-2.06-.94-.94-2.06-.94 2.06-2.06.94z\"/><path d=\"M17.41 7.96l-1.37-1.37c-.4-.4-.92-.59-1.43-.59-.52 0-1.04.2-1.43.59L10.3 9.45l-7.72 7.72c-.78.78-.78 2.05 0 2.83L4 21.41c.39.39.9.59 1.41.59.51 0 1.02-.2 1.41-.59l7.78-7.78 2.81-2.81c.8-.78.8-2.07 0-2.86zM5.41 20L4 18.59l7.72-7.72 1.47 1.35L5.41 20z\"/>\n",
              "  </svg>\n",
              "      </button>\n",
              "      \n",
              "  <style>\n",
              "    .colab-df-container {\n",
              "      display:flex;\n",
              "      flex-wrap:wrap;\n",
              "      gap: 12px;\n",
              "    }\n",
              "\n",
              "    .colab-df-convert {\n",
              "      background-color: #E8F0FE;\n",
              "      border: none;\n",
              "      border-radius: 50%;\n",
              "      cursor: pointer;\n",
              "      display: none;\n",
              "      fill: #1967D2;\n",
              "      height: 32px;\n",
              "      padding: 0 0 0 0;\n",
              "      width: 32px;\n",
              "    }\n",
              "\n",
              "    .colab-df-convert:hover {\n",
              "      background-color: #E2EBFA;\n",
              "      box-shadow: 0px 1px 2px rgba(60, 64, 67, 0.3), 0px 1px 3px 1px rgba(60, 64, 67, 0.15);\n",
              "      fill: #174EA6;\n",
              "    }\n",
              "\n",
              "    [theme=dark] .colab-df-convert {\n",
              "      background-color: #3B4455;\n",
              "      fill: #D2E3FC;\n",
              "    }\n",
              "\n",
              "    [theme=dark] .colab-df-convert:hover {\n",
              "      background-color: #434B5C;\n",
              "      box-shadow: 0px 1px 3px 1px rgba(0, 0, 0, 0.15);\n",
              "      filter: drop-shadow(0px 1px 2px rgba(0, 0, 0, 0.3));\n",
              "      fill: #FFFFFF;\n",
              "    }\n",
              "  </style>\n",
              "\n",
              "      <script>\n",
              "        const buttonEl =\n",
              "          document.querySelector('#df-ba83269c-b3df-4a2b-ba57-61b9d7e8fcaf button.colab-df-convert');\n",
              "        buttonEl.style.display =\n",
              "          google.colab.kernel.accessAllowed ? 'block' : 'none';\n",
              "\n",
              "        async function convertToInteractive(key) {\n",
              "          const element = document.querySelector('#df-ba83269c-b3df-4a2b-ba57-61b9d7e8fcaf');\n",
              "          const dataTable =\n",
              "            await google.colab.kernel.invokeFunction('convertToInteractive',\n",
              "                                                     [key], {});\n",
              "          if (!dataTable) return;\n",
              "\n",
              "          const docLinkHtml = 'Like what you see? Visit the ' +\n",
              "            '<a target=\"_blank\" href=https://colab.research.google.com/notebooks/data_table.ipynb>data table notebook</a>'\n",
              "            + ' to learn more about interactive tables.';\n",
              "          element.innerHTML = '';\n",
              "          dataTable['output_type'] = 'display_data';\n",
              "          await google.colab.output.renderOutput(dataTable, element);\n",
              "          const docLink = document.createElement('div');\n",
              "          docLink.innerHTML = docLinkHtml;\n",
              "          element.appendChild(docLink);\n",
              "        }\n",
              "      </script>\n",
              "    </div>\n",
              "  </div>\n",
              "  "
            ]
          },
          "metadata": {},
          "execution_count": 113
        }
      ],
      "source": [
        "df.head()"
      ]
    },
    {
      "cell_type": "code",
      "execution_count": null,
      "metadata": {
        "id": "ZOtFEr2DW9vt"
      },
      "outputs": [],
      "source": [
        "train = df[df['Case']=='train']\n",
        "test = df[df['Case']=='test']"
      ]
    },
    {
      "cell_type": "code",
      "execution_count": null,
      "metadata": {
        "id": "UGboi-xxZXGq",
        "colab": {
          "base_uri": "https://localhost:8080/"
        },
        "outputId": "b81cc504-cd01-41e3-a966-8abd7f97cb68"
      },
      "outputs": [
        {
          "output_type": "stream",
          "name": "stderr",
          "text": [
            "<ipython-input-115-f4b7cf681139>:2: SettingWithCopyWarning: \n",
            "A value is trying to be set on a copy of a slice from a DataFrame.\n",
            "Try using .loc[row_indexer,col_indexer] = value instead\n",
            "\n",
            "See the caveats in the documentation: https://pandas.pydata.org/pandas-docs/stable/user_guide/indexing.html#returning-a-view-versus-a-copy\n",
            "  df['color']= df['Class'].map(color_dict)\n"
          ]
        }
      ],
      "source": [
        "color_dict = {'Nocturno':'cornflowerblue', 'Tarde':'darkorange', 'Matutino': 'blue'}\n",
        "df['color']= df['Class'].map(color_dict)"
      ]
    },
    {
      "cell_type": "code",
      "execution_count": null,
      "metadata": {
        "colab": {
          "base_uri": "https://localhost:8080/",
          "height": 206
        },
        "id": "4RtQUijZaV8R",
        "outputId": "189840ea-4283-42c6-a52c-6f701fc6405b"
      },
      "outputs": [
        {
          "output_type": "execute_result",
          "data": {
            "text/plain": [
              "   PredictorA PredictorB     Class   Case\n",
              "0           0        489  Nocturno  train\n",
              "1          23        529  Nocturno  train\n",
              "2          23        204  Nocturno  train\n",
              "3           1        532  Nocturno  train\n",
              "4           1        532  Nocturno  train"
            ],
            "text/html": [
              "\n",
              "  <div id=\"df-612ac693-5ad8-48e0-8717-d251b67e50cb\">\n",
              "    <div class=\"colab-df-container\">\n",
              "      <div>\n",
              "<style scoped>\n",
              "    .dataframe tbody tr th:only-of-type {\n",
              "        vertical-align: middle;\n",
              "    }\n",
              "\n",
              "    .dataframe tbody tr th {\n",
              "        vertical-align: top;\n",
              "    }\n",
              "\n",
              "    .dataframe thead th {\n",
              "        text-align: right;\n",
              "    }\n",
              "</style>\n",
              "<table border=\"1\" class=\"dataframe\">\n",
              "  <thead>\n",
              "    <tr style=\"text-align: right;\">\n",
              "      <th></th>\n",
              "      <th>PredictorA</th>\n",
              "      <th>PredictorB</th>\n",
              "      <th>Class</th>\n",
              "      <th>Case</th>\n",
              "    </tr>\n",
              "  </thead>\n",
              "  <tbody>\n",
              "    <tr>\n",
              "      <th>0</th>\n",
              "      <td>0</td>\n",
              "      <td>489</td>\n",
              "      <td>Nocturno</td>\n",
              "      <td>train</td>\n",
              "    </tr>\n",
              "    <tr>\n",
              "      <th>1</th>\n",
              "      <td>23</td>\n",
              "      <td>529</td>\n",
              "      <td>Nocturno</td>\n",
              "      <td>train</td>\n",
              "    </tr>\n",
              "    <tr>\n",
              "      <th>2</th>\n",
              "      <td>23</td>\n",
              "      <td>204</td>\n",
              "      <td>Nocturno</td>\n",
              "      <td>train</td>\n",
              "    </tr>\n",
              "    <tr>\n",
              "      <th>3</th>\n",
              "      <td>1</td>\n",
              "      <td>532</td>\n",
              "      <td>Nocturno</td>\n",
              "      <td>train</td>\n",
              "    </tr>\n",
              "    <tr>\n",
              "      <th>4</th>\n",
              "      <td>1</td>\n",
              "      <td>532</td>\n",
              "      <td>Nocturno</td>\n",
              "      <td>train</td>\n",
              "    </tr>\n",
              "  </tbody>\n",
              "</table>\n",
              "</div>\n",
              "      <button class=\"colab-df-convert\" onclick=\"convertToInteractive('df-612ac693-5ad8-48e0-8717-d251b67e50cb')\"\n",
              "              title=\"Convert this dataframe to an interactive table.\"\n",
              "              style=\"display:none;\">\n",
              "        \n",
              "  <svg xmlns=\"http://www.w3.org/2000/svg\" height=\"24px\"viewBox=\"0 0 24 24\"\n",
              "       width=\"24px\">\n",
              "    <path d=\"M0 0h24v24H0V0z\" fill=\"none\"/>\n",
              "    <path d=\"M18.56 5.44l.94 2.06.94-2.06 2.06-.94-2.06-.94-.94-2.06-.94 2.06-2.06.94zm-11 1L8.5 8.5l.94-2.06 2.06-.94-2.06-.94L8.5 2.5l-.94 2.06-2.06.94zm10 10l.94 2.06.94-2.06 2.06-.94-2.06-.94-.94-2.06-.94 2.06-2.06.94z\"/><path d=\"M17.41 7.96l-1.37-1.37c-.4-.4-.92-.59-1.43-.59-.52 0-1.04.2-1.43.59L10.3 9.45l-7.72 7.72c-.78.78-.78 2.05 0 2.83L4 21.41c.39.39.9.59 1.41.59.51 0 1.02-.2 1.41-.59l7.78-7.78 2.81-2.81c.8-.78.8-2.07 0-2.86zM5.41 20L4 18.59l7.72-7.72 1.47 1.35L5.41 20z\"/>\n",
              "  </svg>\n",
              "      </button>\n",
              "      \n",
              "  <style>\n",
              "    .colab-df-container {\n",
              "      display:flex;\n",
              "      flex-wrap:wrap;\n",
              "      gap: 12px;\n",
              "    }\n",
              "\n",
              "    .colab-df-convert {\n",
              "      background-color: #E8F0FE;\n",
              "      border: none;\n",
              "      border-radius: 50%;\n",
              "      cursor: pointer;\n",
              "      display: none;\n",
              "      fill: #1967D2;\n",
              "      height: 32px;\n",
              "      padding: 0 0 0 0;\n",
              "      width: 32px;\n",
              "    }\n",
              "\n",
              "    .colab-df-convert:hover {\n",
              "      background-color: #E2EBFA;\n",
              "      box-shadow: 0px 1px 2px rgba(60, 64, 67, 0.3), 0px 1px 3px 1px rgba(60, 64, 67, 0.15);\n",
              "      fill: #174EA6;\n",
              "    }\n",
              "\n",
              "    [theme=dark] .colab-df-convert {\n",
              "      background-color: #3B4455;\n",
              "      fill: #D2E3FC;\n",
              "    }\n",
              "\n",
              "    [theme=dark] .colab-df-convert:hover {\n",
              "      background-color: #434B5C;\n",
              "      box-shadow: 0px 1px 3px 1px rgba(0, 0, 0, 0.15);\n",
              "      filter: drop-shadow(0px 1px 2px rgba(0, 0, 0, 0.3));\n",
              "      fill: #FFFFFF;\n",
              "    }\n",
              "  </style>\n",
              "\n",
              "      <script>\n",
              "        const buttonEl =\n",
              "          document.querySelector('#df-612ac693-5ad8-48e0-8717-d251b67e50cb button.colab-df-convert');\n",
              "        buttonEl.style.display =\n",
              "          google.colab.kernel.accessAllowed ? 'block' : 'none';\n",
              "\n",
              "        async function convertToInteractive(key) {\n",
              "          const element = document.querySelector('#df-612ac693-5ad8-48e0-8717-d251b67e50cb');\n",
              "          const dataTable =\n",
              "            await google.colab.kernel.invokeFunction('convertToInteractive',\n",
              "                                                     [key], {});\n",
              "          if (!dataTable) return;\n",
              "\n",
              "          const docLinkHtml = 'Like what you see? Visit the ' +\n",
              "            '<a target=\"_blank\" href=https://colab.research.google.com/notebooks/data_table.ipynb>data table notebook</a>'\n",
              "            + ' to learn more about interactive tables.';\n",
              "          element.innerHTML = '';\n",
              "          dataTable['output_type'] = 'display_data';\n",
              "          await google.colab.output.renderOutput(dataTable, element);\n",
              "          const docLink = document.createElement('div');\n",
              "          docLink.innerHTML = docLinkHtml;\n",
              "          element.appendChild(docLink);\n",
              "        }\n",
              "      </script>\n",
              "    </div>\n",
              "  </div>\n",
              "  "
            ]
          },
          "metadata": {},
          "execution_count": 116
        }
      ],
      "source": [
        "train.head()"
      ]
    },
    {
      "cell_type": "code",
      "execution_count": null,
      "metadata": {
        "colab": {
          "base_uri": "https://localhost:8080/",
          "height": 449
        },
        "id": "oOoLKwSBZg2t",
        "outputId": "1bed18f0-e70f-4bbb-a3ff-077137a58d4a"
      },
      "outputs": [
        {
          "output_type": "display_data",
          "data": {
            "text/plain": [
              "<Figure size 640x480 with 1 Axes>"
            ],
            "image/png": "[encoded data removed]"
          },
          "metadata": {}
        }
      ],
      "source": [
        "fig, ax = plt.subplots()\n",
        "for class_ in pd.unique(df['Class']):\n",
        "  train[train['Class']==class_].plot.scatter('PredictorA','PredictorB', c='none', edgecolor=color_dict[class_],label=class_, ax=ax)"
      ]
    },
    {
      "cell_type": "markdown",
      "metadata": {
        "id": "4Tb9wDW6LH21"
      },
      "source": [
        "## Exploración de los predictores\n",
        "\n",
        "La ROC-AUC obtenida con los predictores sin ningún tipo de procesmaiento arrojó un valor de 0.79, el cual es un resultado decente, pero probablemente se puede mejorar. \n",
        "\n",
        "Primero veamos el resumen de estadísticos y luego veamos la distribución de los valores en los dos predictores. "
      ]
    },
    {
      "cell_type": "code",
      "execution_count": null,
      "metadata": {
        "id": "gqec30r6heWp"
      },
      "outputs": [],
      "source": [
        "X_train = train[['PredictorA','PredictorB']]\n",
        "y_train = train['Class']\n",
        "\n",
        "X_test = test[['PredictorA','PredictorB']]\n",
        "y_test = test['Class']"
      ]
    },
    {
      "cell_type": "code",
      "execution_count": null,
      "metadata": {
        "colab": {
          "base_uri": "https://localhost:8080/",
          "height": 300
        },
        "id": "mG7k6dDpUuV1",
        "outputId": "d28c15c7-9e5e-4ada-f39b-d437dbcb1b54"
      },
      "outputs": [
        {
          "output_type": "execute_result",
          "data": {
            "text/plain": [
              "        PredictorA\n",
              "count  4519.000000\n",
              "mean     14.039389\n",
              "std       6.145697\n",
              "min       0.000000\n",
              "25%       9.000000\n",
              "50%      18.000000\n",
              "75%      18.000000\n",
              "max      23.000000"
            ],
            "text/html": [
              "\n",
              "  <div id=\"df-95c3307d-6182-44b8-9bba-e6d5faa5e4d9\">\n",
              "    <div class=\"colab-df-container\">\n",
              "      <div>\n",
              "<style scoped>\n",
              "    .dataframe tbody tr th:only-of-type {\n",
              "        vertical-align: middle;\n",
              "    }\n",
              "\n",
              "    .dataframe tbody tr th {\n",
              "        vertical-align: top;\n",
              "    }\n",
              "\n",
              "    .dataframe thead th {\n",
              "        text-align: right;\n",
              "    }\n",
              "</style>\n",
              "<table border=\"1\" class=\"dataframe\">\n",
              "  <thead>\n",
              "    <tr style=\"text-align: right;\">\n",
              "      <th></th>\n",
              "      <th>PredictorA</th>\n",
              "    </tr>\n",
              "  </thead>\n",
              "  <tbody>\n",
              "    <tr>\n",
              "      <th>count</th>\n",
              "      <td>4519.000000</td>\n",
              "    </tr>\n",
              "    <tr>\n",
              "      <th>mean</th>\n",
              "      <td>14.039389</td>\n",
              "    </tr>\n",
              "    <tr>\n",
              "      <th>std</th>\n",
              "      <td>6.145697</td>\n",
              "    </tr>\n",
              "    <tr>\n",
              "      <th>min</th>\n",
              "      <td>0.000000</td>\n",
              "    </tr>\n",
              "    <tr>\n",
              "      <th>25%</th>\n",
              "      <td>9.000000</td>\n",
              "    </tr>\n",
              "    <tr>\n",
              "      <th>50%</th>\n",
              "      <td>18.000000</td>\n",
              "    </tr>\n",
              "    <tr>\n",
              "      <th>75%</th>\n",
              "      <td>18.000000</td>\n",
              "    </tr>\n",
              "    <tr>\n",
              "      <th>max</th>\n",
              "      <td>23.000000</td>\n",
              "    </tr>\n",
              "  </tbody>\n",
              "</table>\n",
              "</div>\n",
              "      <button class=\"colab-df-convert\" onclick=\"convertToInteractive('df-95c3307d-6182-44b8-9bba-e6d5faa5e4d9')\"\n",
              "              title=\"Convert this dataframe to an interactive table.\"\n",
              "              style=\"display:none;\">\n",
              "        \n",
              "  <svg xmlns=\"http://www.w3.org/2000/svg\" height=\"24px\"viewBox=\"0 0 24 24\"\n",
              "       width=\"24px\">\n",
              "    <path d=\"M0 0h24v24H0V0z\" fill=\"none\"/>\n",
              "    <path d=\"M18.56 5.44l.94 2.06.94-2.06 2.06-.94-2.06-.94-.94-2.06-.94 2.06-2.06.94zm-11 1L8.5 8.5l.94-2.06 2.06-.94-2.06-.94L8.5 2.5l-.94 2.06-2.06.94zm10 10l.94 2.06.94-2.06 2.06-.94-2.06-.94-.94-2.06-.94 2.06-2.06.94z\"/><path d=\"M17.41 7.96l-1.37-1.37c-.4-.4-.92-.59-1.43-.59-.52 0-1.04.2-1.43.59L10.3 9.45l-7.72 7.72c-.78.78-.78 2.05 0 2.83L4 21.41c.39.39.9.59 1.41.59.51 0 1.02-.2 1.41-.59l7.78-7.78 2.81-2.81c.8-.78.8-2.07 0-2.86zM5.41 20L4 18.59l7.72-7.72 1.47 1.35L5.41 20z\"/>\n",
              "  </svg>\n",
              "      </button>\n",
              "      \n",
              "  <style>\n",
              "    .colab-df-container {\n",
              "      display:flex;\n",
              "      flex-wrap:wrap;\n",
              "      gap: 12px;\n",
              "    }\n",
              "\n",
              "    .colab-df-convert {\n",
              "      background-color: #E8F0FE;\n",
              "      border: none;\n",
              "      border-radius: 50%;\n",
              "      cursor: pointer;\n",
              "      display: none;\n",
              "      fill: #1967D2;\n",
              "      height: 32px;\n",
              "      padding: 0 0 0 0;\n",
              "      width: 32px;\n",
              "    }\n",
              "\n",
              "    .colab-df-convert:hover {\n",
              "      background-color: #E2EBFA;\n",
              "      box-shadow: 0px 1px 2px rgba(60, 64, 67, 0.3), 0px 1px 3px 1px rgba(60, 64, 67, 0.15);\n",
              "      fill: #174EA6;\n",
              "    }\n",
              "\n",
              "    [theme=dark] .colab-df-convert {\n",
              "      background-color: #3B4455;\n",
              "      fill: #D2E3FC;\n",
              "    }\n",
              "\n",
              "    [theme=dark] .colab-df-convert:hover {\n",
              "      background-color: #434B5C;\n",
              "      box-shadow: 0px 1px 3px 1px rgba(0, 0, 0, 0.15);\n",
              "      filter: drop-shadow(0px 1px 2px rgba(0, 0, 0, 0.3));\n",
              "      fill: #FFFFFF;\n",
              "    }\n",
              "  </style>\n",
              "\n",
              "      <script>\n",
              "        const buttonEl =\n",
              "          document.querySelector('#df-95c3307d-6182-44b8-9bba-e6d5faa5e4d9 button.colab-df-convert');\n",
              "        buttonEl.style.display =\n",
              "          google.colab.kernel.accessAllowed ? 'block' : 'none';\n",
              "\n",
              "        async function convertToInteractive(key) {\n",
              "          const element = document.querySelector('#df-95c3307d-6182-44b8-9bba-e6d5faa5e4d9');\n",
              "          const dataTable =\n",
              "            await google.colab.kernel.invokeFunction('convertToInteractive',\n",
              "                                                     [key], {});\n",
              "          if (!dataTable) return;\n",
              "\n",
              "          const docLinkHtml = 'Like what you see? Visit the ' +\n",
              "            '<a target=\"_blank\" href=https://colab.research.google.com/notebooks/data_table.ipynb>data table notebook</a>'\n",
              "            + ' to learn more about interactive tables.';\n",
              "          element.innerHTML = '';\n",
              "          dataTable['output_type'] = 'display_data';\n",
              "          await google.colab.output.renderOutput(dataTable, element);\n",
              "          const docLink = document.createElement('div');\n",
              "          docLink.innerHTML = docLinkHtml;\n",
              "          element.appendChild(docLink);\n",
              "        }\n",
              "      </script>\n",
              "    </div>\n",
              "  </div>\n",
              "  "
            ]
          },
          "metadata": {},
          "execution_count": 119
        }
      ],
      "source": [
        "train.describe()"
      ]
    },
    {
      "cell_type": "markdown",
      "metadata": {
        "id": "cycoVx7K8Jko"
      },
      "source": [
        "# **TRANSFORMACION BOX COX**\n",
        "UTILIZANDO VARIABLE DTA = DURACION_TIEMPO_ATENCION"
      ]
    },
    {
      "cell_type": "markdown",
      "metadata": {
        "id": "YjtuB9GYRXRG"
      },
      "source": [
        "**Vamos a realizar la normalizacion de box cox en una de nuestras variables de interes llamada DURACION_TIEMPO_ATENCION, tomamos en cuenta que box cox funciona con valires positivos por lo que tomamos en cuenta sólo los valores mayores a 0**\n",
        "\n",
        "\n",
        "\n"
      ]
    },
    {
      "cell_type": "code",
      "execution_count": null,
      "metadata": {
        "id": "NHy8H29vOs6b"
      },
      "outputs": [],
      "source": [
        "DTA = dfo[dfo['DURACION_TIEMPO_ATENCION'] > 0]"
      ]
    },
    {
      "cell_type": "markdown",
      "metadata": {
        "id": "goAxDodYRxX6"
      },
      "source": [
        "**Realizamos un describe y lo primero que vemos que la media está muy \n",
        "lejana de la desviación estandar, por lo que nos inicia a dar indicios que no será una distribución normal, vemos tambien con el min y el max que hay un rango muy amplio que comparado con la media podemos ir denotando demaciados outliers**"
      ]
    },
    {
      "cell_type": "code",
      "source": [
        "DTA = DTA['DURACION_TIEMPO_ATENCION'] \n",
        "DTA.describe()"
      ],
      "metadata": {
        "colab": {
          "base_uri": "https://localhost:8080/"
        },
        "id": "YGE5AR_WyQRL",
        "outputId": "301b6dc8-7d8e-4137-c058-1350b86438c3"
      },
      "execution_count": null,
      "outputs": [
        {
          "output_type": "execute_result",
          "data": {
            "text/plain": [
              "count    6380.000000\n",
              "mean      178.754232\n",
              "std       261.541366\n",
              "min         1.000000\n",
              "25%        18.000000\n",
              "50%        57.000000\n",
              "75%       235.000000\n",
              "max      1428.000000\n",
              "Name: DURACION_TIEMPO_ATENCION, dtype: float64"
            ]
          },
          "metadata": {},
          "execution_count": 121
        }
      ]
    },
    {
      "cell_type": "markdown",
      "metadata": {
        "id": "IefpNHgNPw0g"
      },
      "source": [
        "**Realizamos un plot para ver el tipo de distribución**"
      ]
    },
    {
      "cell_type": "code",
      "execution_count": null,
      "metadata": {
        "colab": {
          "base_uri": "https://localhost:8080/",
          "height": 534
        },
        "id": "vhX7dCpJ8HgH",
        "outputId": "796bcc48-8a6d-42d0-bcc5-4cf167ace9df"
      },
      "outputs": [
        {
          "output_type": "execute_result",
          "data": {
            "text/plain": [
              "(array([4279.,  689.,  435.,  438.,  183.,  114.,   75.,   83.,   53.,\n",
              "          31.]),\n",
              " array([1.0000e+00, 1.4370e+02, 2.8640e+02, 4.2910e+02, 5.7180e+02,\n",
              "        7.1450e+02, 8.5720e+02, 9.9990e+02, 1.1426e+03, 1.2853e+03,\n",
              "        1.4280e+03]),\n",
              " <BarContainer object of 10 artists>)"
            ]
          },
          "metadata": {},
          "execution_count": 122
        },
        {
          "output_type": "display_data",
          "data": {
            "text/plain": [
              "<Figure size 640x480 with 1 Axes>"
            ],
            "image/png": "[encoded data removed]"
          },
          "metadata": {}
        }
      ],
      "source": [
        "plt.hist(DTA, edgecolor = \"black\", linewidth=1)"
      ]
    },
    {
      "cell_type": "markdown",
      "metadata": {
        "id": "EbC4WdoaP4yW"
      },
      "source": [
        "**En la gráfica anterior vemos que NO es una distribución normal, sino una distribución exponencial, de igual forma realizamos un gráfico Quantile para corroborar si existe normalidad de los datos**"
      ]
    },
    {
      "cell_type": "code",
      "execution_count": null,
      "metadata": {
        "colab": {
          "base_uri": "https://localhost:8080/",
          "height": 472
        },
        "id": "okEwx_n7POVZ",
        "outputId": "34695dfe-8b19-4e76-d365-be1cc0d47657"
      },
      "outputs": [
        {
          "output_type": "display_data",
          "data": {
            "text/plain": [
              "<Figure size 640x480 with 1 Axes>"
            ],
            "image/png": "[encoded data removed]"
          },
          "metadata": {}
        }
      ],
      "source": [
        "import pylab\n",
        "import scipy.stats as stats\n",
        "\n",
        "stats.probplot(DTA, dist=\"norm\", plot=pylab)\n",
        "pylab.show()"
      ]
    },
    {
      "cell_type": "markdown",
      "metadata": {
        "id": "mKHNE_wsQTNV"
      },
      "source": [
        "**En la gráfica anterior vemos hay discrepancias entre los puntos con la linea recta, por lo que NO existe una distribución normal de los datos de la variable DURACION_TIEMPO_ATENCION**  "
      ]
    },
    {
      "cell_type": "code",
      "execution_count": null,
      "metadata": {
        "colab": {
          "base_uri": "https://localhost:8080/"
        },
        "id": "Q8Lx8Amb1HVj",
        "outputId": "ca1c388b-04b9-44d0-ce1f-3e78d3404e64"
      },
      "outputs": [
        {
          "output_type": "stream",
          "name": "stdout",
          "text": [
            "Estadistico=0.693, p_value=0.000\n"
          ]
        },
        {
          "output_type": "stream",
          "name": "stderr",
          "text": [
            "/usr/local/lib/python3.10/dist-packages/scipy/stats/_morestats.py:1816: UserWarning: p-value may not be accurate for N > 5000.\n",
            "  warnings.warn(\"p-value may not be accurate for N > 5000.\")\n"
          ]
        }
      ],
      "source": [
        "from scipy.stats import shapiro\n",
        "estadistico, p_value = shapiro(DTA)\n",
        "print('Estadistico=%.3f, p_value=%.3f' % (estadistico, p_value))"
      ]
    },
    {
      "cell_type": "markdown",
      "metadata": {
        "id": "tQnKSlo810DK"
      },
      "source": [
        "**En la seccion anterior realizamos una PRUEBA DE SHAPIRO para identificar el p_value si es mayor a 0.05 para aceptar nuestra hipotesis de que si es una distribución normal, pero vemos que obtuvimos un 0.000 por lo que en efecto no hay una distribución normal.***"
      ]
    },
    {
      "cell_type": "markdown",
      "metadata": {
        "id": "jL2HF5aK2LIz"
      },
      "source": [
        "**Ahora vamos a proceder a realizar la transformación con BOX COX y luego de la transformación realizaremos de nuevo el plot hist y la prueba de shapiro para ver si se logra normalizar la variable de interes.***"
      ]
    },
    {
      "cell_type": "code",
      "source": [
        "# Importamos los módulos\n",
        "import numpy as np\n",
        "from scipy import stats\n",
        " \n",
        "# importamos modulos para plotear\n",
        "import seaborn as sns\n",
        "import matplotlib.pyplot as plt\n",
        " \n",
        "# definimos la variable original data con la variable Duracion Tiempo Afectación definida arriba.\n",
        "original_data = DTA\n",
        " \n",
        "# Realizamos la transformación y guardamos el resultado de lambda\n",
        "fitted_data, fitted_lambda = stats.boxcox(original_data)\n",
        "\n",
        "# Definimos los ejes para plotear las gráficas\n",
        "fig, ax = plt.subplots(1, 2)\n",
        " \n",
        "# Ploteamos la data original\n",
        "\n",
        "sns.distplot(original_data, hist = False, kde = True,\n",
        "            kde_kws = {'shade': True, 'linewidth': 2},\n",
        "            label = \"Non-Normal\", color =\"green\", ax = ax[0])\n",
        "# Ploteamos la data ya transformada\n",
        "sns.distplot(fitted_data, hist = False, kde = True,\n",
        "            kde_kws = {'shade': True, 'linewidth': 2},\n",
        "            label = \"Normal\", color =\"green\", ax = ax[1])\n",
        " \n",
        "# Agregamos leyenda al sub plot\n",
        "plt.legend(loc = \"upper right\")\n",
        " \n",
        "# rescaling the subplots\n",
        "fig.set_figheight(5)\n",
        "fig.set_figwidth(10)\n",
        " \n",
        "print(f\"Lambda value used for Transformation: {fitted_lambda}\")"
      ],
      "metadata": {
        "colab": {
          "base_uri": "https://localhost:8080/",
          "height": 1000
        },
        "id": "icpUeRIzr-KO",
        "outputId": "b6fff32d-3d3e-46fb-8840-4114095c53e3"
      },
      "execution_count": null,
      "outputs": [
        {
          "output_type": "stream",
          "name": "stderr",
          "text": [
            "<ipython-input-125-6a3396b44457>:20: UserWarning: \n",
            "\n",
            "`distplot` is a deprecated function and will be removed in seaborn v0.14.0.\n",
            "\n",
            "Please adapt your code to use either `displot` (a figure-level function with\n",
            "similar flexibility) or `kdeplot` (an axes-level function for kernel density plots).\n",
            "\n",
            "For a guide to updating your code to use the new functions, please see\n",
            "https://gist.github.com/mwaskom/de44147ed2974457ad6372750bbe5751\n",
            "\n",
            "  sns.distplot(original_data, hist = False, kde = True,\n",
            "/usr/local/lib/python3.10/dist-packages/seaborn/distributions.py:2511: FutureWarning: \n",
            "\n",
            "`shade` is now deprecated in favor of `fill`; setting `fill=True`.\n",
            "This will become an error in seaborn v0.14.0; please update your code.\n",
            "\n",
            "  kdeplot(**{axis: a}, ax=ax, color=kde_color, **kde_kws)\n",
            "<ipython-input-125-6a3396b44457>:24: UserWarning: \n",
            "\n",
            "`distplot` is a deprecated function and will be removed in seaborn v0.14.0.\n",
            "\n",
            "Please adapt your code to use either `displot` (a figure-level function with\n",
            "similar flexibility) or `kdeplot` (an axes-level function for kernel density plots).\n",
            "\n",
            "For a guide to updating your code to use the new functions, please see\n",
            "https://gist.github.com/mwaskom/de44147ed2974457ad6372750bbe5751\n",
            "\n",
            "  sns.distplot(fitted_data, hist = False, kde = True,\n",
            "/usr/local/lib/python3.10/dist-packages/seaborn/distributions.py:2511: FutureWarning: \n",
            "\n",
            "`shade` is now deprecated in favor of `fill`; setting `fill=True`.\n",
            "This will become an error in seaborn v0.14.0; please update your code.\n",
            "\n",
            "  kdeplot(**{axis: a}, ax=ax, color=kde_color, **kde_kws)\n"
          ]
        },
        {
          "output_type": "stream",
          "name": "stdout",
          "text": [
            "Lambda value used for Transformation: 0.07954086076652965\n"
          ]
        },
        {
          "output_type": "display_data",
          "data": {
            "text/plain": [
              "<Figure size 1000x500 with 2 Axes>"
            ],
            "image/png": "[encoded data removed]"
          },
          "metadata": {}
        }
      ]
    },
    {
      "cell_type": "markdown",
      "source": [
        "**Vemos que arriba utilizó un parametro de transformación de 0.0795, sin embargo podemos ver que si logró hacer una transformación, sin embargo no se consigue una distribución normal, sino más se asemeja a una distribución bimodal**"
      ],
      "metadata": {
        "id": "2YA7CqFDBjs-"
      }
    },
    {
      "cell_type": "code",
      "source": [
        "stats.probplot(DTA, dist=\"norm\", plot=pylab)\n",
        "pylab.show()\n",
        "\n",
        "stats.probplot(fitted_data, dist=\"norm\", plot=pylab)\n",
        "pylab.show()"
      ],
      "metadata": {
        "colab": {
          "base_uri": "https://localhost:8080/",
          "height": 927
        },
        "id": "57C6D_CK1uWh",
        "outputId": "3fca7990-3ce2-443d-f0f4-9c88431c3356"
      },
      "execution_count": null,
      "outputs": [
        {
          "output_type": "display_data",
          "data": {
            "text/plain": [
              "<Figure size 640x480 with 1 Axes>"
            ],
            "image/png": "[encoded data removed]"
          },
          "metadata": {}
        },
        {
          "output_type": "display_data",
          "data": {
            "text/plain": [
              "<Figure size 640x480 with 1 Axes>"
            ],
            "image/png": "[encoded data removed]"
          },
          "metadata": {}
        }
      ]
    },
    {
      "cell_type": "code",
      "source": [
        "from scipy.stats import shapiro\n",
        "estadistico, p_value = shapiro(fitted_data)\n",
        "print('Estadistico=%.3f, p_value=%.3f' % (estadistico, p_value))"
      ],
      "metadata": {
        "colab": {
          "base_uri": "https://localhost:8080/"
        },
        "id": "t-H88SZv-JOh",
        "outputId": "a0e8103f-9eb7-4632-d1af-d272e6710656"
      },
      "execution_count": null,
      "outputs": [
        {
          "output_type": "stream",
          "name": "stdout",
          "text": [
            "Estadistico=0.982, p_value=0.000\n"
          ]
        },
        {
          "output_type": "stream",
          "name": "stderr",
          "text": [
            "/usr/local/lib/python3.10/dist-packages/scipy/stats/_morestats.py:1816: UserWarning: p-value may not be accurate for N > 5000.\n",
            "  warnings.warn(\"p-value may not be accurate for N > 5000.\")\n"
          ]
        }
      ]
    },
    {
      "cell_type": "markdown",
      "source": [
        "**Podemos concluir que luego de la transformación, no existe una distribución \"normal\" utilizando el método de box cox para la variable DTA = DURACION_TIEMPO_ATENCION, por lo tanto se puede considerar utilizar otro método de transformación**"
      ],
      "metadata": {
        "id": "U1rVfTHtE0Ak"
      }
    },
    {
      "cell_type": "code",
      "source": [],
      "metadata": {
        "id": "NcXJV_w2ZWHA"
      },
      "execution_count": null,
      "outputs": []
    },
    {
      "cell_type": "code",
      "source": [],
      "metadata": {
        "id": "OgdXkpziZWCs"
      },
      "execution_count": null,
      "outputs": []
    },
    {
      "cell_type": "markdown",
      "source": [
        "# **ORDINAL ENCODER**"
      ],
      "metadata": {
        "id": "wE3p5bDyZ4T_"
      }
    },
    {
      "cell_type": "markdown",
      "source": [
        "**vamos a intentar otra transformación con la variable DTA = DURACION_TIEMPO_ATENCION que respresenta las horas que duró el incidente, vamos a intentar Ordinal Econder, ya que las horas de afectación si tienen un orden en su valor, porque no es lo mismo un incidente que afecta 1 hora a un incidente que afecte 24 hrs."
      ],
      "metadata": {
        "id": "nVLHQLIRZbEl"
      }
    },
    {
      "cell_type": "markdown",
      "source": [
        "**Lo primero es que categorizamos nuestros valores de la duración si está entre 0 y 8 entra como Bajo, si está entre 8 y 16 entra como Medio y si está mayor a 16 entra como una categoria de tiempo alto."
      ],
      "metadata": {
        "id": "NWKPz-rJdHti"
      }
    },
    {
      "cell_type": "code",
      "source": [
        "DTA2 = dfo[dfo['DURACION_TIEMPO_ATENCION'] >= 0]"
      ],
      "metadata": {
        "id": "4XQWd2qCep2K"
      },
      "execution_count": null,
      "outputs": []
    },
    {
      "cell_type": "code",
      "source": [
        "DTA2 = DTA2['DURACION_TIEMPO_ATENCION'] \n",
        "DTA2.describe()"
      ],
      "metadata": {
        "colab": {
          "base_uri": "https://localhost:8080/"
        },
        "id": "fdHGhy-9fOPK",
        "outputId": "cc93c06f-3a20-4c13-9635-cc9a1c61bd0e"
      },
      "execution_count": null,
      "outputs": [
        {
          "output_type": "execute_result",
          "data": {
            "text/plain": [
              "count    6626.000000\n",
              "mean      172.117718\n",
              "std       258.855833\n",
              "min         0.000000\n",
              "25%        15.000000\n",
              "50%        53.000000\n",
              "75%       210.750000\n",
              "max      1428.000000\n",
              "Name: DURACION_TIEMPO_ATENCION, dtype: float64"
            ]
          },
          "metadata": {},
          "execution_count": 183
        }
      ]
    },
    {
      "cell_type": "code",
      "source": [
        "DTA2['Clasificacion'] = pd.cut(dfo.DURACION_TIEMPO_ATENCION, bins=[0, 8, 24, float('Inf')], labels=['Bajo','Medio', 'Alto'])"
      ],
      "metadata": {
        "id": "uTwSWVHDo7ES"
      },
      "execution_count": null,
      "outputs": []
    },
    {
      "cell_type": "code",
      "source": [
        "DTA2.Clasificacion.value_counts()"
      ],
      "metadata": {
        "colab": {
          "base_uri": "https://localhost:8080/"
        },
        "id": "a1E2D5EZo7A6",
        "outputId": "d6a4bedd-2ef9-4d53-8f3c-b188a0ac6a87"
      },
      "execution_count": null,
      "outputs": [
        {
          "output_type": "execute_result",
          "data": {
            "text/plain": [
              "Alto     4380\n",
              "Medio    1060\n",
              "Bajo      940\n",
              "Name: DURACION_TIEMPO_ATENCION, dtype: int64"
            ]
          },
          "metadata": {},
          "execution_count": 185
        }
      ]
    },
    {
      "cell_type": "code",
      "source": [
        "DTA3 = DTA2['Clasificacion']\n"
      ],
      "metadata": {
        "id": "vtZV_uBKAvp5"
      },
      "execution_count": null,
      "outputs": []
    },
    {
      "cell_type": "code",
      "source": [
        "DTA3[\"Clasificacion\"].unique()"
      ],
      "metadata": {
        "id": "ahzvB8tno6vR",
        "colab": {
          "base_uri": "https://localhost:8080/",
          "height": 311
        },
        "outputId": "e99aaf05-0d10-41ba-a866-bc5df022e931"
      },
      "execution_count": null,
      "outputs": [
        {
          "output_type": "error",
          "ename": "KeyError",
          "evalue": "ignored",
          "traceback": [
            "\u001b[0;31m---------------------------------------------------------------------------\u001b[0m",
            "\u001b[0;31mKeyError\u001b[0m                                  Traceback (most recent call last)",
            "\u001b[0;32m<ipython-input-240-34076b052596>\u001b[0m in \u001b[0;36m<cell line: 1>\u001b[0;34m()\u001b[0m\n\u001b[0;32m----> 1\u001b[0;31m \u001b[0mDTA3\u001b[0m\u001b[0;34m[\u001b[0m\u001b[0;34m\"Clasificacion\"\u001b[0m\u001b[0;34m]\u001b[0m\u001b[0;34m.\u001b[0m\u001b[0munique\u001b[0m\u001b[0;34m(\u001b[0m\u001b[0;34m)\u001b[0m\u001b[0;34m\u001b[0m\u001b[0;34m\u001b[0m\u001b[0m\n\u001b[0m",
            "\u001b[0;32m/usr/local/lib/python3.10/dist-packages/pandas/core/series.py\u001b[0m in \u001b[0;36m__getitem__\u001b[0;34m(self, key)\u001b[0m\n\u001b[1;32m    979\u001b[0m \u001b[0;34m\u001b[0m\u001b[0m\n\u001b[1;32m    980\u001b[0m         \u001b[0;32melif\u001b[0m \u001b[0mkey_is_scalar\u001b[0m\u001b[0;34m:\u001b[0m\u001b[0;34m\u001b[0m\u001b[0;34m\u001b[0m\u001b[0m\n\u001b[0;32m--> 981\u001b[0;31m             \u001b[0;32mreturn\u001b[0m \u001b[0mself\u001b[0m\u001b[0;34m.\u001b[0m\u001b[0m_get_value\u001b[0m\u001b[0;34m(\u001b[0m\u001b[0mkey\u001b[0m\u001b[0;34m)\u001b[0m\u001b[0;34m\u001b[0m\u001b[0;34m\u001b[0m\u001b[0m\n\u001b[0m\u001b[1;32m    982\u001b[0m \u001b[0;34m\u001b[0m\u001b[0m\n\u001b[1;32m    983\u001b[0m         \u001b[0;32mif\u001b[0m \u001b[0mis_hashable\u001b[0m\u001b[0;34m(\u001b[0m\u001b[0mkey\u001b[0m\u001b[0;34m)\u001b[0m\u001b[0;34m:\u001b[0m\u001b[0;34m\u001b[0m\u001b[0;34m\u001b[0m\u001b[0m\n",
            "\u001b[0;32m/usr/local/lib/python3.10/dist-packages/pandas/core/series.py\u001b[0m in \u001b[0;36m_get_value\u001b[0;34m(self, label, takeable)\u001b[0m\n\u001b[1;32m   1087\u001b[0m \u001b[0;34m\u001b[0m\u001b[0m\n\u001b[1;32m   1088\u001b[0m         \u001b[0;31m# Similar to Index.get_value, but we do not fall back to positional\u001b[0m\u001b[0;34m\u001b[0m\u001b[0;34m\u001b[0m\u001b[0m\n\u001b[0;32m-> 1089\u001b[0;31m         \u001b[0mloc\u001b[0m \u001b[0;34m=\u001b[0m \u001b[0mself\u001b[0m\u001b[0;34m.\u001b[0m\u001b[0mindex\u001b[0m\u001b[0;34m.\u001b[0m\u001b[0mget_loc\u001b[0m\u001b[0;34m(\u001b[0m\u001b[0mlabel\u001b[0m\u001b[0;34m)\u001b[0m\u001b[0;34m\u001b[0m\u001b[0;34m\u001b[0m\u001b[0m\n\u001b[0m\u001b[1;32m   1090\u001b[0m         \u001b[0;32mreturn\u001b[0m \u001b[0mself\u001b[0m\u001b[0;34m.\u001b[0m\u001b[0mindex\u001b[0m\u001b[0;34m.\u001b[0m\u001b[0m_get_values_for_loc\u001b[0m\u001b[0;34m(\u001b[0m\u001b[0mself\u001b[0m\u001b[0;34m,\u001b[0m \u001b[0mloc\u001b[0m\u001b[0;34m,\u001b[0m \u001b[0mlabel\u001b[0m\u001b[0;34m)\u001b[0m\u001b[0;34m\u001b[0m\u001b[0;34m\u001b[0m\u001b[0m\n\u001b[1;32m   1091\u001b[0m \u001b[0;34m\u001b[0m\u001b[0m\n",
            "\u001b[0;32m/usr/local/lib/python3.10/dist-packages/pandas/core/indexes/range.py\u001b[0m in \u001b[0;36mget_loc\u001b[0;34m(self, key, method, tolerance)\u001b[0m\n\u001b[1;32m    393\u001b[0m                     \u001b[0;32mraise\u001b[0m \u001b[0mKeyError\u001b[0m\u001b[0;34m(\u001b[0m\u001b[0mkey\u001b[0m\u001b[0;34m)\u001b[0m \u001b[0;32mfrom\u001b[0m \u001b[0merr\u001b[0m\u001b[0;34m\u001b[0m\u001b[0;34m\u001b[0m\u001b[0m\n\u001b[1;32m    394\u001b[0m             \u001b[0mself\u001b[0m\u001b[0;34m.\u001b[0m\u001b[0m_check_indexing_error\u001b[0m\u001b[0;34m(\u001b[0m\u001b[0mkey\u001b[0m\u001b[0;34m)\u001b[0m\u001b[0;34m\u001b[0m\u001b[0;34m\u001b[0m\u001b[0m\n\u001b[0;32m--> 395\u001b[0;31m             \u001b[0;32mraise\u001b[0m \u001b[0mKeyError\u001b[0m\u001b[0;34m(\u001b[0m\u001b[0mkey\u001b[0m\u001b[0;34m)\u001b[0m\u001b[0;34m\u001b[0m\u001b[0;34m\u001b[0m\u001b[0m\n\u001b[0m\u001b[1;32m    396\u001b[0m         \u001b[0;32mreturn\u001b[0m \u001b[0msuper\u001b[0m\u001b[0;34m(\u001b[0m\u001b[0;34m)\u001b[0m\u001b[0;34m.\u001b[0m\u001b[0mget_loc\u001b[0m\u001b[0;34m(\u001b[0m\u001b[0mkey\u001b[0m\u001b[0;34m,\u001b[0m \u001b[0mmethod\u001b[0m\u001b[0;34m=\u001b[0m\u001b[0mmethod\u001b[0m\u001b[0;34m,\u001b[0m \u001b[0mtolerance\u001b[0m\u001b[0;34m=\u001b[0m\u001b[0mtolerance\u001b[0m\u001b[0;34m)\u001b[0m\u001b[0;34m\u001b[0m\u001b[0;34m\u001b[0m\u001b[0m\n\u001b[1;32m    397\u001b[0m \u001b[0;34m\u001b[0m\u001b[0m\n",
            "\u001b[0;31mKeyError\u001b[0m: 'Clasificacion'"
          ]
        }
      ]
    },
    {
      "cell_type": "code",
      "source": [
        "import pandas as pd\n",
        "from sklearn.preprocessing import OrdinalEncoder"
      ],
      "metadata": {
        "id": "2YhdWh4As_Mg"
      },
      "execution_count": null,
      "outputs": []
    },
    {
      "cell_type": "code",
      "source": [
        "DTA4 = DTA2.fillna(0)"
      ],
      "metadata": {
        "id": "N-u9QHGO3VMl"
      },
      "execution_count": null,
      "outputs": []
    },
    {
      "cell_type": "code",
      "source": [
        "DTA4[\"Clasificacion\"].unique()"
      ],
      "metadata": {
        "colab": {
          "base_uri": "https://localhost:8080/"
        },
        "id": "01ZqKrzU3VH-",
        "outputId": "89a0317a-7b2d-46b1-fa1d-5e8dad2f8436"
      },
      "execution_count": null,
      "outputs": [
        {
          "output_type": "execute_result",
          "data": {
            "text/plain": [
              "['Bajo', 'Alto', 'Medio', NaN]\n",
              "Categories (3, object): ['Bajo' < 'Medio' < 'Alto']"
            ]
          },
          "metadata": {},
          "execution_count": 173
        }
      ]
    },
    {
      "cell_type": "code",
      "source": [
        "enc = OrdinalEncoder()"
      ],
      "metadata": {
        "id": "OK3dg5IH3U_x"
      },
      "execution_count": null,
      "outputs": []
    },
    {
      "cell_type": "code",
      "source": [
        "print(enc)"
      ],
      "metadata": {
        "colab": {
          "base_uri": "https://localhost:8080/"
        },
        "id": "vTtXG48K4fxv",
        "outputId": "50eb283c-2a26-40bc-c191-ab19aa4b79f5"
      },
      "execution_count": null,
      "outputs": [
        {
          "output_type": "stream",
          "name": "stdout",
          "text": [
            "OrdinalEncoder()\n"
          ]
        }
      ]
    },
    {
      "cell_type": "code",
      "source": [
        "enc.fit_transform(DTA2[[\"Clasificacion\"]])"
      ],
      "metadata": {
        "colab": {
          "base_uri": "https://localhost:8080/",
          "height": 571
        },
        "id": "JTspPHY-4fvK",
        "outputId": "6a592d20-aea7-4c3c-deeb-44be7198c957"
      },
      "execution_count": null,
      "outputs": [
        {
          "output_type": "error",
          "ename": "ValueError",
          "evalue": "ignored",
          "traceback": [
            "\u001b[0;31m---------------------------------------------------------------------------\u001b[0m",
            "\u001b[0;31mValueError\u001b[0m                                Traceback (most recent call last)",
            "\u001b[0;32m<ipython-input-177-64821413975c>\u001b[0m in \u001b[0;36m<cell line: 1>\u001b[0;34m()\u001b[0m\n\u001b[0;32m----> 1\u001b[0;31m \u001b[0menc\u001b[0m\u001b[0;34m.\u001b[0m\u001b[0mfit_transform\u001b[0m\u001b[0;34m(\u001b[0m\u001b[0mDTA2\u001b[0m\u001b[0;34m[\u001b[0m\u001b[0;34m[\u001b[0m\u001b[0;34m\"Clasificacion\"\u001b[0m\u001b[0;34m]\u001b[0m\u001b[0;34m]\u001b[0m\u001b[0;34m)\u001b[0m\u001b[0;34m\u001b[0m\u001b[0;34m\u001b[0m\u001b[0m\n\u001b[0m",
            "\u001b[0;32m/usr/local/lib/python3.10/dist-packages/sklearn/utils/_set_output.py\u001b[0m in \u001b[0;36mwrapped\u001b[0;34m(self, X, *args, **kwargs)\u001b[0m\n\u001b[1;32m    138\u001b[0m     \u001b[0;34m@\u001b[0m\u001b[0mwraps\u001b[0m\u001b[0;34m(\u001b[0m\u001b[0mf\u001b[0m\u001b[0;34m)\u001b[0m\u001b[0;34m\u001b[0m\u001b[0;34m\u001b[0m\u001b[0m\n\u001b[1;32m    139\u001b[0m     \u001b[0;32mdef\u001b[0m \u001b[0mwrapped\u001b[0m\u001b[0;34m(\u001b[0m\u001b[0mself\u001b[0m\u001b[0;34m,\u001b[0m \u001b[0mX\u001b[0m\u001b[0;34m,\u001b[0m \u001b[0;34m*\u001b[0m\u001b[0margs\u001b[0m\u001b[0;34m,\u001b[0m \u001b[0;34m**\u001b[0m\u001b[0mkwargs\u001b[0m\u001b[0;34m)\u001b[0m\u001b[0;34m:\u001b[0m\u001b[0;34m\u001b[0m\u001b[0;34m\u001b[0m\u001b[0m\n\u001b[0;32m--> 140\u001b[0;31m         \u001b[0mdata_to_wrap\u001b[0m \u001b[0;34m=\u001b[0m \u001b[0mf\u001b[0m\u001b[0;34m(\u001b[0m\u001b[0mself\u001b[0m\u001b[0;34m,\u001b[0m \u001b[0mX\u001b[0m\u001b[0;34m,\u001b[0m \u001b[0;34m*\u001b[0m\u001b[0margs\u001b[0m\u001b[0;34m,\u001b[0m \u001b[0;34m**\u001b[0m\u001b[0mkwargs\u001b[0m\u001b[0;34m)\u001b[0m\u001b[0;34m\u001b[0m\u001b[0;34m\u001b[0m\u001b[0m\n\u001b[0m\u001b[1;32m    141\u001b[0m         \u001b[0;32mif\u001b[0m \u001b[0misinstance\u001b[0m\u001b[0;34m(\u001b[0m\u001b[0mdata_to_wrap\u001b[0m\u001b[0;34m,\u001b[0m \u001b[0mtuple\u001b[0m\u001b[0;34m)\u001b[0m\u001b[0;34m:\u001b[0m\u001b[0;34m\u001b[0m\u001b[0;34m\u001b[0m\u001b[0m\n\u001b[1;32m    142\u001b[0m             \u001b[0;31m# only wrap the first output for cross decomposition\u001b[0m\u001b[0;34m\u001b[0m\u001b[0;34m\u001b[0m\u001b[0m\n",
            "\u001b[0;32m/usr/local/lib/python3.10/dist-packages/sklearn/base.py\u001b[0m in \u001b[0;36mfit_transform\u001b[0;34m(self, X, y, **fit_params)\u001b[0m\n\u001b[1;32m    876\u001b[0m         \u001b[0;32mif\u001b[0m \u001b[0my\u001b[0m \u001b[0;32mis\u001b[0m \u001b[0;32mNone\u001b[0m\u001b[0;34m:\u001b[0m\u001b[0;34m\u001b[0m\u001b[0;34m\u001b[0m\u001b[0m\n\u001b[1;32m    877\u001b[0m             \u001b[0;31m# fit method of arity 1 (unsupervised transformation)\u001b[0m\u001b[0;34m\u001b[0m\u001b[0;34m\u001b[0m\u001b[0m\n\u001b[0;32m--> 878\u001b[0;31m             \u001b[0;32mreturn\u001b[0m \u001b[0mself\u001b[0m\u001b[0;34m.\u001b[0m\u001b[0mfit\u001b[0m\u001b[0;34m(\u001b[0m\u001b[0mX\u001b[0m\u001b[0;34m,\u001b[0m \u001b[0;34m**\u001b[0m\u001b[0mfit_params\u001b[0m\u001b[0;34m)\u001b[0m\u001b[0;34m.\u001b[0m\u001b[0mtransform\u001b[0m\u001b[0;34m(\u001b[0m\u001b[0mX\u001b[0m\u001b[0;34m)\u001b[0m\u001b[0;34m\u001b[0m\u001b[0;34m\u001b[0m\u001b[0m\n\u001b[0m\u001b[1;32m    879\u001b[0m         \u001b[0;32melse\u001b[0m\u001b[0;34m:\u001b[0m\u001b[0;34m\u001b[0m\u001b[0;34m\u001b[0m\u001b[0m\n\u001b[1;32m    880\u001b[0m             \u001b[0;31m# fit method of arity 2 (supervised transformation)\u001b[0m\u001b[0;34m\u001b[0m\u001b[0;34m\u001b[0m\u001b[0m\n",
            "\u001b[0;32m/usr/local/lib/python3.10/dist-packages/sklearn/preprocessing/_encoders.py\u001b[0m in \u001b[0;36mfit\u001b[0;34m(self, X, y)\u001b[0m\n\u001b[1;32m   1301\u001b[0m \u001b[0;34m\u001b[0m\u001b[0m\n\u001b[1;32m   1302\u001b[0m         \u001b[0;31m# `_fit` will only raise an error when `self.handle_unknown=\"error\"`\u001b[0m\u001b[0;34m\u001b[0m\u001b[0;34m\u001b[0m\u001b[0m\n\u001b[0;32m-> 1303\u001b[0;31m         \u001b[0mself\u001b[0m\u001b[0;34m.\u001b[0m\u001b[0m_fit\u001b[0m\u001b[0;34m(\u001b[0m\u001b[0mX\u001b[0m\u001b[0;34m,\u001b[0m \u001b[0mhandle_unknown\u001b[0m\u001b[0;34m=\u001b[0m\u001b[0mself\u001b[0m\u001b[0;34m.\u001b[0m\u001b[0mhandle_unknown\u001b[0m\u001b[0;34m,\u001b[0m \u001b[0mforce_all_finite\u001b[0m\u001b[0;34m=\u001b[0m\u001b[0;34m\"allow-nan\"\u001b[0m\u001b[0;34m)\u001b[0m\u001b[0;34m\u001b[0m\u001b[0;34m\u001b[0m\u001b[0m\n\u001b[0m\u001b[1;32m   1304\u001b[0m \u001b[0;34m\u001b[0m\u001b[0m\n\u001b[1;32m   1305\u001b[0m         \u001b[0mcardinalities\u001b[0m \u001b[0;34m=\u001b[0m \u001b[0;34m[\u001b[0m\u001b[0mlen\u001b[0m\u001b[0;34m(\u001b[0m\u001b[0mcategories\u001b[0m\u001b[0;34m)\u001b[0m \u001b[0;32mfor\u001b[0m \u001b[0mcategories\u001b[0m \u001b[0;32min\u001b[0m \u001b[0mself\u001b[0m\u001b[0;34m.\u001b[0m\u001b[0mcategories_\u001b[0m\u001b[0;34m]\u001b[0m\u001b[0;34m\u001b[0m\u001b[0;34m\u001b[0m\u001b[0m\n",
            "\u001b[0;32m/usr/local/lib/python3.10/dist-packages/sklearn/preprocessing/_encoders.py\u001b[0m in \u001b[0;36m_fit\u001b[0;34m(self, X, handle_unknown, force_all_finite, return_counts)\u001b[0m\n\u001b[1;32m     72\u001b[0m         \u001b[0mself\u001b[0m\u001b[0;34m.\u001b[0m\u001b[0m_check_n_features\u001b[0m\u001b[0;34m(\u001b[0m\u001b[0mX\u001b[0m\u001b[0;34m,\u001b[0m \u001b[0mreset\u001b[0m\u001b[0;34m=\u001b[0m\u001b[0;32mTrue\u001b[0m\u001b[0;34m)\u001b[0m\u001b[0;34m\u001b[0m\u001b[0;34m\u001b[0m\u001b[0m\n\u001b[1;32m     73\u001b[0m         \u001b[0mself\u001b[0m\u001b[0;34m.\u001b[0m\u001b[0m_check_feature_names\u001b[0m\u001b[0;34m(\u001b[0m\u001b[0mX\u001b[0m\u001b[0;34m,\u001b[0m \u001b[0mreset\u001b[0m\u001b[0;34m=\u001b[0m\u001b[0;32mTrue\u001b[0m\u001b[0;34m)\u001b[0m\u001b[0;34m\u001b[0m\u001b[0;34m\u001b[0m\u001b[0m\n\u001b[0;32m---> 74\u001b[0;31m         X_list, n_samples, n_features = self._check_X(\n\u001b[0m\u001b[1;32m     75\u001b[0m             \u001b[0mX\u001b[0m\u001b[0;34m,\u001b[0m \u001b[0mforce_all_finite\u001b[0m\u001b[0;34m=\u001b[0m\u001b[0mforce_all_finite\u001b[0m\u001b[0;34m\u001b[0m\u001b[0;34m\u001b[0m\u001b[0m\n\u001b[1;32m     76\u001b[0m         )\n",
            "\u001b[0;32m/usr/local/lib/python3.10/dist-packages/sklearn/preprocessing/_encoders.py\u001b[0m in \u001b[0;36m_check_X\u001b[0;34m(self, X, force_all_finite)\u001b[0m\n\u001b[1;32m     44\u001b[0m         \u001b[0;32mif\u001b[0m \u001b[0;32mnot\u001b[0m \u001b[0;34m(\u001b[0m\u001b[0mhasattr\u001b[0m\u001b[0;34m(\u001b[0m\u001b[0mX\u001b[0m\u001b[0;34m,\u001b[0m \u001b[0;34m\"iloc\"\u001b[0m\u001b[0;34m)\u001b[0m \u001b[0;32mand\u001b[0m \u001b[0mgetattr\u001b[0m\u001b[0;34m(\u001b[0m\u001b[0mX\u001b[0m\u001b[0;34m,\u001b[0m \u001b[0;34m\"ndim\"\u001b[0m\u001b[0;34m,\u001b[0m \u001b[0;36m0\u001b[0m\u001b[0;34m)\u001b[0m \u001b[0;34m==\u001b[0m \u001b[0;36m2\u001b[0m\u001b[0;34m)\u001b[0m\u001b[0;34m:\u001b[0m\u001b[0;34m\u001b[0m\u001b[0;34m\u001b[0m\u001b[0m\n\u001b[1;32m     45\u001b[0m             \u001b[0;31m# if not a dataframe, do normal check_array validation\u001b[0m\u001b[0;34m\u001b[0m\u001b[0;34m\u001b[0m\u001b[0m\n\u001b[0;32m---> 46\u001b[0;31m             \u001b[0mX_temp\u001b[0m \u001b[0;34m=\u001b[0m \u001b[0mcheck_array\u001b[0m\u001b[0;34m(\u001b[0m\u001b[0mX\u001b[0m\u001b[0;34m,\u001b[0m \u001b[0mdtype\u001b[0m\u001b[0;34m=\u001b[0m\u001b[0;32mNone\u001b[0m\u001b[0;34m,\u001b[0m \u001b[0mforce_all_finite\u001b[0m\u001b[0;34m=\u001b[0m\u001b[0mforce_all_finite\u001b[0m\u001b[0;34m)\u001b[0m\u001b[0;34m\u001b[0m\u001b[0;34m\u001b[0m\u001b[0m\n\u001b[0m\u001b[1;32m     47\u001b[0m             \u001b[0;32mif\u001b[0m \u001b[0;32mnot\u001b[0m \u001b[0mhasattr\u001b[0m\u001b[0;34m(\u001b[0m\u001b[0mX\u001b[0m\u001b[0;34m,\u001b[0m \u001b[0;34m\"dtype\"\u001b[0m\u001b[0;34m)\u001b[0m \u001b[0;32mand\u001b[0m \u001b[0mnp\u001b[0m\u001b[0;34m.\u001b[0m\u001b[0missubdtype\u001b[0m\u001b[0;34m(\u001b[0m\u001b[0mX_temp\u001b[0m\u001b[0;34m.\u001b[0m\u001b[0mdtype\u001b[0m\u001b[0;34m,\u001b[0m \u001b[0mnp\u001b[0m\u001b[0;34m.\u001b[0m\u001b[0mstr_\u001b[0m\u001b[0;34m)\u001b[0m\u001b[0;34m:\u001b[0m\u001b[0;34m\u001b[0m\u001b[0;34m\u001b[0m\u001b[0m\n\u001b[1;32m     48\u001b[0m                 \u001b[0mX\u001b[0m \u001b[0;34m=\u001b[0m \u001b[0mcheck_array\u001b[0m\u001b[0;34m(\u001b[0m\u001b[0mX\u001b[0m\u001b[0;34m,\u001b[0m \u001b[0mdtype\u001b[0m\u001b[0;34m=\u001b[0m\u001b[0mobject\u001b[0m\u001b[0;34m,\u001b[0m \u001b[0mforce_all_finite\u001b[0m\u001b[0;34m=\u001b[0m\u001b[0mforce_all_finite\u001b[0m\u001b[0;34m)\u001b[0m\u001b[0;34m\u001b[0m\u001b[0;34m\u001b[0m\u001b[0m\n",
            "\u001b[0;32m/usr/local/lib/python3.10/dist-packages/sklearn/utils/validation.py\u001b[0m in \u001b[0;36mcheck_array\u001b[0;34m(array, accept_sparse, accept_large_sparse, dtype, order, copy, force_all_finite, ensure_2d, allow_nd, ensure_min_samples, ensure_min_features, estimator, input_name)\u001b[0m\n\u001b[1;32m    900\u001b[0m             \u001b[0;31m# If input is 1D raise error\u001b[0m\u001b[0;34m\u001b[0m\u001b[0;34m\u001b[0m\u001b[0m\n\u001b[1;32m    901\u001b[0m             \u001b[0;32mif\u001b[0m \u001b[0marray\u001b[0m\u001b[0;34m.\u001b[0m\u001b[0mndim\u001b[0m \u001b[0;34m==\u001b[0m \u001b[0;36m1\u001b[0m\u001b[0;34m:\u001b[0m\u001b[0;34m\u001b[0m\u001b[0;34m\u001b[0m\u001b[0m\n\u001b[0;32m--> 902\u001b[0;31m                 raise ValueError(\n\u001b[0m\u001b[1;32m    903\u001b[0m                     \u001b[0;34m\"Expected 2D array, got 1D array instead:\\narray={}.\\n\"\u001b[0m\u001b[0;34m\u001b[0m\u001b[0;34m\u001b[0m\u001b[0m\n\u001b[1;32m    904\u001b[0m                     \u001b[0;34m\"Reshape your data either using array.reshape(-1, 1) if \"\u001b[0m\u001b[0;34m\u001b[0m\u001b[0;34m\u001b[0m\u001b[0m\n",
            "\u001b[0;31mValueError\u001b[0m: Expected 2D array, got 1D array instead:\narray=[0       Bajo\n 1       Alto\n 2       Alto\n 3       Alto\n 4       Alto\n         ...\n 6621    Alto\n 6622    Bajo\n 6623    Bajo\n 6624    Alto\n 6625     NaN\n Name: DURACION_TIEMPO_ATENCION, Length: 6626, dtype: category\n Categories (3, object): ['Bajo' < 'Medio' < 'Alto']          ].\nReshape your data either using array.reshape(-1, 1) if your data has a single feature or array.reshape(1, -1) if it contains a single sample."
          ]
        }
      ]
    },
    {
      "cell_type": "code",
      "source": [],
      "metadata": {
        "id": "cn-ohizk4fsq"
      },
      "execution_count": null,
      "outputs": []
    },
    {
      "cell_type": "code",
      "source": [],
      "metadata": {
        "id": "P7aLBveS4fpv"
      },
      "execution_count": null,
      "outputs": []
    },
    {
      "cell_type": "markdown",
      "metadata": {
        "id": "0kj4wvQftAbE"
      },
      "source": [
        "# **TRANSFORMACION ONE HOT ENCODING**\n",
        "UTILIZANDO VARIABLE CATEGORICA TURNO (Matutino, Tarde, Nocturno)"
      ]
    },
    {
      "cell_type": "markdown",
      "source": [
        "**Actualmente en el centro de operacion de red hay 3 turnos, matutino, tarde y nocturno, y esta variable categorica nos indica en que turno se aperturó el incidente."
      ],
      "metadata": {
        "id": "UA-VB6ZgGbAm"
      }
    },
    {
      "cell_type": "code",
      "execution_count": null,
      "metadata": {
        "id": "CQmgYtH4trjx",
        "colab": {
          "base_uri": "https://localhost:8080/"
        },
        "outputId": "430ce54e-0efd-409a-c8f8-c3ff027d225a"
      },
      "outputs": [
        {
          "output_type": "execute_result",
          "data": {
            "text/plain": [
              "array(['Nocturno', 'Tarde', 'Matutino'], dtype=object)"
            ]
          },
          "metadata": {},
          "execution_count": 135
        }
      ],
      "source": [
        "dfo[\"TURNO\"].unique()"
      ]
    },
    {
      "cell_type": "markdown",
      "source": [
        "**Arriba obtenemos los valores únicos de la variable TURNO y vemos que está compuesto por los tres valores: Nocturno, Tarde y Matutino.**"
      ],
      "metadata": {
        "id": "yGsE55LHTXw2"
      }
    },
    {
      "cell_type": "markdown",
      "source": [
        "Iniciamos a importar OneHotEncoder"
      ],
      "metadata": {
        "id": "S3bd1of3To5E"
      }
    },
    {
      "cell_type": "code",
      "execution_count": null,
      "metadata": {
        "id": "Y9v7ycpduYPd"
      },
      "outputs": [],
      "source": [
        "from sklearn.preprocessing import OneHotEncoder"
      ]
    },
    {
      "cell_type": "markdown",
      "source": [
        "**Le aplicamos fit transform al data frame original (dfo) a la variable \"Turno\"**"
      ],
      "metadata": {
        "id": "y5Z3owCOUCzu"
      }
    },
    {
      "cell_type": "code",
      "execution_count": null,
      "metadata": {
        "id": "xfKLqFiZt2Ys",
        "colab": {
          "base_uri": "https://localhost:8080/"
        },
        "outputId": "13c6eee6-4481-4963-ead4-07c1bc9d20c3"
      },
      "outputs": [
        {
          "output_type": "execute_result",
          "data": {
            "text/plain": [
              "array([[0., 1., 0.],\n",
              "       [0., 1., 0.],\n",
              "       [0., 1., 0.],\n",
              "       ...,\n",
              "       [0., 0., 1.],\n",
              "       [0., 0., 1.],\n",
              "       [0., 1., 0.]])"
            ]
          },
          "metadata": {},
          "execution_count": 137
        }
      ],
      "source": [
        "ohe = OneHotEncoder()\n",
        "ohe.fit_transform(dfo[[\"TURNO\"]]).toarray()"
      ]
    },
    {
      "cell_type": "code",
      "source": [
        "feature_arry = ohe.fit_transform(dfo[[\"TURNO\"]]).toarray()\n",
        "ohe.categories_\n",
        "feature_labels = ohe.categories_\n",
        "np.array(feature_labels).ravel()"
      ],
      "metadata": {
        "id": "7z1MsbIDRevN",
        "colab": {
          "base_uri": "https://localhost:8080/"
        },
        "outputId": "81a90dc7-bbf5-4b51-8a62-a163b20cc8e4"
      },
      "execution_count": null,
      "outputs": [
        {
          "output_type": "execute_result",
          "data": {
            "text/plain": [
              "array(['Matutino', 'Nocturno', 'Tarde'], dtype=object)"
            ]
          },
          "metadata": {},
          "execution_count": 138
        }
      ]
    },
    {
      "cell_type": "code",
      "source": [
        "print(feature_labels)"
      ],
      "metadata": {
        "id": "9Is6wfo9R7w0",
        "colab": {
          "base_uri": "https://localhost:8080/"
        },
        "outputId": "39492914-ac34-4a48-c047-39c164156b0a"
      },
      "execution_count": null,
      "outputs": [
        {
          "output_type": "stream",
          "name": "stdout",
          "text": [
            "[array(['Matutino', 'Nocturno', 'Tarde'], dtype=object)]\n"
          ]
        }
      ]
    },
    {
      "cell_type": "markdown",
      "source": [
        "**OBtenemos la nueva transformación con las nuevas 3 columnas \"Matutino\", \"Nocturno\" y \"Tarde\".**"
      ],
      "metadata": {
        "id": "V-tErql2XG44"
      }
    },
    {
      "cell_type": "code",
      "source": [
        "features = pd.DataFrame(feature_arry, columns = feature_labels)"
      ],
      "metadata": {
        "id": "82SCf2dbSClb"
      },
      "execution_count": null,
      "outputs": []
    },
    {
      "cell_type": "code",
      "source": [
        "print(features)"
      ],
      "metadata": {
        "id": "7kAwZaMhSCir",
        "colab": {
          "base_uri": "https://localhost:8080/"
        },
        "outputId": "19f30979-ad7f-4498-a86b-356cac25774e"
      },
      "execution_count": null,
      "outputs": [
        {
          "output_type": "stream",
          "name": "stdout",
          "text": [
            "     Matutino Nocturno Tarde\n",
            "0         0.0      1.0   0.0\n",
            "1         0.0      1.0   0.0\n",
            "2         0.0      1.0   0.0\n",
            "3         0.0      1.0   0.0\n",
            "4         0.0      1.0   0.0\n",
            "...       ...      ...   ...\n",
            "6621      0.0      0.0   1.0\n",
            "6622      0.0      1.0   0.0\n",
            "6623      0.0      0.0   1.0\n",
            "6624      0.0      0.0   1.0\n",
            "6625      0.0      1.0   0.0\n",
            "\n",
            "[6626 rows x 3 columns]\n"
          ]
        }
      ]
    },
    {
      "cell_type": "markdown",
      "source": [
        "**Concatenamos los 3 nuevos features obtenidos anteriormente con el Data Frame Original (dfo).**"
      ],
      "metadata": {
        "id": "vprtuArcXZy1"
      }
    },
    {
      "cell_type": "code",
      "source": [
        "pd.concat([dfo,features], axis=1)"
      ],
      "metadata": {
        "id": "ZNSup9mLSCfK",
        "colab": {
          "base_uri": "https://localhost:8080/",
          "height": 661
        },
        "outputId": "d2d1687b-44c8-4e6f-cc35-1a0d46d7832d"
      },
      "execution_count": null,
      "outputs": [
        {
          "output_type": "execute_result",
          "data": {
            "text/plain": [
              "      ACCUMULATEDHOLDTIME      ACTUALFINISH       ACTUALSTART  \\\n",
              "0                    0.00   1/01/2023 08:31   1/01/2023 00:22   \n",
              "1                    0.00   1/01/2023 09:22   1/01/2023 00:32   \n",
              "2                    0.00   1/01/2023 08:07   1/01/2023 04:43   \n",
              "3                    0.00   1/01/2023 13:46   1/01/2023 04:54   \n",
              "4                    0.00   1/01/2023 13:46   1/01/2023 04:54   \n",
              "...                   ...               ...               ...   \n",
              "6621                 0.00  31/01/2023 07:42  31/01/2023 07:41   \n",
              "6622                11.95  31/01/2023 10:55  30/01/2023 22:46   \n",
              "6623                 0.00  30/01/2023 23:20  30/01/2023 23:07   \n",
              "6624                 0.00  31/01/2023 07:44  31/01/2023 07:43   \n",
              "6625                 0.00  31/01/2023 00:18  30/01/2023 23:21   \n",
              "\n",
              "     MINUTOS_DURACION_AFECTACION HORAS_DURACION_AFECTACION  \\\n",
              "0                            489                      8.00   \n",
              "1                            529                      9.00   \n",
              "2                            204                      3.00   \n",
              "3                            532                      9.00   \n",
              "4                            532                      9.00   \n",
              "...                          ...                       ...   \n",
              "6621                           0                      0.00   \n",
              "6622                         729                     12.00   \n",
              "6623                          13                      0.00   \n",
              "6624                           1                      0.00   \n",
              "6625                          57                      1.00   \n",
              "\n",
              "      DURACION_TIEMPO_ATENCION ADJUSTEDTARGETRESOLUTIONTIME      AFFECTEDDATE  \\\n",
              "0                            3                          NaN   1/01/2023 00:19   \n",
              "1                           48                          NaN  31/12/2022 23:44   \n",
              "2                          304                          NaN  31/12/2022 23:36   \n",
              "3                          208                          NaN   1/01/2023 01:25   \n",
              "4                          208                          NaN   1/01/2023 01:24   \n",
              "...                        ...                          ...               ...   \n",
              "6621                       541                          NaN  31/12/1969 18:00   \n",
              "6622                         1                      41:52.5  30/01/2023 22:44   \n",
              "6623                         5                          NaN  31/12/1969 18:00   \n",
              "6624                       517                          NaN  31/12/1969 18:00   \n",
              "6625                         0                          NaN  30/01/2023 23:20   \n",
              "\n",
              "      HORA_AFECTACION     TURNO  ... OWNERSYSID LOCATION LOCATION_DESCRIPTION  \\\n",
              "0                   0  Nocturno  ...  -90.35708   SRS681            BARBERENA   \n",
              "1                  23  Nocturno  ...  -90.28575   SRS688     NUEVA SANTA ROSA   \n",
              "2                  23  Nocturno  ...  -89.42787   AVP789   RANCHO JOSE Y JOSE   \n",
              "3                   1  Nocturno  ...  -89.77817   PTN521         ROSA ATITLAN   \n",
              "4                   1  Nocturno  ...  -89.69531   PTN393        MACHAQUILAITO   \n",
              "...               ...       ...  ...        ...      ...                  ...   \n",
              "6621               18     Tarde  ...        NaN       TH                  NaN   \n",
              "6622               22  Nocturno  ...   -90.8305   CHM719       MIGUEL HIDALGO   \n",
              "6623               18     Tarde  ...   -90.7869   ESC862       PLAZA PALMERAS   \n",
              "6624               18     Tarde  ...  -91.48431   HHT348    HUEHUETENANGO VII   \n",
              "6625               23  Nocturno  ...  -89.52367   ZCP583               ZACAPA   \n",
              "\n",
              "         LOCATION_CITY LOCATION_DEPTO CRITICO   CASE (Matutino,)  (Nocturno,)  \\\n",
              "0            BARBERENA     SANTA ROSA     NaN  train         0.0          1.0   \n",
              "1     NUEVA SANTA ROSA     SANTA ROSA     NaN  train         0.0          1.0   \n",
              "2               CHAHAL   ALTA VERAPAZ     NaN  train         0.0          1.0   \n",
              "3             SAN LUIS          PETEN     NaN  train         0.0          1.0   \n",
              "4             SAN LUIS          PETEN     NaN  train         0.0          1.0   \n",
              "...                ...            ...     ...    ...         ...          ...   \n",
              "6621               NaN            NaN     NaN   test         0.0          0.0   \n",
              "6622     CHIMALTENANGO  CHIMALTENANGO     NaN  train         0.0          1.0   \n",
              "6623         ESCUINTLA      ESCUINTLA     NaN  train         0.0          0.0   \n",
              "6624     HUEHUETENANGO  HUEHUETENANGO     NaN  train         0.0          0.0   \n",
              "6625            ZACAPA         ZACAPA     NaN  train         0.0          1.0   \n",
              "\n",
              "     (Tarde,)  \n",
              "0         0.0  \n",
              "1         0.0  \n",
              "2         0.0  \n",
              "3         0.0  \n",
              "4         0.0  \n",
              "...       ...  \n",
              "6621      1.0  \n",
              "6622      0.0  \n",
              "6623      1.0  \n",
              "6624      1.0  \n",
              "6625      0.0  \n",
              "\n",
              "[6626 rows x 71 columns]"
            ],
            "text/html": [
              "\n",
              "  <div id=\"df-f6d7c473-c6c0-48d5-b4b9-56401d0913cc\">\n",
              "    <div class=\"colab-df-container\">\n",
              "      <div>\n",
              "<style scoped>\n",
              "    .dataframe tbody tr th:only-of-type {\n",
              "        vertical-align: middle;\n",
              "    }\n",
              "\n",
              "    .dataframe tbody tr th {\n",
              "        vertical-align: top;\n",
              "    }\n",
              "\n",
              "    .dataframe thead th {\n",
              "        text-align: right;\n",
              "    }\n",
              "</style>\n",
              "<table border=\"1\" class=\"dataframe\">\n",
              "  <thead>\n",
              "    <tr style=\"text-align: right;\">\n",
              "      <th></th>\n",
              "      <th>ACCUMULATEDHOLDTIME</th>\n",
              "      <th>ACTUALFINISH</th>\n",
              "      <th>ACTUALSTART</th>\n",
              "      <th>MINUTOS_DURACION_AFECTACION</th>\n",
              "      <th>HORAS_DURACION_AFECTACION</th>\n",
              "      <th>DURACION_TIEMPO_ATENCION</th>\n",
              "      <th>ADJUSTEDTARGETRESOLUTIONTIME</th>\n",
              "      <th>AFFECTEDDATE</th>\n",
              "      <th>HORA_AFECTACION</th>\n",
              "      <th>TURNO</th>\n",
              "      <th>...</th>\n",
              "      <th>OWNERSYSID</th>\n",
              "      <th>LOCATION</th>\n",
              "      <th>LOCATION_DESCRIPTION</th>\n",
              "      <th>LOCATION_CITY</th>\n",
              "      <th>LOCATION_DEPTO</th>\n",
              "      <th>CRITICO</th>\n",
              "      <th>CASE</th>\n",
              "      <th>(Matutino,)</th>\n",
              "      <th>(Nocturno,)</th>\n",
              "      <th>(Tarde,)</th>\n",
              "    </tr>\n",
              "  </thead>\n",
              "  <tbody>\n",
              "    <tr>\n",
              "      <th>0</th>\n",
              "      <td>0.00</td>\n",
              "      <td>1/01/2023 08:31</td>\n",
              "      <td>1/01/2023 00:22</td>\n",
              "      <td>489</td>\n",
              "      <td>8.00</td>\n",
              "      <td>3</td>\n",
              "      <td>NaN</td>\n",
              "      <td>1/01/2023 00:19</td>\n",
              "      <td>0</td>\n",
              "      <td>Nocturno</td>\n",
              "      <td>...</td>\n",
              "      <td>-90.35708</td>\n",
              "      <td>SRS681</td>\n",
              "      <td>BARBERENA</td>\n",
              "      <td>BARBERENA</td>\n",
              "      <td>SANTA ROSA</td>\n",
              "      <td>NaN</td>\n",
              "      <td>train</td>\n",
              "      <td>0.0</td>\n",
              "      <td>1.0</td>\n",
              "      <td>0.0</td>\n",
              "    </tr>\n",
              "    <tr>\n",
              "      <th>1</th>\n",
              "      <td>0.00</td>\n",
              "      <td>1/01/2023 09:22</td>\n",
              "      <td>1/01/2023 00:32</td>\n",
              "      <td>529</td>\n",
              "      <td>9.00</td>\n",
              "      <td>48</td>\n",
              "      <td>NaN</td>\n",
              "      <td>31/12/2022 23:44</td>\n",
              "      <td>23</td>\n",
              "      <td>Nocturno</td>\n",
              "      <td>...</td>\n",
              "      <td>-90.28575</td>\n",
              "      <td>SRS688</td>\n",
              "      <td>NUEVA SANTA ROSA</td>\n",
              "      <td>NUEVA SANTA ROSA</td>\n",
              "      <td>SANTA ROSA</td>\n",
              "      <td>NaN</td>\n",
              "      <td>train</td>\n",
              "      <td>0.0</td>\n",
              "      <td>1.0</td>\n",
              "      <td>0.0</td>\n",
              "    </tr>\n",
              "    <tr>\n",
              "      <th>2</th>\n",
              "      <td>0.00</td>\n",
              "      <td>1/01/2023 08:07</td>\n",
              "      <td>1/01/2023 04:43</td>\n",
              "      <td>204</td>\n",
              "      <td>3.00</td>\n",
              "      <td>304</td>\n",
              "      <td>NaN</td>\n",
              "      <td>31/12/2022 23:36</td>\n",
              "      <td>23</td>\n",
              "      <td>Nocturno</td>\n",
              "      <td>...</td>\n",
              "      <td>-89.42787</td>\n",
              "      <td>AVP789</td>\n",
              "      <td>RANCHO JOSE Y JOSE</td>\n",
              "      <td>CHAHAL</td>\n",
              "      <td>ALTA VERAPAZ</td>\n",
              "      <td>NaN</td>\n",
              "      <td>train</td>\n",
              "      <td>0.0</td>\n",
              "      <td>1.0</td>\n",
              "      <td>0.0</td>\n",
              "    </tr>\n",
              "    <tr>\n",
              "      <th>3</th>\n",
              "      <td>0.00</td>\n",
              "      <td>1/01/2023 13:46</td>\n",
              "      <td>1/01/2023 04:54</td>\n",
              "      <td>532</td>\n",
              "      <td>9.00</td>\n",
              "      <td>208</td>\n",
              "      <td>NaN</td>\n",
              "      <td>1/01/2023 01:25</td>\n",
              "      <td>1</td>\n",
              "      <td>Nocturno</td>\n",
              "      <td>...</td>\n",
              "      <td>-89.77817</td>\n",
              "      <td>PTN521</td>\n",
              "      <td>ROSA ATITLAN</td>\n",
              "      <td>SAN LUIS</td>\n",
              "      <td>PETEN</td>\n",
              "      <td>NaN</td>\n",
              "      <td>train</td>\n",
              "      <td>0.0</td>\n",
              "      <td>1.0</td>\n",
              "      <td>0.0</td>\n",
              "    </tr>\n",
              "    <tr>\n",
              "      <th>4</th>\n",
              "      <td>0.00</td>\n",
              "      <td>1/01/2023 13:46</td>\n",
              "      <td>1/01/2023 04:54</td>\n",
              "      <td>532</td>\n",
              "      <td>9.00</td>\n",
              "      <td>208</td>\n",
              "      <td>NaN</td>\n",
              "      <td>1/01/2023 01:24</td>\n",
              "      <td>1</td>\n",
              "      <td>Nocturno</td>\n",
              "      <td>...</td>\n",
              "      <td>-89.69531</td>\n",
              "      <td>PTN393</td>\n",
              "      <td>MACHAQUILAITO</td>\n",
              "      <td>SAN LUIS</td>\n",
              "      <td>PETEN</td>\n",
              "      <td>NaN</td>\n",
              "      <td>train</td>\n",
              "      <td>0.0</td>\n",
              "      <td>1.0</td>\n",
              "      <td>0.0</td>\n",
              "    </tr>\n",
              "    <tr>\n",
              "      <th>...</th>\n",
              "      <td>...</td>\n",
              "      <td>...</td>\n",
              "      <td>...</td>\n",
              "      <td>...</td>\n",
              "      <td>...</td>\n",
              "      <td>...</td>\n",
              "      <td>...</td>\n",
              "      <td>...</td>\n",
              "      <td>...</td>\n",
              "      <td>...</td>\n",
              "      <td>...</td>\n",
              "      <td>...</td>\n",
              "      <td>...</td>\n",
              "      <td>...</td>\n",
              "      <td>...</td>\n",
              "      <td>...</td>\n",
              "      <td>...</td>\n",
              "      <td>...</td>\n",
              "      <td>...</td>\n",
              "      <td>...</td>\n",
              "      <td>...</td>\n",
              "    </tr>\n",
              "    <tr>\n",
              "      <th>6621</th>\n",
              "      <td>0.00</td>\n",
              "      <td>31/01/2023 07:42</td>\n",
              "      <td>31/01/2023 07:41</td>\n",
              "      <td>0</td>\n",
              "      <td>0.00</td>\n",
              "      <td>541</td>\n",
              "      <td>NaN</td>\n",
              "      <td>31/12/1969 18:00</td>\n",
              "      <td>18</td>\n",
              "      <td>Tarde</td>\n",
              "      <td>...</td>\n",
              "      <td>NaN</td>\n",
              "      <td>TH</td>\n",
              "      <td>NaN</td>\n",
              "      <td>NaN</td>\n",
              "      <td>NaN</td>\n",
              "      <td>NaN</td>\n",
              "      <td>test</td>\n",
              "      <td>0.0</td>\n",
              "      <td>0.0</td>\n",
              "      <td>1.0</td>\n",
              "    </tr>\n",
              "    <tr>\n",
              "      <th>6622</th>\n",
              "      <td>11.95</td>\n",
              "      <td>31/01/2023 10:55</td>\n",
              "      <td>30/01/2023 22:46</td>\n",
              "      <td>729</td>\n",
              "      <td>12.00</td>\n",
              "      <td>1</td>\n",
              "      <td>41:52.5</td>\n",
              "      <td>30/01/2023 22:44</td>\n",
              "      <td>22</td>\n",
              "      <td>Nocturno</td>\n",
              "      <td>...</td>\n",
              "      <td>-90.8305</td>\n",
              "      <td>CHM719</td>\n",
              "      <td>MIGUEL HIDALGO</td>\n",
              "      <td>CHIMALTENANGO</td>\n",
              "      <td>CHIMALTENANGO</td>\n",
              "      <td>NaN</td>\n",
              "      <td>train</td>\n",
              "      <td>0.0</td>\n",
              "      <td>1.0</td>\n",
              "      <td>0.0</td>\n",
              "    </tr>\n",
              "    <tr>\n",
              "      <th>6623</th>\n",
              "      <td>0.00</td>\n",
              "      <td>30/01/2023 23:20</td>\n",
              "      <td>30/01/2023 23:07</td>\n",
              "      <td>13</td>\n",
              "      <td>0.00</td>\n",
              "      <td>5</td>\n",
              "      <td>NaN</td>\n",
              "      <td>31/12/1969 18:00</td>\n",
              "      <td>18</td>\n",
              "      <td>Tarde</td>\n",
              "      <td>...</td>\n",
              "      <td>-90.7869</td>\n",
              "      <td>ESC862</td>\n",
              "      <td>PLAZA PALMERAS</td>\n",
              "      <td>ESCUINTLA</td>\n",
              "      <td>ESCUINTLA</td>\n",
              "      <td>NaN</td>\n",
              "      <td>train</td>\n",
              "      <td>0.0</td>\n",
              "      <td>0.0</td>\n",
              "      <td>1.0</td>\n",
              "    </tr>\n",
              "    <tr>\n",
              "      <th>6624</th>\n",
              "      <td>0.00</td>\n",
              "      <td>31/01/2023 07:44</td>\n",
              "      <td>31/01/2023 07:43</td>\n",
              "      <td>1</td>\n",
              "      <td>0.00</td>\n",
              "      <td>517</td>\n",
              "      <td>NaN</td>\n",
              "      <td>31/12/1969 18:00</td>\n",
              "      <td>18</td>\n",
              "      <td>Tarde</td>\n",
              "      <td>...</td>\n",
              "      <td>-91.48431</td>\n",
              "      <td>HHT348</td>\n",
              "      <td>HUEHUETENANGO VII</td>\n",
              "      <td>HUEHUETENANGO</td>\n",
              "      <td>HUEHUETENANGO</td>\n",
              "      <td>NaN</td>\n",
              "      <td>train</td>\n",
              "      <td>0.0</td>\n",
              "      <td>0.0</td>\n",
              "      <td>1.0</td>\n",
              "    </tr>\n",
              "    <tr>\n",
              "      <th>6625</th>\n",
              "      <td>0.00</td>\n",
              "      <td>31/01/2023 00:18</td>\n",
              "      <td>30/01/2023 23:21</td>\n",
              "      <td>57</td>\n",
              "      <td>1.00</td>\n",
              "      <td>0</td>\n",
              "      <td>NaN</td>\n",
              "      <td>30/01/2023 23:20</td>\n",
              "      <td>23</td>\n",
              "      <td>Nocturno</td>\n",
              "      <td>...</td>\n",
              "      <td>-89.52367</td>\n",
              "      <td>ZCP583</td>\n",
              "      <td>ZACAPA</td>\n",
              "      <td>ZACAPA</td>\n",
              "      <td>ZACAPA</td>\n",
              "      <td>NaN</td>\n",
              "      <td>train</td>\n",
              "      <td>0.0</td>\n",
              "      <td>1.0</td>\n",
              "      <td>0.0</td>\n",
              "    </tr>\n",
              "  </tbody>\n",
              "</table>\n",
              "<p>6626 rows × 71 columns</p>\n",
              "</div>\n",
              "      <button class=\"colab-df-convert\" onclick=\"convertToInteractive('df-f6d7c473-c6c0-48d5-b4b9-56401d0913cc')\"\n",
              "              title=\"Convert this dataframe to an interactive table.\"\n",
              "              style=\"display:none;\">\n",
              "        \n",
              "  <svg xmlns=\"http://www.w3.org/2000/svg\" height=\"24px\"viewBox=\"0 0 24 24\"\n",
              "       width=\"24px\">\n",
              "    <path d=\"M0 0h24v24H0V0z\" fill=\"none\"/>\n",
              "    <path d=\"M18.56 5.44l.94 2.06.94-2.06 2.06-.94-2.06-.94-.94-2.06-.94 2.06-2.06.94zm-11 1L8.5 8.5l.94-2.06 2.06-.94-2.06-.94L8.5 2.5l-.94 2.06-2.06.94zm10 10l.94 2.06.94-2.06 2.06-.94-2.06-.94-.94-2.06-.94 2.06-2.06.94z\"/><path d=\"M17.41 7.96l-1.37-1.37c-.4-.4-.92-.59-1.43-.59-.52 0-1.04.2-1.43.59L10.3 9.45l-7.72 7.72c-.78.78-.78 2.05 0 2.83L4 21.41c.39.39.9.59 1.41.59.51 0 1.02-.2 1.41-.59l7.78-7.78 2.81-2.81c.8-.78.8-2.07 0-2.86zM5.41 20L4 18.59l7.72-7.72 1.47 1.35L5.41 20z\"/>\n",
              "  </svg>\n",
              "      </button>\n",
              "      \n",
              "  <style>\n",
              "    .colab-df-container {\n",
              "      display:flex;\n",
              "      flex-wrap:wrap;\n",
              "      gap: 12px;\n",
              "    }\n",
              "\n",
              "    .colab-df-convert {\n",
              "      background-color: #E8F0FE;\n",
              "      border: none;\n",
              "      border-radius: 50%;\n",
              "      cursor: pointer;\n",
              "      display: none;\n",
              "      fill: #1967D2;\n",
              "      height: 32px;\n",
              "      padding: 0 0 0 0;\n",
              "      width: 32px;\n",
              "    }\n",
              "\n",
              "    .colab-df-convert:hover {\n",
              "      background-color: #E2EBFA;\n",
              "      box-shadow: 0px 1px 2px rgba(60, 64, 67, 0.3), 0px 1px 3px 1px rgba(60, 64, 67, 0.15);\n",
              "      fill: #174EA6;\n",
              "    }\n",
              "\n",
              "    [theme=dark] .colab-df-convert {\n",
              "      background-color: #3B4455;\n",
              "      fill: #D2E3FC;\n",
              "    }\n",
              "\n",
              "    [theme=dark] .colab-df-convert:hover {\n",
              "      background-color: #434B5C;\n",
              "      box-shadow: 0px 1px 3px 1px rgba(0, 0, 0, 0.15);\n",
              "      filter: drop-shadow(0px 1px 2px rgba(0, 0, 0, 0.3));\n",
              "      fill: #FFFFFF;\n",
              "    }\n",
              "  </style>\n",
              "\n",
              "      <script>\n",
              "        const buttonEl =\n",
              "          document.querySelector('#df-f6d7c473-c6c0-48d5-b4b9-56401d0913cc button.colab-df-convert');\n",
              "        buttonEl.style.display =\n",
              "          google.colab.kernel.accessAllowed ? 'block' : 'none';\n",
              "\n",
              "        async function convertToInteractive(key) {\n",
              "          const element = document.querySelector('#df-f6d7c473-c6c0-48d5-b4b9-56401d0913cc');\n",
              "          const dataTable =\n",
              "            await google.colab.kernel.invokeFunction('convertToInteractive',\n",
              "                                                     [key], {});\n",
              "          if (!dataTable) return;\n",
              "\n",
              "          const docLinkHtml = 'Like what you see? Visit the ' +\n",
              "            '<a target=\"_blank\" href=https://colab.research.google.com/notebooks/data_table.ipynb>data table notebook</a>'\n",
              "            + ' to learn more about interactive tables.';\n",
              "          element.innerHTML = '';\n",
              "          dataTable['output_type'] = 'display_data';\n",
              "          await google.colab.output.renderOutput(dataTable, element);\n",
              "          const docLink = document.createElement('div');\n",
              "          docLink.innerHTML = docLinkHtml;\n",
              "          element.appendChild(docLink);\n",
              "        }\n",
              "      </script>\n",
              "    </div>\n",
              "  </div>\n",
              "  "
            ]
          },
          "metadata": {},
          "execution_count": 142
        }
      ]
    },
    {
      "cell_type": "markdown",
      "source": [
        "## Feature Scaling"
      ],
      "metadata": {
        "id": "y8jSFfqQCLYS"
      }
    },
    {
      "cell_type": "code",
      "source": [
        "#Code"
      ],
      "metadata": {
        "id": "OXsHuOFKCJ64"
      },
      "execution_count": null,
      "outputs": []
    },
    {
      "cell_type": "code",
      "source": [
        "import pandas as pd\n",
        "import numpy as np\n",
        "import matplotlib.pyplot as plt\n",
        "import seaborn as sns\n",
        "import plotly.express as px\n",
        "import plotly.graph_objects as go\n",
        "from sklearn.preprocessing import MinMaxScaler"
      ],
      "metadata": {
        "id": "xFJZ-wWnDM2R"
      },
      "execution_count": null,
      "outputs": []
    },
    {
      "cell_type": "code",
      "source": [
        "from sklearn.model_selection import train_test_split"
      ],
      "metadata": {
        "id": "5N_n1U0dFew-"
      },
      "execution_count": null,
      "outputs": []
    },
    {
      "cell_type": "code",
      "source": [
        "dfs.head()"
      ],
      "metadata": {
        "colab": {
          "base_uri": "https://localhost:8080/",
          "height": 386
        },
        "id": "KhnXDuyPFlow",
        "outputId": "75ab3d6f-8587-4b7b-99e3-855b0176e041"
      },
      "execution_count": null,
      "outputs": [
        {
          "output_type": "execute_result",
          "data": {
            "text/plain": [
              "   ACCUMULATEDHOLDTIME     ACTUALFINISH      ACTUALSTART  \\\n",
              "0                  0.0  1/01/2023 08:31  1/01/2023 00:22   \n",
              "1                  0.0  1/01/2023 09:22  1/01/2023 00:32   \n",
              "2                  0.0  1/01/2023 08:07  1/01/2023 04:43   \n",
              "3                  0.0  1/01/2023 13:46  1/01/2023 04:54   \n",
              "4                  0.0  1/01/2023 13:46  1/01/2023 04:54   \n",
              "\n",
              "  MINUTOS_DURACION_AFECTACION HORAS_DURACION_AFECTACION  \\\n",
              "0                         489                      8.00   \n",
              "1                         529                      9.00   \n",
              "2                         204                      3.00   \n",
              "3                         532                      9.00   \n",
              "4                         532                      9.00   \n",
              "\n",
              "   DURACION_TIEMPO_ATENCION ADJUSTEDTARGETRESOLUTIONTIME      AFFECTEDDATE  \\\n",
              "0                         3                          NaN   1/01/2023 00:19   \n",
              "1                        48                          NaN  31/12/2022 23:44   \n",
              "2                       304                          NaN  31/12/2022 23:36   \n",
              "3                       208                          NaN   1/01/2023 01:25   \n",
              "4                       208                          NaN   1/01/2023 01:24   \n",
              "\n",
              "   HORA_AFECTACION     TURNO  ... GLOBALTICKETID PMCCIIMPACT SOURCESYSID  \\\n",
              "0                0  Nocturno  ...            NaN         NaN    14.30111   \n",
              "1               23  Nocturno  ...            NaN         1.0    14.37881   \n",
              "2               23  Nocturno  ...     31489538.0         3.0    15.83373   \n",
              "3                1  Nocturno  ...     31489549.0         3.0    16.05865   \n",
              "4                1  Nocturno  ...     31489549.0         2.0    16.06111   \n",
              "\n",
              "  OWNERSYSID LOCATION LOCATION_DESCRIPTION     LOCATION_CITY LOCATION_DEPTO  \\\n",
              "0  -90.35708   SRS681            BARBERENA         BARBERENA     SANTA ROSA   \n",
              "1  -90.28575   SRS688     NUEVA SANTA ROSA  NUEVA SANTA ROSA     SANTA ROSA   \n",
              "2  -89.42787   AVP789   RANCHO JOSE Y JOSE            CHAHAL   ALTA VERAPAZ   \n",
              "3  -89.77817   PTN521         ROSA ATITLAN          SAN LUIS          PETEN   \n",
              "4  -89.69531   PTN393        MACHAQUILAITO          SAN LUIS          PETEN   \n",
              "\n",
              "   CRITICO   CASE  \n",
              "0      NaN  train  \n",
              "1      NaN  train  \n",
              "2      NaN  train  \n",
              "3      NaN  train  \n",
              "4      NaN  train  \n",
              "\n",
              "[5 rows x 68 columns]"
            ],
            "text/html": [
              "\n",
              "  <div id=\"df-9bfff1df-7a77-45f3-8d81-43bdf28a10c5\">\n",
              "    <div class=\"colab-df-container\">\n",
              "      <div>\n",
              "<style scoped>\n",
              "    .dataframe tbody tr th:only-of-type {\n",
              "        vertical-align: middle;\n",
              "    }\n",
              "\n",
              "    .dataframe tbody tr th {\n",
              "        vertical-align: top;\n",
              "    }\n",
              "\n",
              "    .dataframe thead th {\n",
              "        text-align: right;\n",
              "    }\n",
              "</style>\n",
              "<table border=\"1\" class=\"dataframe\">\n",
              "  <thead>\n",
              "    <tr style=\"text-align: right;\">\n",
              "      <th></th>\n",
              "      <th>ACCUMULATEDHOLDTIME</th>\n",
              "      <th>ACTUALFINISH</th>\n",
              "      <th>ACTUALSTART</th>\n",
              "      <th>MINUTOS_DURACION_AFECTACION</th>\n",
              "      <th>HORAS_DURACION_AFECTACION</th>\n",
              "      <th>DURACION_TIEMPO_ATENCION</th>\n",
              "      <th>ADJUSTEDTARGETRESOLUTIONTIME</th>\n",
              "      <th>AFFECTEDDATE</th>\n",
              "      <th>HORA_AFECTACION</th>\n",
              "      <th>TURNO</th>\n",
              "      <th>...</th>\n",
              "      <th>GLOBALTICKETID</th>\n",
              "      <th>PMCCIIMPACT</th>\n",
              "      <th>SOURCESYSID</th>\n",
              "      <th>OWNERSYSID</th>\n",
              "      <th>LOCATION</th>\n",
              "      <th>LOCATION_DESCRIPTION</th>\n",
              "      <th>LOCATION_CITY</th>\n",
              "      <th>LOCATION_DEPTO</th>\n",
              "      <th>CRITICO</th>\n",
              "      <th>CASE</th>\n",
              "    </tr>\n",
              "  </thead>\n",
              "  <tbody>\n",
              "    <tr>\n",
              "      <th>0</th>\n",
              "      <td>0.0</td>\n",
              "      <td>1/01/2023 08:31</td>\n",
              "      <td>1/01/2023 00:22</td>\n",
              "      <td>489</td>\n",
              "      <td>8.00</td>\n",
              "      <td>3</td>\n",
              "      <td>NaN</td>\n",
              "      <td>1/01/2023 00:19</td>\n",
              "      <td>0</td>\n",
              "      <td>Nocturno</td>\n",
              "      <td>...</td>\n",
              "      <td>NaN</td>\n",
              "      <td>NaN</td>\n",
              "      <td>14.30111</td>\n",
              "      <td>-90.35708</td>\n",
              "      <td>SRS681</td>\n",
              "      <td>BARBERENA</td>\n",
              "      <td>BARBERENA</td>\n",
              "      <td>SANTA ROSA</td>\n",
              "      <td>NaN</td>\n",
              "      <td>train</td>\n",
              "    </tr>\n",
              "    <tr>\n",
              "      <th>1</th>\n",
              "      <td>0.0</td>\n",
              "      <td>1/01/2023 09:22</td>\n",
              "      <td>1/01/2023 00:32</td>\n",
              "      <td>529</td>\n",
              "      <td>9.00</td>\n",
              "      <td>48</td>\n",
              "      <td>NaN</td>\n",
              "      <td>31/12/2022 23:44</td>\n",
              "      <td>23</td>\n",
              "      <td>Nocturno</td>\n",
              "      <td>...</td>\n",
              "      <td>NaN</td>\n",
              "      <td>1.0</td>\n",
              "      <td>14.37881</td>\n",
              "      <td>-90.28575</td>\n",
              "      <td>SRS688</td>\n",
              "      <td>NUEVA SANTA ROSA</td>\n",
              "      <td>NUEVA SANTA ROSA</td>\n",
              "      <td>SANTA ROSA</td>\n",
              "      <td>NaN</td>\n",
              "      <td>train</td>\n",
              "    </tr>\n",
              "    <tr>\n",
              "      <th>2</th>\n",
              "      <td>0.0</td>\n",
              "      <td>1/01/2023 08:07</td>\n",
              "      <td>1/01/2023 04:43</td>\n",
              "      <td>204</td>\n",
              "      <td>3.00</td>\n",
              "      <td>304</td>\n",
              "      <td>NaN</td>\n",
              "      <td>31/12/2022 23:36</td>\n",
              "      <td>23</td>\n",
              "      <td>Nocturno</td>\n",
              "      <td>...</td>\n",
              "      <td>31489538.0</td>\n",
              "      <td>3.0</td>\n",
              "      <td>15.83373</td>\n",
              "      <td>-89.42787</td>\n",
              "      <td>AVP789</td>\n",
              "      <td>RANCHO JOSE Y JOSE</td>\n",
              "      <td>CHAHAL</td>\n",
              "      <td>ALTA VERAPAZ</td>\n",
              "      <td>NaN</td>\n",
              "      <td>train</td>\n",
              "    </tr>\n",
              "    <tr>\n",
              "      <th>3</th>\n",
              "      <td>0.0</td>\n",
              "      <td>1/01/2023 13:46</td>\n",
              "      <td>1/01/2023 04:54</td>\n",
              "      <td>532</td>\n",
              "      <td>9.00</td>\n",
              "      <td>208</td>\n",
              "      <td>NaN</td>\n",
              "      <td>1/01/2023 01:25</td>\n",
              "      <td>1</td>\n",
              "      <td>Nocturno</td>\n",
              "      <td>...</td>\n",
              "      <td>31489549.0</td>\n",
              "      <td>3.0</td>\n",
              "      <td>16.05865</td>\n",
              "      <td>-89.77817</td>\n",
              "      <td>PTN521</td>\n",
              "      <td>ROSA ATITLAN</td>\n",
              "      <td>SAN LUIS</td>\n",
              "      <td>PETEN</td>\n",
              "      <td>NaN</td>\n",
              "      <td>train</td>\n",
              "    </tr>\n",
              "    <tr>\n",
              "      <th>4</th>\n",
              "      <td>0.0</td>\n",
              "      <td>1/01/2023 13:46</td>\n",
              "      <td>1/01/2023 04:54</td>\n",
              "      <td>532</td>\n",
              "      <td>9.00</td>\n",
              "      <td>208</td>\n",
              "      <td>NaN</td>\n",
              "      <td>1/01/2023 01:24</td>\n",
              "      <td>1</td>\n",
              "      <td>Nocturno</td>\n",
              "      <td>...</td>\n",
              "      <td>31489549.0</td>\n",
              "      <td>2.0</td>\n",
              "      <td>16.06111</td>\n",
              "      <td>-89.69531</td>\n",
              "      <td>PTN393</td>\n",
              "      <td>MACHAQUILAITO</td>\n",
              "      <td>SAN LUIS</td>\n",
              "      <td>PETEN</td>\n",
              "      <td>NaN</td>\n",
              "      <td>train</td>\n",
              "    </tr>\n",
              "  </tbody>\n",
              "</table>\n",
              "<p>5 rows × 68 columns</p>\n",
              "</div>\n",
              "      <button class=\"colab-df-convert\" onclick=\"convertToInteractive('df-9bfff1df-7a77-45f3-8d81-43bdf28a10c5')\"\n",
              "              title=\"Convert this dataframe to an interactive table.\"\n",
              "              style=\"display:none;\">\n",
              "        \n",
              "  <svg xmlns=\"http://www.w3.org/2000/svg\" height=\"24px\"viewBox=\"0 0 24 24\"\n",
              "       width=\"24px\">\n",
              "    <path d=\"M0 0h24v24H0V0z\" fill=\"none\"/>\n",
              "    <path d=\"M18.56 5.44l.94 2.06.94-2.06 2.06-.94-2.06-.94-.94-2.06-.94 2.06-2.06.94zm-11 1L8.5 8.5l.94-2.06 2.06-.94-2.06-.94L8.5 2.5l-.94 2.06-2.06.94zm10 10l.94 2.06.94-2.06 2.06-.94-2.06-.94-.94-2.06-.94 2.06-2.06.94z\"/><path d=\"M17.41 7.96l-1.37-1.37c-.4-.4-.92-.59-1.43-.59-.52 0-1.04.2-1.43.59L10.3 9.45l-7.72 7.72c-.78.78-.78 2.05 0 2.83L4 21.41c.39.39.9.59 1.41.59.51 0 1.02-.2 1.41-.59l7.78-7.78 2.81-2.81c.8-.78.8-2.07 0-2.86zM5.41 20L4 18.59l7.72-7.72 1.47 1.35L5.41 20z\"/>\n",
              "  </svg>\n",
              "      </button>\n",
              "      \n",
              "  <style>\n",
              "    .colab-df-container {\n",
              "      display:flex;\n",
              "      flex-wrap:wrap;\n",
              "      gap: 12px;\n",
              "    }\n",
              "\n",
              "    .colab-df-convert {\n",
              "      background-color: #E8F0FE;\n",
              "      border: none;\n",
              "      border-radius: 50%;\n",
              "      cursor: pointer;\n",
              "      display: none;\n",
              "      fill: #1967D2;\n",
              "      height: 32px;\n",
              "      padding: 0 0 0 0;\n",
              "      width: 32px;\n",
              "    }\n",
              "\n",
              "    .colab-df-convert:hover {\n",
              "      background-color: #E2EBFA;\n",
              "      box-shadow: 0px 1px 2px rgba(60, 64, 67, 0.3), 0px 1px 3px 1px rgba(60, 64, 67, 0.15);\n",
              "      fill: #174EA6;\n",
              "    }\n",
              "\n",
              "    [theme=dark] .colab-df-convert {\n",
              "      background-color: #3B4455;\n",
              "      fill: #D2E3FC;\n",
              "    }\n",
              "\n",
              "    [theme=dark] .colab-df-convert:hover {\n",
              "      background-color: #434B5C;\n",
              "      box-shadow: 0px 1px 3px 1px rgba(0, 0, 0, 0.15);\n",
              "      filter: drop-shadow(0px 1px 2px rgba(0, 0, 0, 0.3));\n",
              "      fill: #FFFFFF;\n",
              "    }\n",
              "  </style>\n",
              "\n",
              "      <script>\n",
              "        const buttonEl =\n",
              "          document.querySelector('#df-9bfff1df-7a77-45f3-8d81-43bdf28a10c5 button.colab-df-convert');\n",
              "        buttonEl.style.display =\n",
              "          google.colab.kernel.accessAllowed ? 'block' : 'none';\n",
              "\n",
              "        async function convertToInteractive(key) {\n",
              "          const element = document.querySelector('#df-9bfff1df-7a77-45f3-8d81-43bdf28a10c5');\n",
              "          const dataTable =\n",
              "            await google.colab.kernel.invokeFunction('convertToInteractive',\n",
              "                                                     [key], {});\n",
              "          if (!dataTable) return;\n",
              "\n",
              "          const docLinkHtml = 'Like what you see? Visit the ' +\n",
              "            '<a target=\"_blank\" href=https://colab.research.google.com/notebooks/data_table.ipynb>data table notebook</a>'\n",
              "            + ' to learn more about interactive tables.';\n",
              "          element.innerHTML = '';\n",
              "          dataTable['output_type'] = 'display_data';\n",
              "          await google.colab.output.renderOutput(dataTable, element);\n",
              "          const docLink = document.createElement('div');\n",
              "          docLink.innerHTML = docLinkHtml;\n",
              "          element.appendChild(docLink);\n",
              "        }\n",
              "      </script>\n",
              "    </div>\n",
              "  </div>\n",
              "  "
            ]
          },
          "metadata": {},
          "execution_count": 23
        }
      ]
    },
    {
      "cell_type": "code",
      "source": [
        "dfs.tail()"
      ],
      "metadata": {
        "colab": {
          "base_uri": "https://localhost:8080/",
          "height": 386
        },
        "id": "YrW8exRsJcMy",
        "outputId": "9c1100f7-7114-41a7-c150-1e136dcd2494"
      },
      "execution_count": null,
      "outputs": [
        {
          "output_type": "execute_result",
          "data": {
            "text/plain": [
              "      ACCUMULATEDHOLDTIME      ACTUALFINISH       ACTUALSTART  \\\n",
              "6621                 0.00  31/01/2023 07:42  31/01/2023 07:41   \n",
              "6622                11.95  31/01/2023 10:55  30/01/2023 22:46   \n",
              "6623                 0.00  30/01/2023 23:20  30/01/2023 23:07   \n",
              "6624                 0.00  31/01/2023 07:44  31/01/2023 07:43   \n",
              "6625                 0.00  31/01/2023 00:18  30/01/2023 23:21   \n",
              "\n",
              "     MINUTOS_DURACION_AFECTACION HORAS_DURACION_AFECTACION  \\\n",
              "6621                           0                      0.00   \n",
              "6622                         729                     12.00   \n",
              "6623                          13                      0.00   \n",
              "6624                           1                      0.00   \n",
              "6625                          57                      1.00   \n",
              "\n",
              "      DURACION_TIEMPO_ATENCION ADJUSTEDTARGETRESOLUTIONTIME      AFFECTEDDATE  \\\n",
              "6621                       541                          NaN  31/12/1969 18:00   \n",
              "6622                         1                      41:52.5  30/01/2023 22:44   \n",
              "6623                         5                          NaN  31/12/1969 18:00   \n",
              "6624                       517                          NaN  31/12/1969 18:00   \n",
              "6625                         0                          NaN  30/01/2023 23:20   \n",
              "\n",
              "      HORA_AFECTACION     TURNO  ... GLOBALTICKETID PMCCIIMPACT SOURCESYSID  \\\n",
              "6621               18     Tarde  ...            NaN         NaN         NaN   \n",
              "6622               22  Nocturno  ...            NaN         NaN    14.66096   \n",
              "6623               18     Tarde  ...            NaN         NaN    14.30691   \n",
              "6624               18     Tarde  ...            NaN         NaN    15.31015   \n",
              "6625               23  Nocturno  ...            NaN         NaN    14.95904   \n",
              "\n",
              "     OWNERSYSID LOCATION LOCATION_DESCRIPTION  LOCATION_CITY LOCATION_DEPTO  \\\n",
              "6621        NaN       TH                  NaN            NaN            NaN   \n",
              "6622   -90.8305   CHM719       MIGUEL HIDALGO  CHIMALTENANGO  CHIMALTENANGO   \n",
              "6623   -90.7869   ESC862       PLAZA PALMERAS      ESCUINTLA      ESCUINTLA   \n",
              "6624  -91.48431   HHT348    HUEHUETENANGO VII  HUEHUETENANGO  HUEHUETENANGO   \n",
              "6625  -89.52367   ZCP583               ZACAPA         ZACAPA         ZACAPA   \n",
              "\n",
              "      CRITICO   CASE  \n",
              "6621      NaN   test  \n",
              "6622      NaN  train  \n",
              "6623      NaN  train  \n",
              "6624      NaN  train  \n",
              "6625      NaN  train  \n",
              "\n",
              "[5 rows x 68 columns]"
            ],
            "text/html": [
              "\n",
              "  <div id=\"df-f3efe4ad-54d5-44aa-886f-9111f3771d6d\">\n",
              "    <div class=\"colab-df-container\">\n",
              "      <div>\n",
              "<style scoped>\n",
              "    .dataframe tbody tr th:only-of-type {\n",
              "        vertical-align: middle;\n",
              "    }\n",
              "\n",
              "    .dataframe tbody tr th {\n",
              "        vertical-align: top;\n",
              "    }\n",
              "\n",
              "    .dataframe thead th {\n",
              "        text-align: right;\n",
              "    }\n",
              "</style>\n",
              "<table border=\"1\" class=\"dataframe\">\n",
              "  <thead>\n",
              "    <tr style=\"text-align: right;\">\n",
              "      <th></th>\n",
              "      <th>ACCUMULATEDHOLDTIME</th>\n",
              "      <th>ACTUALFINISH</th>\n",
              "      <th>ACTUALSTART</th>\n",
              "      <th>MINUTOS_DURACION_AFECTACION</th>\n",
              "      <th>HORAS_DURACION_AFECTACION</th>\n",
              "      <th>DURACION_TIEMPO_ATENCION</th>\n",
              "      <th>ADJUSTEDTARGETRESOLUTIONTIME</th>\n",
              "      <th>AFFECTEDDATE</th>\n",
              "      <th>HORA_AFECTACION</th>\n",
              "      <th>TURNO</th>\n",
              "      <th>...</th>\n",
              "      <th>GLOBALTICKETID</th>\n",
              "      <th>PMCCIIMPACT</th>\n",
              "      <th>SOURCESYSID</th>\n",
              "      <th>OWNERSYSID</th>\n",
              "      <th>LOCATION</th>\n",
              "      <th>LOCATION_DESCRIPTION</th>\n",
              "      <th>LOCATION_CITY</th>\n",
              "      <th>LOCATION_DEPTO</th>\n",
              "      <th>CRITICO</th>\n",
              "      <th>CASE</th>\n",
              "    </tr>\n",
              "  </thead>\n",
              "  <tbody>\n",
              "    <tr>\n",
              "      <th>6621</th>\n",
              "      <td>0.00</td>\n",
              "      <td>31/01/2023 07:42</td>\n",
              "      <td>31/01/2023 07:41</td>\n",
              "      <td>0</td>\n",
              "      <td>0.00</td>\n",
              "      <td>541</td>\n",
              "      <td>NaN</td>\n",
              "      <td>31/12/1969 18:00</td>\n",
              "      <td>18</td>\n",
              "      <td>Tarde</td>\n",
              "      <td>...</td>\n",
              "      <td>NaN</td>\n",
              "      <td>NaN</td>\n",
              "      <td>NaN</td>\n",
              "      <td>NaN</td>\n",
              "      <td>TH</td>\n",
              "      <td>NaN</td>\n",
              "      <td>NaN</td>\n",
              "      <td>NaN</td>\n",
              "      <td>NaN</td>\n",
              "      <td>test</td>\n",
              "    </tr>\n",
              "    <tr>\n",
              "      <th>6622</th>\n",
              "      <td>11.95</td>\n",
              "      <td>31/01/2023 10:55</td>\n",
              "      <td>30/01/2023 22:46</td>\n",
              "      <td>729</td>\n",
              "      <td>12.00</td>\n",
              "      <td>1</td>\n",
              "      <td>41:52.5</td>\n",
              "      <td>30/01/2023 22:44</td>\n",
              "      <td>22</td>\n",
              "      <td>Nocturno</td>\n",
              "      <td>...</td>\n",
              "      <td>NaN</td>\n",
              "      <td>NaN</td>\n",
              "      <td>14.66096</td>\n",
              "      <td>-90.8305</td>\n",
              "      <td>CHM719</td>\n",
              "      <td>MIGUEL HIDALGO</td>\n",
              "      <td>CHIMALTENANGO</td>\n",
              "      <td>CHIMALTENANGO</td>\n",
              "      <td>NaN</td>\n",
              "      <td>train</td>\n",
              "    </tr>\n",
              "    <tr>\n",
              "      <th>6623</th>\n",
              "      <td>0.00</td>\n",
              "      <td>30/01/2023 23:20</td>\n",
              "      <td>30/01/2023 23:07</td>\n",
              "      <td>13</td>\n",
              "      <td>0.00</td>\n",
              "      <td>5</td>\n",
              "      <td>NaN</td>\n",
              "      <td>31/12/1969 18:00</td>\n",
              "      <td>18</td>\n",
              "      <td>Tarde</td>\n",
              "      <td>...</td>\n",
              "      <td>NaN</td>\n",
              "      <td>NaN</td>\n",
              "      <td>14.30691</td>\n",
              "      <td>-90.7869</td>\n",
              "      <td>ESC862</td>\n",
              "      <td>PLAZA PALMERAS</td>\n",
              "      <td>ESCUINTLA</td>\n",
              "      <td>ESCUINTLA</td>\n",
              "      <td>NaN</td>\n",
              "      <td>train</td>\n",
              "    </tr>\n",
              "    <tr>\n",
              "      <th>6624</th>\n",
              "      <td>0.00</td>\n",
              "      <td>31/01/2023 07:44</td>\n",
              "      <td>31/01/2023 07:43</td>\n",
              "      <td>1</td>\n",
              "      <td>0.00</td>\n",
              "      <td>517</td>\n",
              "      <td>NaN</td>\n",
              "      <td>31/12/1969 18:00</td>\n",
              "      <td>18</td>\n",
              "      <td>Tarde</td>\n",
              "      <td>...</td>\n",
              "      <td>NaN</td>\n",
              "      <td>NaN</td>\n",
              "      <td>15.31015</td>\n",
              "      <td>-91.48431</td>\n",
              "      <td>HHT348</td>\n",
              "      <td>HUEHUETENANGO VII</td>\n",
              "      <td>HUEHUETENANGO</td>\n",
              "      <td>HUEHUETENANGO</td>\n",
              "      <td>NaN</td>\n",
              "      <td>train</td>\n",
              "    </tr>\n",
              "    <tr>\n",
              "      <th>6625</th>\n",
              "      <td>0.00</td>\n",
              "      <td>31/01/2023 00:18</td>\n",
              "      <td>30/01/2023 23:21</td>\n",
              "      <td>57</td>\n",
              "      <td>1.00</td>\n",
              "      <td>0</td>\n",
              "      <td>NaN</td>\n",
              "      <td>30/01/2023 23:20</td>\n",
              "      <td>23</td>\n",
              "      <td>Nocturno</td>\n",
              "      <td>...</td>\n",
              "      <td>NaN</td>\n",
              "      <td>NaN</td>\n",
              "      <td>14.95904</td>\n",
              "      <td>-89.52367</td>\n",
              "      <td>ZCP583</td>\n",
              "      <td>ZACAPA</td>\n",
              "      <td>ZACAPA</td>\n",
              "      <td>ZACAPA</td>\n",
              "      <td>NaN</td>\n",
              "      <td>train</td>\n",
              "    </tr>\n",
              "  </tbody>\n",
              "</table>\n",
              "<p>5 rows × 68 columns</p>\n",
              "</div>\n",
              "      <button class=\"colab-df-convert\" onclick=\"convertToInteractive('df-f3efe4ad-54d5-44aa-886f-9111f3771d6d')\"\n",
              "              title=\"Convert this dataframe to an interactive table.\"\n",
              "              style=\"display:none;\">\n",
              "        \n",
              "  <svg xmlns=\"http://www.w3.org/2000/svg\" height=\"24px\"viewBox=\"0 0 24 24\"\n",
              "       width=\"24px\">\n",
              "    <path d=\"M0 0h24v24H0V0z\" fill=\"none\"/>\n",
              "    <path d=\"M18.56 5.44l.94 2.06.94-2.06 2.06-.94-2.06-.94-.94-2.06-.94 2.06-2.06.94zm-11 1L8.5 8.5l.94-2.06 2.06-.94-2.06-.94L8.5 2.5l-.94 2.06-2.06.94zm10 10l.94 2.06.94-2.06 2.06-.94-2.06-.94-.94-2.06-.94 2.06-2.06.94z\"/><path d=\"M17.41 7.96l-1.37-1.37c-.4-.4-.92-.59-1.43-.59-.52 0-1.04.2-1.43.59L10.3 9.45l-7.72 7.72c-.78.78-.78 2.05 0 2.83L4 21.41c.39.39.9.59 1.41.59.51 0 1.02-.2 1.41-.59l7.78-7.78 2.81-2.81c.8-.78.8-2.07 0-2.86zM5.41 20L4 18.59l7.72-7.72 1.47 1.35L5.41 20z\"/>\n",
              "  </svg>\n",
              "      </button>\n",
              "      \n",
              "  <style>\n",
              "    .colab-df-container {\n",
              "      display:flex;\n",
              "      flex-wrap:wrap;\n",
              "      gap: 12px;\n",
              "    }\n",
              "\n",
              "    .colab-df-convert {\n",
              "      background-color: #E8F0FE;\n",
              "      border: none;\n",
              "      border-radius: 50%;\n",
              "      cursor: pointer;\n",
              "      display: none;\n",
              "      fill: #1967D2;\n",
              "      height: 32px;\n",
              "      padding: 0 0 0 0;\n",
              "      width: 32px;\n",
              "    }\n",
              "\n",
              "    .colab-df-convert:hover {\n",
              "      background-color: #E2EBFA;\n",
              "      box-shadow: 0px 1px 2px rgba(60, 64, 67, 0.3), 0px 1px 3px 1px rgba(60, 64, 67, 0.15);\n",
              "      fill: #174EA6;\n",
              "    }\n",
              "\n",
              "    [theme=dark] .colab-df-convert {\n",
              "      background-color: #3B4455;\n",
              "      fill: #D2E3FC;\n",
              "    }\n",
              "\n",
              "    [theme=dark] .colab-df-convert:hover {\n",
              "      background-color: #434B5C;\n",
              "      box-shadow: 0px 1px 3px 1px rgba(0, 0, 0, 0.15);\n",
              "      filter: drop-shadow(0px 1px 2px rgba(0, 0, 0, 0.3));\n",
              "      fill: #FFFFFF;\n",
              "    }\n",
              "  </style>\n",
              "\n",
              "      <script>\n",
              "        const buttonEl =\n",
              "          document.querySelector('#df-f3efe4ad-54d5-44aa-886f-9111f3771d6d button.colab-df-convert');\n",
              "        buttonEl.style.display =\n",
              "          google.colab.kernel.accessAllowed ? 'block' : 'none';\n",
              "\n",
              "        async function convertToInteractive(key) {\n",
              "          const element = document.querySelector('#df-f3efe4ad-54d5-44aa-886f-9111f3771d6d');\n",
              "          const dataTable =\n",
              "            await google.colab.kernel.invokeFunction('convertToInteractive',\n",
              "                                                     [key], {});\n",
              "          if (!dataTable) return;\n",
              "\n",
              "          const docLinkHtml = 'Like what you see? Visit the ' +\n",
              "            '<a target=\"_blank\" href=https://colab.research.google.com/notebooks/data_table.ipynb>data table notebook</a>'\n",
              "            + ' to learn more about interactive tables.';\n",
              "          element.innerHTML = '';\n",
              "          dataTable['output_type'] = 'display_data';\n",
              "          await google.colab.output.renderOutput(dataTable, element);\n",
              "          const docLink = document.createElement('div');\n",
              "          docLink.innerHTML = docLinkHtml;\n",
              "          element.appendChild(docLink);\n",
              "        }\n",
              "      </script>\n",
              "    </div>\n",
              "  </div>\n",
              "  "
            ]
          },
          "metadata": {},
          "execution_count": 24
        }
      ]
    },
    {
      "cell_type": "code",
      "source": [
        "dff = dfs.replace(['#NUM!'], '0')"
      ],
      "metadata": {
        "id": "9lRgJV29L8uT"
      },
      "execution_count": null,
      "outputs": []
    },
    {
      "cell_type": "code",
      "source": [
        "dff['MINUTOS_DURACION_AFECTACION'] = dff['MINUTOS_DURACION_AFECTACION'].astype(float)"
      ],
      "metadata": {
        "id": "qEzDimfbKsjY"
      },
      "execution_count": null,
      "outputs": []
    },
    {
      "cell_type": "code",
      "source": [
        "dff['INTERNALPRIORITY'] = dff['INTERNALPRIORITY'].astype(float)"
      ],
      "metadata": {
        "id": "hn_S8xpXQ2cs"
      },
      "execution_count": 33,
      "outputs": []
    },
    {
      "cell_type": "code",
      "source": [
        "dff['DURACION_TIEMPO_ATENCION'] = dff['DURACION_TIEMPO_ATENCION'].astype(float)"
      ],
      "metadata": {
        "id": "BH76jgQIRjUp"
      },
      "execution_count": 34,
      "outputs": []
    },
    {
      "cell_type": "code",
      "source": [
        "dff.dtypes"
      ],
      "metadata": {
        "colab": {
          "base_uri": "https://localhost:8080/"
        },
        "id": "CB1Sopv4JhGB",
        "outputId": "c41cec2d-e402-44b1-82cf-f07a356499a5"
      },
      "execution_count": null,
      "outputs": [
        {
          "output_type": "execute_result",
          "data": {
            "text/plain": [
              "ACCUMULATEDHOLDTIME            float64\n",
              "ACTUALFINISH                    object\n",
              "ACTUALSTART                     object\n",
              "MINUTOS_DURACION_AFECTACION    float64\n",
              "HORAS_DURACION_AFECTACION       object\n",
              "                                ...   \n",
              "LOCATION_DESCRIPTION            object\n",
              "LOCATION_CITY                   object\n",
              "LOCATION_DEPTO                  object\n",
              "CRITICO                        float64\n",
              "CASE                            object\n",
              "Length: 68, dtype: object"
            ]
          },
          "metadata": {},
          "execution_count": 31
        }
      ]
    },
    {
      "cell_type": "code",
      "source": [
        "dff"
      ],
      "metadata": {
        "colab": {
          "base_uri": "https://localhost:8080/",
          "height": 661
        },
        "id": "KLNZDen0PgZN",
        "outputId": "eb722227-758e-4502-afbe-31677a6d7ee7"
      },
      "execution_count": 32,
      "outputs": [
        {
          "output_type": "execute_result",
          "data": {
            "text/plain": [
              "      ACCUMULATEDHOLDTIME      ACTUALFINISH       ACTUALSTART  \\\n",
              "0                    0.00   1/01/2023 08:31   1/01/2023 00:22   \n",
              "1                    0.00   1/01/2023 09:22   1/01/2023 00:32   \n",
              "2                    0.00   1/01/2023 08:07   1/01/2023 04:43   \n",
              "3                    0.00   1/01/2023 13:46   1/01/2023 04:54   \n",
              "4                    0.00   1/01/2023 13:46   1/01/2023 04:54   \n",
              "...                   ...               ...               ...   \n",
              "6621                 0.00  31/01/2023 07:42  31/01/2023 07:41   \n",
              "6622                11.95  31/01/2023 10:55  30/01/2023 22:46   \n",
              "6623                 0.00  30/01/2023 23:20  30/01/2023 23:07   \n",
              "6624                 0.00  31/01/2023 07:44  31/01/2023 07:43   \n",
              "6625                 0.00  31/01/2023 00:18  30/01/2023 23:21   \n",
              "\n",
              "      MINUTOS_DURACION_AFECTACION HORAS_DURACION_AFECTACION  \\\n",
              "0                           489.0                      8.00   \n",
              "1                           529.0                      9.00   \n",
              "2                           204.0                      3.00   \n",
              "3                           532.0                      9.00   \n",
              "4                           532.0                      9.00   \n",
              "...                           ...                       ...   \n",
              "6621                          0.0                      0.00   \n",
              "6622                        729.0                     12.00   \n",
              "6623                         13.0                      0.00   \n",
              "6624                          1.0                      0.00   \n",
              "6625                         57.0                      1.00   \n",
              "\n",
              "      DURACION_TIEMPO_ATENCION ADJUSTEDTARGETRESOLUTIONTIME      AFFECTEDDATE  \\\n",
              "0                            3                          NaN   1/01/2023 00:19   \n",
              "1                           48                          NaN  31/12/2022 23:44   \n",
              "2                          304                          NaN  31/12/2022 23:36   \n",
              "3                          208                          NaN   1/01/2023 01:25   \n",
              "4                          208                          NaN   1/01/2023 01:24   \n",
              "...                        ...                          ...               ...   \n",
              "6621                       541                          NaN  31/12/1969 18:00   \n",
              "6622                         1                      41:52.5  30/01/2023 22:44   \n",
              "6623                         5                          NaN  31/12/1969 18:00   \n",
              "6624                       517                          NaN  31/12/1969 18:00   \n",
              "6625                         0                          NaN  30/01/2023 23:20   \n",
              "\n",
              "      HORA_AFECTACION     TURNO  ... GLOBALTICKETID PMCCIIMPACT SOURCESYSID  \\\n",
              "0                   0  Nocturno  ...            NaN         NaN    14.30111   \n",
              "1                  23  Nocturno  ...            NaN         1.0    14.37881   \n",
              "2                  23  Nocturno  ...     31489538.0         3.0    15.83373   \n",
              "3                   1  Nocturno  ...     31489549.0         3.0    16.05865   \n",
              "4                   1  Nocturno  ...     31489549.0         2.0    16.06111   \n",
              "...               ...       ...  ...            ...         ...         ...   \n",
              "6621               18     Tarde  ...            NaN         NaN         NaN   \n",
              "6622               22  Nocturno  ...            NaN         NaN    14.66096   \n",
              "6623               18     Tarde  ...            NaN         NaN    14.30691   \n",
              "6624               18     Tarde  ...            NaN         NaN    15.31015   \n",
              "6625               23  Nocturno  ...            NaN         NaN    14.95904   \n",
              "\n",
              "     OWNERSYSID LOCATION LOCATION_DESCRIPTION     LOCATION_CITY  \\\n",
              "0     -90.35708   SRS681            BARBERENA         BARBERENA   \n",
              "1     -90.28575   SRS688     NUEVA SANTA ROSA  NUEVA SANTA ROSA   \n",
              "2     -89.42787   AVP789   RANCHO JOSE Y JOSE            CHAHAL   \n",
              "3     -89.77817   PTN521         ROSA ATITLAN          SAN LUIS   \n",
              "4     -89.69531   PTN393        MACHAQUILAITO          SAN LUIS   \n",
              "...         ...      ...                  ...               ...   \n",
              "6621        NaN       TH                  NaN               NaN   \n",
              "6622   -90.8305   CHM719       MIGUEL HIDALGO     CHIMALTENANGO   \n",
              "6623   -90.7869   ESC862       PLAZA PALMERAS         ESCUINTLA   \n",
              "6624  -91.48431   HHT348    HUEHUETENANGO VII     HUEHUETENANGO   \n",
              "6625  -89.52367   ZCP583               ZACAPA            ZACAPA   \n",
              "\n",
              "     LOCATION_DEPTO  CRITICO   CASE  \n",
              "0        SANTA ROSA      NaN  train  \n",
              "1        SANTA ROSA      NaN  train  \n",
              "2      ALTA VERAPAZ      NaN  train  \n",
              "3             PETEN      NaN  train  \n",
              "4             PETEN      NaN  train  \n",
              "...             ...      ...    ...  \n",
              "6621            NaN      NaN   test  \n",
              "6622  CHIMALTENANGO      NaN  train  \n",
              "6623      ESCUINTLA      NaN  train  \n",
              "6624  HUEHUETENANGO      NaN  train  \n",
              "6625         ZACAPA      NaN  train  \n",
              "\n",
              "[6626 rows x 68 columns]"
            ],
            "text/html": [
              "\n",
              "  <div id=\"df-9ce29bae-d47f-4cf5-ad91-30169b9ccb87\">\n",
              "    <div class=\"colab-df-container\">\n",
              "      <div>\n",
              "<style scoped>\n",
              "    .dataframe tbody tr th:only-of-type {\n",
              "        vertical-align: middle;\n",
              "    }\n",
              "\n",
              "    .dataframe tbody tr th {\n",
              "        vertical-align: top;\n",
              "    }\n",
              "\n",
              "    .dataframe thead th {\n",
              "        text-align: right;\n",
              "    }\n",
              "</style>\n",
              "<table border=\"1\" class=\"dataframe\">\n",
              "  <thead>\n",
              "    <tr style=\"text-align: right;\">\n",
              "      <th></th>\n",
              "      <th>ACCUMULATEDHOLDTIME</th>\n",
              "      <th>ACTUALFINISH</th>\n",
              "      <th>ACTUALSTART</th>\n",
              "      <th>MINUTOS_DURACION_AFECTACION</th>\n",
              "      <th>HORAS_DURACION_AFECTACION</th>\n",
              "      <th>DURACION_TIEMPO_ATENCION</th>\n",
              "      <th>ADJUSTEDTARGETRESOLUTIONTIME</th>\n",
              "      <th>AFFECTEDDATE</th>\n",
              "      <th>HORA_AFECTACION</th>\n",
              "      <th>TURNO</th>\n",
              "      <th>...</th>\n",
              "      <th>GLOBALTICKETID</th>\n",
              "      <th>PMCCIIMPACT</th>\n",
              "      <th>SOURCESYSID</th>\n",
              "      <th>OWNERSYSID</th>\n",
              "      <th>LOCATION</th>\n",
              "      <th>LOCATION_DESCRIPTION</th>\n",
              "      <th>LOCATION_CITY</th>\n",
              "      <th>LOCATION_DEPTO</th>\n",
              "      <th>CRITICO</th>\n",
              "      <th>CASE</th>\n",
              "    </tr>\n",
              "  </thead>\n",
              "  <tbody>\n",
              "    <tr>\n",
              "      <th>0</th>\n",
              "      <td>0.00</td>\n",
              "      <td>1/01/2023 08:31</td>\n",
              "      <td>1/01/2023 00:22</td>\n",
              "      <td>489.0</td>\n",
              "      <td>8.00</td>\n",
              "      <td>3</td>\n",
              "      <td>NaN</td>\n",
              "      <td>1/01/2023 00:19</td>\n",
              "      <td>0</td>\n",
              "      <td>Nocturno</td>\n",
              "      <td>...</td>\n",
              "      <td>NaN</td>\n",
              "      <td>NaN</td>\n",
              "      <td>14.30111</td>\n",
              "      <td>-90.35708</td>\n",
              "      <td>SRS681</td>\n",
              "      <td>BARBERENA</td>\n",
              "      <td>BARBERENA</td>\n",
              "      <td>SANTA ROSA</td>\n",
              "      <td>NaN</td>\n",
              "      <td>train</td>\n",
              "    </tr>\n",
              "    <tr>\n",
              "      <th>1</th>\n",
              "      <td>0.00</td>\n",
              "      <td>1/01/2023 09:22</td>\n",
              "      <td>1/01/2023 00:32</td>\n",
              "      <td>529.0</td>\n",
              "      <td>9.00</td>\n",
              "      <td>48</td>\n",
              "      <td>NaN</td>\n",
              "      <td>31/12/2022 23:44</td>\n",
              "      <td>23</td>\n",
              "      <td>Nocturno</td>\n",
              "      <td>...</td>\n",
              "      <td>NaN</td>\n",
              "      <td>1.0</td>\n",
              "      <td>14.37881</td>\n",
              "      <td>-90.28575</td>\n",
              "      <td>SRS688</td>\n",
              "      <td>NUEVA SANTA ROSA</td>\n",
              "      <td>NUEVA SANTA ROSA</td>\n",
              "      <td>SANTA ROSA</td>\n",
              "      <td>NaN</td>\n",
              "      <td>train</td>\n",
              "    </tr>\n",
              "    <tr>\n",
              "      <th>2</th>\n",
              "      <td>0.00</td>\n",
              "      <td>1/01/2023 08:07</td>\n",
              "      <td>1/01/2023 04:43</td>\n",
              "      <td>204.0</td>\n",
              "      <td>3.00</td>\n",
              "      <td>304</td>\n",
              "      <td>NaN</td>\n",
              "      <td>31/12/2022 23:36</td>\n",
              "      <td>23</td>\n",
              "      <td>Nocturno</td>\n",
              "      <td>...</td>\n",
              "      <td>31489538.0</td>\n",
              "      <td>3.0</td>\n",
              "      <td>15.83373</td>\n",
              "      <td>-89.42787</td>\n",
              "      <td>AVP789</td>\n",
              "      <td>RANCHO JOSE Y JOSE</td>\n",
              "      <td>CHAHAL</td>\n",
              "      <td>ALTA VERAPAZ</td>\n",
              "      <td>NaN</td>\n",
              "      <td>train</td>\n",
              "    </tr>\n",
              "    <tr>\n",
              "      <th>3</th>\n",
              "      <td>0.00</td>\n",
              "      <td>1/01/2023 13:46</td>\n",
              "      <td>1/01/2023 04:54</td>\n",
              "      <td>532.0</td>\n",
              "      <td>9.00</td>\n",
              "      <td>208</td>\n",
              "      <td>NaN</td>\n",
              "      <td>1/01/2023 01:25</td>\n",
              "      <td>1</td>\n",
              "      <td>Nocturno</td>\n",
              "      <td>...</td>\n",
              "      <td>31489549.0</td>\n",
              "      <td>3.0</td>\n",
              "      <td>16.05865</td>\n",
              "      <td>-89.77817</td>\n",
              "      <td>PTN521</td>\n",
              "      <td>ROSA ATITLAN</td>\n",
              "      <td>SAN LUIS</td>\n",
              "      <td>PETEN</td>\n",
              "      <td>NaN</td>\n",
              "      <td>train</td>\n",
              "    </tr>\n",
              "    <tr>\n",
              "      <th>4</th>\n",
              "      <td>0.00</td>\n",
              "      <td>1/01/2023 13:46</td>\n",
              "      <td>1/01/2023 04:54</td>\n",
              "      <td>532.0</td>\n",
              "      <td>9.00</td>\n",
              "      <td>208</td>\n",
              "      <td>NaN</td>\n",
              "      <td>1/01/2023 01:24</td>\n",
              "      <td>1</td>\n",
              "      <td>Nocturno</td>\n",
              "      <td>...</td>\n",
              "      <td>31489549.0</td>\n",
              "      <td>2.0</td>\n",
              "      <td>16.06111</td>\n",
              "      <td>-89.69531</td>\n",
              "      <td>PTN393</td>\n",
              "      <td>MACHAQUILAITO</td>\n",
              "      <td>SAN LUIS</td>\n",
              "      <td>PETEN</td>\n",
              "      <td>NaN</td>\n",
              "      <td>train</td>\n",
              "    </tr>\n",
              "    <tr>\n",
              "      <th>...</th>\n",
              "      <td>...</td>\n",
              "      <td>...</td>\n",
              "      <td>...</td>\n",
              "      <td>...</td>\n",
              "      <td>...</td>\n",
              "      <td>...</td>\n",
              "      <td>...</td>\n",
              "      <td>...</td>\n",
              "      <td>...</td>\n",
              "      <td>...</td>\n",
              "      <td>...</td>\n",
              "      <td>...</td>\n",
              "      <td>...</td>\n",
              "      <td>...</td>\n",
              "      <td>...</td>\n",
              "      <td>...</td>\n",
              "      <td>...</td>\n",
              "      <td>...</td>\n",
              "      <td>...</td>\n",
              "      <td>...</td>\n",
              "      <td>...</td>\n",
              "    </tr>\n",
              "    <tr>\n",
              "      <th>6621</th>\n",
              "      <td>0.00</td>\n",
              "      <td>31/01/2023 07:42</td>\n",
              "      <td>31/01/2023 07:41</td>\n",
              "      <td>0.0</td>\n",
              "      <td>0.00</td>\n",
              "      <td>541</td>\n",
              "      <td>NaN</td>\n",
              "      <td>31/12/1969 18:00</td>\n",
              "      <td>18</td>\n",
              "      <td>Tarde</td>\n",
              "      <td>...</td>\n",
              "      <td>NaN</td>\n",
              "      <td>NaN</td>\n",
              "      <td>NaN</td>\n",
              "      <td>NaN</td>\n",
              "      <td>TH</td>\n",
              "      <td>NaN</td>\n",
              "      <td>NaN</td>\n",
              "      <td>NaN</td>\n",
              "      <td>NaN</td>\n",
              "      <td>test</td>\n",
              "    </tr>\n",
              "    <tr>\n",
              "      <th>6622</th>\n",
              "      <td>11.95</td>\n",
              "      <td>31/01/2023 10:55</td>\n",
              "      <td>30/01/2023 22:46</td>\n",
              "      <td>729.0</td>\n",
              "      <td>12.00</td>\n",
              "      <td>1</td>\n",
              "      <td>41:52.5</td>\n",
              "      <td>30/01/2023 22:44</td>\n",
              "      <td>22</td>\n",
              "      <td>Nocturno</td>\n",
              "      <td>...</td>\n",
              "      <td>NaN</td>\n",
              "      <td>NaN</td>\n",
              "      <td>14.66096</td>\n",
              "      <td>-90.8305</td>\n",
              "      <td>CHM719</td>\n",
              "      <td>MIGUEL HIDALGO</td>\n",
              "      <td>CHIMALTENANGO</td>\n",
              "      <td>CHIMALTENANGO</td>\n",
              "      <td>NaN</td>\n",
              "      <td>train</td>\n",
              "    </tr>\n",
              "    <tr>\n",
              "      <th>6623</th>\n",
              "      <td>0.00</td>\n",
              "      <td>30/01/2023 23:20</td>\n",
              "      <td>30/01/2023 23:07</td>\n",
              "      <td>13.0</td>\n",
              "      <td>0.00</td>\n",
              "      <td>5</td>\n",
              "      <td>NaN</td>\n",
              "      <td>31/12/1969 18:00</td>\n",
              "      <td>18</td>\n",
              "      <td>Tarde</td>\n",
              "      <td>...</td>\n",
              "      <td>NaN</td>\n",
              "      <td>NaN</td>\n",
              "      <td>14.30691</td>\n",
              "      <td>-90.7869</td>\n",
              "      <td>ESC862</td>\n",
              "      <td>PLAZA PALMERAS</td>\n",
              "      <td>ESCUINTLA</td>\n",
              "      <td>ESCUINTLA</td>\n",
              "      <td>NaN</td>\n",
              "      <td>train</td>\n",
              "    </tr>\n",
              "    <tr>\n",
              "      <th>6624</th>\n",
              "      <td>0.00</td>\n",
              "      <td>31/01/2023 07:44</td>\n",
              "      <td>31/01/2023 07:43</td>\n",
              "      <td>1.0</td>\n",
              "      <td>0.00</td>\n",
              "      <td>517</td>\n",
              "      <td>NaN</td>\n",
              "      <td>31/12/1969 18:00</td>\n",
              "      <td>18</td>\n",
              "      <td>Tarde</td>\n",
              "      <td>...</td>\n",
              "      <td>NaN</td>\n",
              "      <td>NaN</td>\n",
              "      <td>15.31015</td>\n",
              "      <td>-91.48431</td>\n",
              "      <td>HHT348</td>\n",
              "      <td>HUEHUETENANGO VII</td>\n",
              "      <td>HUEHUETENANGO</td>\n",
              "      <td>HUEHUETENANGO</td>\n",
              "      <td>NaN</td>\n",
              "      <td>train</td>\n",
              "    </tr>\n",
              "    <tr>\n",
              "      <th>6625</th>\n",
              "      <td>0.00</td>\n",
              "      <td>31/01/2023 00:18</td>\n",
              "      <td>30/01/2023 23:21</td>\n",
              "      <td>57.0</td>\n",
              "      <td>1.00</td>\n",
              "      <td>0</td>\n",
              "      <td>NaN</td>\n",
              "      <td>30/01/2023 23:20</td>\n",
              "      <td>23</td>\n",
              "      <td>Nocturno</td>\n",
              "      <td>...</td>\n",
              "      <td>NaN</td>\n",
              "      <td>NaN</td>\n",
              "      <td>14.95904</td>\n",
              "      <td>-89.52367</td>\n",
              "      <td>ZCP583</td>\n",
              "      <td>ZACAPA</td>\n",
              "      <td>ZACAPA</td>\n",
              "      <td>ZACAPA</td>\n",
              "      <td>NaN</td>\n",
              "      <td>train</td>\n",
              "    </tr>\n",
              "  </tbody>\n",
              "</table>\n",
              "<p>6626 rows × 68 columns</p>\n",
              "</div>\n",
              "      <button class=\"colab-df-convert\" onclick=\"convertToInteractive('df-9ce29bae-d47f-4cf5-ad91-30169b9ccb87')\"\n",
              "              title=\"Convert this dataframe to an interactive table.\"\n",
              "              style=\"display:none;\">\n",
              "        \n",
              "  <svg xmlns=\"http://www.w3.org/2000/svg\" height=\"24px\"viewBox=\"0 0 24 24\"\n",
              "       width=\"24px\">\n",
              "    <path d=\"M0 0h24v24H0V0z\" fill=\"none\"/>\n",
              "    <path d=\"M18.56 5.44l.94 2.06.94-2.06 2.06-.94-2.06-.94-.94-2.06-.94 2.06-2.06.94zm-11 1L8.5 8.5l.94-2.06 2.06-.94-2.06-.94L8.5 2.5l-.94 2.06-2.06.94zm10 10l.94 2.06.94-2.06 2.06-.94-2.06-.94-.94-2.06-.94 2.06-2.06.94z\"/><path d=\"M17.41 7.96l-1.37-1.37c-.4-.4-.92-.59-1.43-.59-.52 0-1.04.2-1.43.59L10.3 9.45l-7.72 7.72c-.78.78-.78 2.05 0 2.83L4 21.41c.39.39.9.59 1.41.59.51 0 1.02-.2 1.41-.59l7.78-7.78 2.81-2.81c.8-.78.8-2.07 0-2.86zM5.41 20L4 18.59l7.72-7.72 1.47 1.35L5.41 20z\"/>\n",
              "  </svg>\n",
              "      </button>\n",
              "      \n",
              "  <style>\n",
              "    .colab-df-container {\n",
              "      display:flex;\n",
              "      flex-wrap:wrap;\n",
              "      gap: 12px;\n",
              "    }\n",
              "\n",
              "    .colab-df-convert {\n",
              "      background-color: #E8F0FE;\n",
              "      border: none;\n",
              "      border-radius: 50%;\n",
              "      cursor: pointer;\n",
              "      display: none;\n",
              "      fill: #1967D2;\n",
              "      height: 32px;\n",
              "      padding: 0 0 0 0;\n",
              "      width: 32px;\n",
              "    }\n",
              "\n",
              "    .colab-df-convert:hover {\n",
              "      background-color: #E2EBFA;\n",
              "      box-shadow: 0px 1px 2px rgba(60, 64, 67, 0.3), 0px 1px 3px 1px rgba(60, 64, 67, 0.15);\n",
              "      fill: #174EA6;\n",
              "    }\n",
              "\n",
              "    [theme=dark] .colab-df-convert {\n",
              "      background-color: #3B4455;\n",
              "      fill: #D2E3FC;\n",
              "    }\n",
              "\n",
              "    [theme=dark] .colab-df-convert:hover {\n",
              "      background-color: #434B5C;\n",
              "      box-shadow: 0px 1px 3px 1px rgba(0, 0, 0, 0.15);\n",
              "      filter: drop-shadow(0px 1px 2px rgba(0, 0, 0, 0.3));\n",
              "      fill: #FFFFFF;\n",
              "    }\n",
              "  </style>\n",
              "\n",
              "      <script>\n",
              "        const buttonEl =\n",
              "          document.querySelector('#df-9ce29bae-d47f-4cf5-ad91-30169b9ccb87 button.colab-df-convert');\n",
              "        buttonEl.style.display =\n",
              "          google.colab.kernel.accessAllowed ? 'block' : 'none';\n",
              "\n",
              "        async function convertToInteractive(key) {\n",
              "          const element = document.querySelector('#df-9ce29bae-d47f-4cf5-ad91-30169b9ccb87');\n",
              "          const dataTable =\n",
              "            await google.colab.kernel.invokeFunction('convertToInteractive',\n",
              "                                                     [key], {});\n",
              "          if (!dataTable) return;\n",
              "\n",
              "          const docLinkHtml = 'Like what you see? Visit the ' +\n",
              "            '<a target=\"_blank\" href=https://colab.research.google.com/notebooks/data_table.ipynb>data table notebook</a>'\n",
              "            + ' to learn more about interactive tables.';\n",
              "          element.innerHTML = '';\n",
              "          dataTable['output_type'] = 'display_data';\n",
              "          await google.colab.output.renderOutput(dataTable, element);\n",
              "          const docLink = document.createElement('div');\n",
              "          docLink.innerHTML = docLinkHtml;\n",
              "          element.appendChild(docLink);\n",
              "        }\n",
              "      </script>\n",
              "    </div>\n",
              "  </div>\n",
              "  "
            ]
          },
          "metadata": {},
          "execution_count": 32
        }
      ]
    },
    {
      "cell_type": "code",
      "source": [
        "X = dff.iloc [:, [3,6]]\n",
        "y = dff.iloc [:, 34]"
      ],
      "metadata": {
        "id": "JfbfilYVPwL8"
      },
      "execution_count": 37,
      "outputs": []
    },
    {
      "cell_type": "code",
      "source": [
        "y.head ()"
      ],
      "metadata": {
        "colab": {
          "base_uri": "https://localhost:8080/"
        },
        "id": "6kyhz5ArSDsk",
        "outputId": "c3ffdc77-2c93-4b80-d152-0ae8a7939c36"
      },
      "execution_count": 38,
      "outputs": [
        {
          "output_type": "execute_result",
          "data": {
            "text/plain": [
              "0    1.0\n",
              "1    4.0\n",
              "2    4.0\n",
              "3    3.0\n",
              "4    3.0\n",
              "Name: INTERNALPRIORITY, dtype: float64"
            ]
          },
          "metadata": {},
          "execution_count": 38
        }
      ]
    },
    {
      "cell_type": "code",
      "source": [],
      "metadata": {
        "id": "X1p1nn00Sm_f"
      },
      "execution_count": null,
      "outputs": []
    },
    {
      "cell_type": "code",
      "source": [
        "df.MINUTOS_DURACION_AFECTACION"
      ],
      "metadata": {
        "colab": {
          "base_uri": "https://localhost:8080/"
        },
        "id": "bL9g3-WFGnGa",
        "outputId": "ac67e8e0-2628-4576-fb74-736240ad3e9d"
      },
      "execution_count": null,
      "outputs": [
        {
          "output_type": "execute_result",
          "data": {
            "text/plain": [
              "0       489\n",
              "1       529\n",
              "2       204\n",
              "3       532\n",
              "4       532\n",
              "       ... \n",
              "6621      0\n",
              "6622    729\n",
              "6623     13\n",
              "6624      1\n",
              "6625     57\n",
              "Name: MINUTOS_DURACION_AFECTACION, Length: 6626, dtype: object"
            ]
          },
          "metadata": {},
          "execution_count": 17
        }
      ]
    },
    {
      "cell_type": "code",
      "source": [
        "mm_scaler = MinMaxScaler()"
      ],
      "metadata": {
        "id": "_MgjqcWKDNqs"
      },
      "execution_count": null,
      "outputs": []
    },
    {
      "cell_type": "code",
      "source": [
        "print(df.head())"
      ],
      "metadata": {
        "colab": {
          "base_uri": "https://localhost:8080/"
        },
        "id": "rTUOpanxIiDi",
        "outputId": "454c81bc-f89c-483f-b56b-e8a1c2e6bea2"
      },
      "execution_count": null,
      "outputs": [
        {
          "output_type": "stream",
          "name": "stdout",
          "text": [
            "   ACCUMULATEDHOLDTIME     ACTUALFINISH      ACTUALSTART  \\\n",
            "0                  0.0  1/01/2023 08:31  1/01/2023 00:22   \n",
            "1                  0.0  1/01/2023 09:22  1/01/2023 00:32   \n",
            "2                  0.0  1/01/2023 08:07  1/01/2023 04:43   \n",
            "3                  0.0  1/01/2023 13:46  1/01/2023 04:54   \n",
            "4                  0.0  1/01/2023 13:46  1/01/2023 04:54   \n",
            "\n",
            "  MINUTOS_DURACION_AFECTACION HORAS_DURACION_AFECTACION  \\\n",
            "0                         489                      8.00   \n",
            "1                         529                      9.00   \n",
            "2                         204                      3.00   \n",
            "3                         532                      9.00   \n",
            "4                         532                      9.00   \n",
            "\n",
            "   DURACION_TIEMPO_ATENCION ADJUSTEDTARGETRESOLUTIONTIME      AFFECTEDDATE  \\\n",
            "0                         3                          NaN   1/01/2023 00:19   \n",
            "1                        48                          NaN  31/12/2022 23:44   \n",
            "2                       304                          NaN  31/12/2022 23:36   \n",
            "3                       208                          NaN   1/01/2023 01:25   \n",
            "4                       208                          NaN   1/01/2023 01:24   \n",
            "\n",
            "   HORA_AFECTACION     TURNO  ... GLOBALTICKETID PMCCIIMPACT SOURCESYSID  \\\n",
            "0                0  Nocturno  ...            NaN         NaN    14.30111   \n",
            "1               23  Nocturno  ...            NaN         1.0    14.37881   \n",
            "2               23  Nocturno  ...     31489538.0         3.0    15.83373   \n",
            "3                1  Nocturno  ...     31489549.0         3.0    16.05865   \n",
            "4                1  Nocturno  ...     31489549.0         2.0    16.06111   \n",
            "\n",
            "  OWNERSYSID LOCATION LOCATION_DESCRIPTION     LOCATION_CITY LOCATION_DEPTO  \\\n",
            "0  -90.35708   SRS681            BARBERENA         BARBERENA     SANTA ROSA   \n",
            "1  -90.28575   SRS688     NUEVA SANTA ROSA  NUEVA SANTA ROSA     SANTA ROSA   \n",
            "2  -89.42787   AVP789   RANCHO JOSE Y JOSE            CHAHAL   ALTA VERAPAZ   \n",
            "3  -89.77817   PTN521         ROSA ATITLAN          SAN LUIS          PETEN   \n",
            "4  -89.69531   PTN393        MACHAQUILAITO          SAN LUIS          PETEN   \n",
            "\n",
            "   CRITICO   CASE  \n",
            "0      NaN  train  \n",
            "1      NaN  train  \n",
            "2      NaN  train  \n",
            "3      NaN  train  \n",
            "4      NaN  train  \n",
            "\n",
            "[5 rows x 68 columns]\n"
          ]
        }
      ]
    },
    {
      "cell_type": "code",
      "source": [
        "#X, y = data.data, data.target\n",
        "\n",
        "scaled_df = pd.DataFrame(df.MINUTOS_DURACION_AFECTACION, columns=df.MINUTOS_DURACION_AFECTACION)\n",
        "\n",
        "X_train, X_test, y_train, y_test = train_test_split(df,df.target,shuffle=True,test_size=0.25,random_state=6011)\n",
        "\n",
        "print(X_train.shape)\n",
        "print(X_test.shape)"
      ],
      "metadata": {
        "colab": {
          "base_uri": "https://localhost:8080/",
          "height": 356
        },
        "id": "fsXx0HWXHW8D",
        "outputId": "3e4c2273-af4c-4e16-c408-271cc173b530"
      },
      "execution_count": null,
      "outputs": [
        {
          "output_type": "error",
          "ename": "AttributeError",
          "evalue": "ignored",
          "traceback": [
            "\u001b[0;31m---------------------------------------------------------------------------\u001b[0m",
            "\u001b[0;31mAttributeError\u001b[0m                            Traceback (most recent call last)",
            "\u001b[0;32m<ipython-input-20-d2a3cc4b5472>\u001b[0m in \u001b[0;36m<cell line: 5>\u001b[0;34m()\u001b[0m\n\u001b[1;32m      3\u001b[0m \u001b[0mscaled_df\u001b[0m \u001b[0;34m=\u001b[0m \u001b[0mpd\u001b[0m\u001b[0;34m.\u001b[0m\u001b[0mDataFrame\u001b[0m\u001b[0;34m(\u001b[0m\u001b[0mdf\u001b[0m\u001b[0;34m.\u001b[0m\u001b[0mMINUTOS_DURACION_AFECTACION\u001b[0m\u001b[0;34m,\u001b[0m \u001b[0mcolumns\u001b[0m\u001b[0;34m=\u001b[0m\u001b[0mdf\u001b[0m\u001b[0;34m.\u001b[0m\u001b[0mMINUTOS_DURACION_AFECTACION\u001b[0m\u001b[0;34m)\u001b[0m\u001b[0;34m\u001b[0m\u001b[0;34m\u001b[0m\u001b[0m\n\u001b[1;32m      4\u001b[0m \u001b[0;34m\u001b[0m\u001b[0m\n\u001b[0;32m----> 5\u001b[0;31m \u001b[0mX_train\u001b[0m\u001b[0;34m,\u001b[0m \u001b[0mX_test\u001b[0m\u001b[0;34m,\u001b[0m \u001b[0my_train\u001b[0m\u001b[0;34m,\u001b[0m \u001b[0my_test\u001b[0m \u001b[0;34m=\u001b[0m \u001b[0mtrain_test_split\u001b[0m\u001b[0;34m(\u001b[0m\u001b[0mdf\u001b[0m\u001b[0;34m,\u001b[0m\u001b[0mdf\u001b[0m\u001b[0;34m.\u001b[0m\u001b[0mtarget\u001b[0m\u001b[0;34m,\u001b[0m\u001b[0mshuffle\u001b[0m\u001b[0;34m=\u001b[0m\u001b[0;32mTrue\u001b[0m\u001b[0;34m,\u001b[0m\u001b[0mtest_size\u001b[0m\u001b[0;34m=\u001b[0m\u001b[0;36m0.25\u001b[0m\u001b[0;34m,\u001b[0m\u001b[0mrandom_state\u001b[0m\u001b[0;34m=\u001b[0m\u001b[0;36m6011\u001b[0m\u001b[0;34m)\u001b[0m\u001b[0;34m\u001b[0m\u001b[0;34m\u001b[0m\u001b[0m\n\u001b[0m\u001b[1;32m      6\u001b[0m \u001b[0;34m\u001b[0m\u001b[0m\n\u001b[1;32m      7\u001b[0m \u001b[0mprint\u001b[0m\u001b[0;34m(\u001b[0m\u001b[0mX_train\u001b[0m\u001b[0;34m.\u001b[0m\u001b[0mshape\u001b[0m\u001b[0;34m)\u001b[0m\u001b[0;34m\u001b[0m\u001b[0;34m\u001b[0m\u001b[0m\n",
            "\u001b[0;32m/usr/local/lib/python3.10/dist-packages/pandas/core/generic.py\u001b[0m in \u001b[0;36m__getattr__\u001b[0;34m(self, name)\u001b[0m\n\u001b[1;32m   5900\u001b[0m         ):\n\u001b[1;32m   5901\u001b[0m             \u001b[0;32mreturn\u001b[0m \u001b[0mself\u001b[0m\u001b[0;34m[\u001b[0m\u001b[0mname\u001b[0m\u001b[0;34m]\u001b[0m\u001b[0;34m\u001b[0m\u001b[0;34m\u001b[0m\u001b[0m\n\u001b[0;32m-> 5902\u001b[0;31m         \u001b[0;32mreturn\u001b[0m \u001b[0mobject\u001b[0m\u001b[0;34m.\u001b[0m\u001b[0m__getattribute__\u001b[0m\u001b[0;34m(\u001b[0m\u001b[0mself\u001b[0m\u001b[0;34m,\u001b[0m \u001b[0mname\u001b[0m\u001b[0;34m)\u001b[0m\u001b[0;34m\u001b[0m\u001b[0;34m\u001b[0m\u001b[0m\n\u001b[0m\u001b[1;32m   5903\u001b[0m \u001b[0;34m\u001b[0m\u001b[0m\n\u001b[1;32m   5904\u001b[0m     \u001b[0;32mdef\u001b[0m \u001b[0m__setattr__\u001b[0m\u001b[0;34m(\u001b[0m\u001b[0mself\u001b[0m\u001b[0;34m,\u001b[0m \u001b[0mname\u001b[0m\u001b[0;34m:\u001b[0m \u001b[0mstr\u001b[0m\u001b[0;34m,\u001b[0m \u001b[0mvalue\u001b[0m\u001b[0;34m)\u001b[0m \u001b[0;34m->\u001b[0m \u001b[0;32mNone\u001b[0m\u001b[0;34m:\u001b[0m\u001b[0;34m\u001b[0m\u001b[0;34m\u001b[0m\u001b[0m\n",
            "\u001b[0;31mAttributeError\u001b[0m: 'DataFrame' object has no attribute 'target'"
          ]
        }
      ]
    },
    {
      "cell_type": "code",
      "source": [
        "col_name = 'MINUTOS_DURACION_AFECTACION'\n",
        "trans_col_name = 'MINUTOS_DURACION_AFECTACION_mm'\n",
        "X_train[trans_col_name]= mm_scaler.fit_transform(X_train[[col_name]])\n",
        "X_train_99[trans_col_name]= mm_scaler.fit_transform(X_train_99[[col_name]])"
      ],
      "metadata": {
        "colab": {
          "base_uri": "https://localhost:8080/",
          "height": 217
        },
        "id": "Ud3hBwH3DsWD",
        "outputId": "02381797-6f55-436e-d5d3-5b8f71134d35"
      },
      "execution_count": null,
      "outputs": [
        {
          "output_type": "error",
          "ename": "NameError",
          "evalue": "ignored",
          "traceback": [
            "\u001b[0;31m---------------------------------------------------------------------------\u001b[0m",
            "\u001b[0;31mNameError\u001b[0m                                 Traceback (most recent call last)",
            "\u001b[0;32m<ipython-input-9-85bf64d06532>\u001b[0m in \u001b[0;36m<cell line: 3>\u001b[0;34m()\u001b[0m\n\u001b[1;32m      1\u001b[0m \u001b[0mcol_name\u001b[0m \u001b[0;34m=\u001b[0m \u001b[0;34m'MINUTOS_DURACION_AFECTACION'\u001b[0m\u001b[0;34m\u001b[0m\u001b[0;34m\u001b[0m\u001b[0m\n\u001b[1;32m      2\u001b[0m \u001b[0mtrans_col_name\u001b[0m \u001b[0;34m=\u001b[0m \u001b[0;34m'MINUTOS_DURACION_AFECTACION_mm'\u001b[0m\u001b[0;34m\u001b[0m\u001b[0;34m\u001b[0m\u001b[0m\n\u001b[0;32m----> 3\u001b[0;31m \u001b[0mX_train\u001b[0m\u001b[0;34m[\u001b[0m\u001b[0mtrans_col_name\u001b[0m\u001b[0;34m]\u001b[0m\u001b[0;34m=\u001b[0m \u001b[0mmm_scaler\u001b[0m\u001b[0;34m.\u001b[0m\u001b[0mfit_transform\u001b[0m\u001b[0;34m(\u001b[0m\u001b[0mX_train\u001b[0m\u001b[0;34m[\u001b[0m\u001b[0;34m[\u001b[0m\u001b[0mcol_name\u001b[0m\u001b[0;34m]\u001b[0m\u001b[0;34m]\u001b[0m\u001b[0;34m)\u001b[0m\u001b[0;34m\u001b[0m\u001b[0;34m\u001b[0m\u001b[0m\n\u001b[0m\u001b[1;32m      4\u001b[0m \u001b[0mX_train_99\u001b[0m\u001b[0;34m[\u001b[0m\u001b[0mtrans_col_name\u001b[0m\u001b[0;34m]\u001b[0m\u001b[0;34m=\u001b[0m \u001b[0mmm_scaler\u001b[0m\u001b[0;34m.\u001b[0m\u001b[0mfit_transform\u001b[0m\u001b[0;34m(\u001b[0m\u001b[0mX_train_99\u001b[0m\u001b[0;34m[\u001b[0m\u001b[0;34m[\u001b[0m\u001b[0mcol_name\u001b[0m\u001b[0;34m]\u001b[0m\u001b[0;34m]\u001b[0m\u001b[0;34m)\u001b[0m\u001b[0;34m\u001b[0m\u001b[0;34m\u001b[0m\u001b[0m\n",
            "\u001b[0;31mNameError\u001b[0m: name 'X_train' is not defined"
          ]
        }
      ]
    },
    {
      "cell_type": "code",
      "source": [
        "fig, axes = plt.subplots(ncols=2, figsize=(16,6))\n",
        "sns.histplot(data=X_train, x=trans_col_name, ax=axes[0], kde=True)\n",
        "# axes[0].set_title('Histogram with whole training data')\n",
        "sns.histplot(data=X_train_99, x=trans_col_name, ax=axes[1],kde=True)\n",
        "# axes[1].set_title('Histogram of training data with no outliers (99 percentile)')"
      ],
      "metadata": {
        "id": "-KZr6FWuDvyt"
      },
      "execution_count": null,
      "outputs": []
    },
    {
      "cell_type": "code",
      "source": [
        "df.head()"
      ],
      "metadata": {
        "colab": {
          "base_uri": "https://localhost:8080/",
          "height": 386
        },
        "id": "sisQb5kkEiXV",
        "outputId": "827eaf31-1e79-49cd-dbd6-09da6dd8701b"
      },
      "execution_count": null,
      "outputs": [
        {
          "output_type": "execute_result",
          "data": {
            "text/plain": [
              "   ACCUMULATEDHOLDTIME     ACTUALFINISH      ACTUALSTART  \\\n",
              "0                  0.0  1/01/2023 08:31  1/01/2023 00:22   \n",
              "1                  0.0  1/01/2023 09:22  1/01/2023 00:32   \n",
              "2                  0.0  1/01/2023 08:07  1/01/2023 04:43   \n",
              "3                  0.0  1/01/2023 13:46  1/01/2023 04:54   \n",
              "4                  0.0  1/01/2023 13:46  1/01/2023 04:54   \n",
              "\n",
              "  MINUTOS_DURACION_AFECTACION HORAS_DURACION_AFECTACION  \\\n",
              "0                         489                      8.00   \n",
              "1                         529                      9.00   \n",
              "2                         204                      3.00   \n",
              "3                         532                      9.00   \n",
              "4                         532                      9.00   \n",
              "\n",
              "   DURACION_TIEMPO_ATENCION ADJUSTEDTARGETRESOLUTIONTIME      AFFECTEDDATE  \\\n",
              "0                         3                          NaN   1/01/2023 00:19   \n",
              "1                        48                          NaN  31/12/2022 23:44   \n",
              "2                       304                          NaN  31/12/2022 23:36   \n",
              "3                       208                          NaN   1/01/2023 01:25   \n",
              "4                       208                          NaN   1/01/2023 01:24   \n",
              "\n",
              "   HORA_AFECTACION     TURNO  ... GLOBALTICKETID PMCCIIMPACT SOURCESYSID  \\\n",
              "0                0  Nocturno  ...            NaN         NaN    14.30111   \n",
              "1               23  Nocturno  ...            NaN         1.0    14.37881   \n",
              "2               23  Nocturno  ...     31489538.0         3.0    15.83373   \n",
              "3                1  Nocturno  ...     31489549.0         3.0    16.05865   \n",
              "4                1  Nocturno  ...     31489549.0         2.0    16.06111   \n",
              "\n",
              "  OWNERSYSID LOCATION LOCATION_DESCRIPTION     LOCATION_CITY LOCATION_DEPTO  \\\n",
              "0  -90.35708   SRS681            BARBERENA         BARBERENA     SANTA ROSA   \n",
              "1  -90.28575   SRS688     NUEVA SANTA ROSA  NUEVA SANTA ROSA     SANTA ROSA   \n",
              "2  -89.42787   AVP789   RANCHO JOSE Y JOSE            CHAHAL   ALTA VERAPAZ   \n",
              "3  -89.77817   PTN521         ROSA ATITLAN          SAN LUIS          PETEN   \n",
              "4  -89.69531   PTN393        MACHAQUILAITO          SAN LUIS          PETEN   \n",
              "\n",
              "   CRITICO   CASE  \n",
              "0      NaN  train  \n",
              "1      NaN  train  \n",
              "2      NaN  train  \n",
              "3      NaN  train  \n",
              "4      NaN  train  \n",
              "\n",
              "[5 rows x 68 columns]"
            ],
            "text/html": [
              "\n",
              "  <div id=\"df-af1cbd91-e850-48d8-b933-c6dc94661be4\">\n",
              "    <div class=\"colab-df-container\">\n",
              "      <div>\n",
              "<style scoped>\n",
              "    .dataframe tbody tr th:only-of-type {\n",
              "        vertical-align: middle;\n",
              "    }\n",
              "\n",
              "    .dataframe tbody tr th {\n",
              "        vertical-align: top;\n",
              "    }\n",
              "\n",
              "    .dataframe thead th {\n",
              "        text-align: right;\n",
              "    }\n",
              "</style>\n",
              "<table border=\"1\" class=\"dataframe\">\n",
              "  <thead>\n",
              "    <tr style=\"text-align: right;\">\n",
              "      <th></th>\n",
              "      <th>ACCUMULATEDHOLDTIME</th>\n",
              "      <th>ACTUALFINISH</th>\n",
              "      <th>ACTUALSTART</th>\n",
              "      <th>MINUTOS_DURACION_AFECTACION</th>\n",
              "      <th>HORAS_DURACION_AFECTACION</th>\n",
              "      <th>DURACION_TIEMPO_ATENCION</th>\n",
              "      <th>ADJUSTEDTARGETRESOLUTIONTIME</th>\n",
              "      <th>AFFECTEDDATE</th>\n",
              "      <th>HORA_AFECTACION</th>\n",
              "      <th>TURNO</th>\n",
              "      <th>...</th>\n",
              "      <th>GLOBALTICKETID</th>\n",
              "      <th>PMCCIIMPACT</th>\n",
              "      <th>SOURCESYSID</th>\n",
              "      <th>OWNERSYSID</th>\n",
              "      <th>LOCATION</th>\n",
              "      <th>LOCATION_DESCRIPTION</th>\n",
              "      <th>LOCATION_CITY</th>\n",
              "      <th>LOCATION_DEPTO</th>\n",
              "      <th>CRITICO</th>\n",
              "      <th>CASE</th>\n",
              "    </tr>\n",
              "  </thead>\n",
              "  <tbody>\n",
              "    <tr>\n",
              "      <th>0</th>\n",
              "      <td>0.0</td>\n",
              "      <td>1/01/2023 08:31</td>\n",
              "      <td>1/01/2023 00:22</td>\n",
              "      <td>489</td>\n",
              "      <td>8.00</td>\n",
              "      <td>3</td>\n",
              "      <td>NaN</td>\n",
              "      <td>1/01/2023 00:19</td>\n",
              "      <td>0</td>\n",
              "      <td>Nocturno</td>\n",
              "      <td>...</td>\n",
              "      <td>NaN</td>\n",
              "      <td>NaN</td>\n",
              "      <td>14.30111</td>\n",
              "      <td>-90.35708</td>\n",
              "      <td>SRS681</td>\n",
              "      <td>BARBERENA</td>\n",
              "      <td>BARBERENA</td>\n",
              "      <td>SANTA ROSA</td>\n",
              "      <td>NaN</td>\n",
              "      <td>train</td>\n",
              "    </tr>\n",
              "    <tr>\n",
              "      <th>1</th>\n",
              "      <td>0.0</td>\n",
              "      <td>1/01/2023 09:22</td>\n",
              "      <td>1/01/2023 00:32</td>\n",
              "      <td>529</td>\n",
              "      <td>9.00</td>\n",
              "      <td>48</td>\n",
              "      <td>NaN</td>\n",
              "      <td>31/12/2022 23:44</td>\n",
              "      <td>23</td>\n",
              "      <td>Nocturno</td>\n",
              "      <td>...</td>\n",
              "      <td>NaN</td>\n",
              "      <td>1.0</td>\n",
              "      <td>14.37881</td>\n",
              "      <td>-90.28575</td>\n",
              "      <td>SRS688</td>\n",
              "      <td>NUEVA SANTA ROSA</td>\n",
              "      <td>NUEVA SANTA ROSA</td>\n",
              "      <td>SANTA ROSA</td>\n",
              "      <td>NaN</td>\n",
              "      <td>train</td>\n",
              "    </tr>\n",
              "    <tr>\n",
              "      <th>2</th>\n",
              "      <td>0.0</td>\n",
              "      <td>1/01/2023 08:07</td>\n",
              "      <td>1/01/2023 04:43</td>\n",
              "      <td>204</td>\n",
              "      <td>3.00</td>\n",
              "      <td>304</td>\n",
              "      <td>NaN</td>\n",
              "      <td>31/12/2022 23:36</td>\n",
              "      <td>23</td>\n",
              "      <td>Nocturno</td>\n",
              "      <td>...</td>\n",
              "      <td>31489538.0</td>\n",
              "      <td>3.0</td>\n",
              "      <td>15.83373</td>\n",
              "      <td>-89.42787</td>\n",
              "      <td>AVP789</td>\n",
              "      <td>RANCHO JOSE Y JOSE</td>\n",
              "      <td>CHAHAL</td>\n",
              "      <td>ALTA VERAPAZ</td>\n",
              "      <td>NaN</td>\n",
              "      <td>train</td>\n",
              "    </tr>\n",
              "    <tr>\n",
              "      <th>3</th>\n",
              "      <td>0.0</td>\n",
              "      <td>1/01/2023 13:46</td>\n",
              "      <td>1/01/2023 04:54</td>\n",
              "      <td>532</td>\n",
              "      <td>9.00</td>\n",
              "      <td>208</td>\n",
              "      <td>NaN</td>\n",
              "      <td>1/01/2023 01:25</td>\n",
              "      <td>1</td>\n",
              "      <td>Nocturno</td>\n",
              "      <td>...</td>\n",
              "      <td>31489549.0</td>\n",
              "      <td>3.0</td>\n",
              "      <td>16.05865</td>\n",
              "      <td>-89.77817</td>\n",
              "      <td>PTN521</td>\n",
              "      <td>ROSA ATITLAN</td>\n",
              "      <td>SAN LUIS</td>\n",
              "      <td>PETEN</td>\n",
              "      <td>NaN</td>\n",
              "      <td>train</td>\n",
              "    </tr>\n",
              "    <tr>\n",
              "      <th>4</th>\n",
              "      <td>0.0</td>\n",
              "      <td>1/01/2023 13:46</td>\n",
              "      <td>1/01/2023 04:54</td>\n",
              "      <td>532</td>\n",
              "      <td>9.00</td>\n",
              "      <td>208</td>\n",
              "      <td>NaN</td>\n",
              "      <td>1/01/2023 01:24</td>\n",
              "      <td>1</td>\n",
              "      <td>Nocturno</td>\n",
              "      <td>...</td>\n",
              "      <td>31489549.0</td>\n",
              "      <td>2.0</td>\n",
              "      <td>16.06111</td>\n",
              "      <td>-89.69531</td>\n",
              "      <td>PTN393</td>\n",
              "      <td>MACHAQUILAITO</td>\n",
              "      <td>SAN LUIS</td>\n",
              "      <td>PETEN</td>\n",
              "      <td>NaN</td>\n",
              "      <td>train</td>\n",
              "    </tr>\n",
              "  </tbody>\n",
              "</table>\n",
              "<p>5 rows × 68 columns</p>\n",
              "</div>\n",
              "      <button class=\"colab-df-convert\" onclick=\"convertToInteractive('df-af1cbd91-e850-48d8-b933-c6dc94661be4')\"\n",
              "              title=\"Convert this dataframe to an interactive table.\"\n",
              "              style=\"display:none;\">\n",
              "        \n",
              "  <svg xmlns=\"http://www.w3.org/2000/svg\" height=\"24px\"viewBox=\"0 0 24 24\"\n",
              "       width=\"24px\">\n",
              "    <path d=\"M0 0h24v24H0V0z\" fill=\"none\"/>\n",
              "    <path d=\"M18.56 5.44l.94 2.06.94-2.06 2.06-.94-2.06-.94-.94-2.06-.94 2.06-2.06.94zm-11 1L8.5 8.5l.94-2.06 2.06-.94-2.06-.94L8.5 2.5l-.94 2.06-2.06.94zm10 10l.94 2.06.94-2.06 2.06-.94-2.06-.94-.94-2.06-.94 2.06-2.06.94z\"/><path d=\"M17.41 7.96l-1.37-1.37c-.4-.4-.92-.59-1.43-.59-.52 0-1.04.2-1.43.59L10.3 9.45l-7.72 7.72c-.78.78-.78 2.05 0 2.83L4 21.41c.39.39.9.59 1.41.59.51 0 1.02-.2 1.41-.59l7.78-7.78 2.81-2.81c.8-.78.8-2.07 0-2.86zM5.41 20L4 18.59l7.72-7.72 1.47 1.35L5.41 20z\"/>\n",
              "  </svg>\n",
              "      </button>\n",
              "      \n",
              "  <style>\n",
              "    .colab-df-container {\n",
              "      display:flex;\n",
              "      flex-wrap:wrap;\n",
              "      gap: 12px;\n",
              "    }\n",
              "\n",
              "    .colab-df-convert {\n",
              "      background-color: #E8F0FE;\n",
              "      border: none;\n",
              "      border-radius: 50%;\n",
              "      cursor: pointer;\n",
              "      display: none;\n",
              "      fill: #1967D2;\n",
              "      height: 32px;\n",
              "      padding: 0 0 0 0;\n",
              "      width: 32px;\n",
              "    }\n",
              "\n",
              "    .colab-df-convert:hover {\n",
              "      background-color: #E2EBFA;\n",
              "      box-shadow: 0px 1px 2px rgba(60, 64, 67, 0.3), 0px 1px 3px 1px rgba(60, 64, 67, 0.15);\n",
              "      fill: #174EA6;\n",
              "    }\n",
              "\n",
              "    [theme=dark] .colab-df-convert {\n",
              "      background-color: #3B4455;\n",
              "      fill: #D2E3FC;\n",
              "    }\n",
              "\n",
              "    [theme=dark] .colab-df-convert:hover {\n",
              "      background-color: #434B5C;\n",
              "      box-shadow: 0px 1px 3px 1px rgba(0, 0, 0, 0.15);\n",
              "      filter: drop-shadow(0px 1px 2px rgba(0, 0, 0, 0.3));\n",
              "      fill: #FFFFFF;\n",
              "    }\n",
              "  </style>\n",
              "\n",
              "      <script>\n",
              "        const buttonEl =\n",
              "          document.querySelector('#df-af1cbd91-e850-48d8-b933-c6dc94661be4 button.colab-df-convert');\n",
              "        buttonEl.style.display =\n",
              "          google.colab.kernel.accessAllowed ? 'block' : 'none';\n",
              "\n",
              "        async function convertToInteractive(key) {\n",
              "          const element = document.querySelector('#df-af1cbd91-e850-48d8-b933-c6dc94661be4');\n",
              "          const dataTable =\n",
              "            await google.colab.kernel.invokeFunction('convertToInteractive',\n",
              "                                                     [key], {});\n",
              "          if (!dataTable) return;\n",
              "\n",
              "          const docLinkHtml = 'Like what you see? Visit the ' +\n",
              "            '<a target=\"_blank\" href=https://colab.research.google.com/notebooks/data_table.ipynb>data table notebook</a>'\n",
              "            + ' to learn more about interactive tables.';\n",
              "          element.innerHTML = '';\n",
              "          dataTable['output_type'] = 'display_data';\n",
              "          await google.colab.output.renderOutput(dataTable, element);\n",
              "          const docLink = document.createElement('div');\n",
              "          docLink.innerHTML = docLinkHtml;\n",
              "          element.appendChild(docLink);\n",
              "        }\n",
              "      </script>\n",
              "    </div>\n",
              "  </div>\n",
              "  "
            ]
          },
          "metadata": {},
          "execution_count": 6
        }
      ]
    }
  ],
  "metadata": {
    "colab": {
      "provenance": [],
      "include_colab_link": true
    },
    "kernelspec": {
      "display_name": "Python 3",
      "name": "python3"
    },
    "language_info": {
      "name": "python"
    }
  },
  "nbformat": 4,
  "nbformat_minor": 0
}